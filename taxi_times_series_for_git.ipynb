{
 "cells": [
  {
   "cell_type": "markdown",
   "metadata": {
    "toc": true
   },
   "source": [
    "<h1>Содержание<span class=\"tocSkip\"></span></h1>\n",
    "<div class=\"toc\"><ul class=\"toc-item\"><li><span><a href=\"#Предобработка-данных\" data-toc-modified-id=\"Предобработка-данных-1\"><span class=\"toc-item-num\">1&nbsp;&nbsp;</span>Предобработка данных</a></span></li><li><span><a href=\"#Анализ\" data-toc-modified-id=\"Анализ-2\"><span class=\"toc-item-num\">2&nbsp;&nbsp;</span>Анализ</a></span></li><li><span><a href=\"#Обучение-моделей\" data-toc-modified-id=\"Обучение-моделей-3\"><span class=\"toc-item-num\">3&nbsp;&nbsp;</span>Обучение моделей</a></span><ul class=\"toc-item\"><li><span><a href=\"#LinearRegression\" data-toc-modified-id=\"LinearRegression-3.1\"><span class=\"toc-item-num\">3.1&nbsp;&nbsp;</span>LinearRegression</a></span></li><li><span><a href=\"#LGBMRegressor\" data-toc-modified-id=\"LGBMRegressor-3.2\"><span class=\"toc-item-num\">3.2&nbsp;&nbsp;</span>LGBMRegressor</a></span></li><li><span><a href=\"#LGBMModel\" data-toc-modified-id=\"LGBMModel-3.3\"><span class=\"toc-item-num\">3.3&nbsp;&nbsp;</span>LGBMModel</a></span></li><li><span><a href=\"#SGDRegressor\" data-toc-modified-id=\"SGDRegressor-3.4\"><span class=\"toc-item-num\">3.4&nbsp;&nbsp;</span>SGDRegressor</a></span></li><li><span><a href=\"#Ridge\" data-toc-modified-id=\"Ridge-3.5\"><span class=\"toc-item-num\">3.5&nbsp;&nbsp;</span>Ridge</a></span></li><li><span><a href=\"#DecisionTreeRegressor\" data-toc-modified-id=\"DecisionTreeRegressor-3.6\"><span class=\"toc-item-num\">3.6&nbsp;&nbsp;</span>DecisionTreeRegressor</a></span></li><li><span><a href=\"#RandomForestRegressor\" data-toc-modified-id=\"RandomForestRegressor-3.7\"><span class=\"toc-item-num\">3.7&nbsp;&nbsp;</span>RandomForestRegressor</a></span></li></ul></li><li><span><a href=\"#Тестирование\" data-toc-modified-id=\"Тестирование-4\"><span class=\"toc-item-num\">4&nbsp;&nbsp;</span>Тестирование</a></span></li><li><span><a href=\"#Проверка-на-адекватность\" data-toc-modified-id=\"Проверка-на-адекватность-5\"><span class=\"toc-item-num\">5&nbsp;&nbsp;</span>Проверка на адекватность</a></span></li><li><span><a href=\"#Выводы\" data-toc-modified-id=\"Выводы-6\"><span class=\"toc-item-num\">6&nbsp;&nbsp;</span>Выводы</a></span></li><li><span><a href=\"#Чек-лист-проверки\" data-toc-modified-id=\"Чек-лист-проверки-7\"><span class=\"toc-item-num\">7&nbsp;&nbsp;</span>Чек-лист проверки</a></span></li></ul></div>"
   ]
  },
  {
   "cell_type": "markdown",
   "metadata": {},
   "source": [
    "#  Цели и задачи проекта"
   ]
  },
  {
   "cell_type": "markdown",
   "metadata": {},
   "source": [
    "Цель прокта: для задачи оптимизации работы сервиса на основе исторических данных о заказах такси из аэропортов построить модель прогнозирования количества заказов такси на следующий час со средней ошибкой не более 48 заказов."
   ]
  },
  {
   "cell_type": "markdown",
   "metadata": {},
   "source": [
    "Задачи проекта:\n",
    "\n",
    "1. Провести предобработку данных\n",
    "\n",
    "2. Провести исследовательский анализ данных\n",
    "\n",
    "3. Подготовить данные для обучения моделей\n",
    "\n",
    "4. Построить несколько моделей и подобрать минимизирующие RMSE гиперпараметры\n",
    "\n",
    "5. На основе метрики RMSE выбрать лучшую модель\n",
    "\n",
    "6. Протестировать модель на тестовой выборке\n",
    "\n",
    "7. Проверить модель на адекватность"
   ]
  },
  {
   "cell_type": "markdown",
   "metadata": {},
   "source": [
    "# Описание даных"
   ]
  },
  {
   "cell_type": "markdown",
   "metadata": {},
   "source": [
    "Признаки\n",
    "\n",
    "`datetime` - дата и время с интервалом в 10 минут\n",
    "\n",
    "Целевой признак\n",
    "\n",
    "`num_orders` - количество заказов за временной интервал"
   ]
  },
  {
   "cell_type": "markdown",
   "metadata": {},
   "source": [
    "## Предобработка данных"
   ]
  },
  {
   "cell_type": "code",
   "execution_count": 53,
   "metadata": {},
   "outputs": [
    {
     "data": {
      "text/html": [
       "<style>.container { width:80% !important; }</style>"
      ],
      "text/plain": [
       "<IPython.core.display.HTML object>"
      ]
     },
     "metadata": {},
     "output_type": "display_data"
    }
   ],
   "source": [
    "from IPython.core.display import display, HTML\n",
    "display(HTML(\"<style>.container { width:80% !important; }</style>\"))"
   ]
  },
  {
   "cell_type": "code",
   "execution_count": 54,
   "metadata": {},
   "outputs": [],
   "source": [
    "import pandas as pd\n",
    "import numpy as np \n",
    "from matplotlib import pyplot as plt\n",
    "from statsmodels.graphics import tsaplots\n",
    "from statsmodels.tsa.stattools import adfuller\n",
    "from statsmodels.tsa.seasonal import seasonal_decompose\n",
    "\n",
    "from sklearn.model_selection import train_test_split\n",
    "from sklearn.metrics import mean_squared_error\n",
    "from sklearn.preprocessing import StandardScaler\n",
    "  \n",
    "from sklearn.linear_model import LinearRegression, SGDRegressor, Ridge\n",
    "from sklearn.ensemble import RandomForestRegressor\n",
    "from sklearn.tree import DecisionTreeRegressor\n",
    "import lightgbm as lgb\n",
    "import optuna \n",
    "\n",
    "from tqdm import tqdm"
   ]
  },
  {
   "cell_type": "code",
   "execution_count": 55,
   "metadata": {},
   "outputs": [
    {
     "data": {
      "text/html": [
       "<div>\n",
       "<style scoped>\n",
       "    .dataframe tbody tr th:only-of-type {\n",
       "        vertical-align: middle;\n",
       "    }\n",
       "\n",
       "    .dataframe tbody tr th {\n",
       "        vertical-align: top;\n",
       "    }\n",
       "\n",
       "    .dataframe thead th {\n",
       "        text-align: right;\n",
       "    }\n",
       "</style>\n",
       "<table border=\"1\" class=\"dataframe\">\n",
       "  <thead>\n",
       "    <tr style=\"text-align: right;\">\n",
       "      <th></th>\n",
       "      <th>num_orders</th>\n",
       "    </tr>\n",
       "    <tr>\n",
       "      <th>datetime</th>\n",
       "      <th></th>\n",
       "    </tr>\n",
       "  </thead>\n",
       "  <tbody>\n",
       "    <tr>\n",
       "      <th>2018-08-31 23:10:00</th>\n",
       "      <td>32</td>\n",
       "    </tr>\n",
       "    <tr>\n",
       "      <th>2018-08-31 23:20:00</th>\n",
       "      <td>24</td>\n",
       "    </tr>\n",
       "    <tr>\n",
       "      <th>2018-08-31 23:30:00</th>\n",
       "      <td>27</td>\n",
       "    </tr>\n",
       "    <tr>\n",
       "      <th>2018-08-31 23:40:00</th>\n",
       "      <td>39</td>\n",
       "    </tr>\n",
       "    <tr>\n",
       "      <th>2018-08-31 23:50:00</th>\n",
       "      <td>53</td>\n",
       "    </tr>\n",
       "  </tbody>\n",
       "</table>\n",
       "</div>"
      ],
      "text/plain": [
       "                     num_orders\n",
       "datetime                       \n",
       "2018-08-31 23:10:00          32\n",
       "2018-08-31 23:20:00          24\n",
       "2018-08-31 23:30:00          27\n",
       "2018-08-31 23:40:00          39\n",
       "2018-08-31 23:50:00          53"
      ]
     },
     "execution_count": 55,
     "metadata": {},
     "output_type": "execute_result"
    }
   ],
   "source": [
    "try:\n",
    "    df = pd.read_csv('taxi.csv', index_col=[0], parse_dates=[0])\n",
    "except:\n",
    "    df = pd.read_csv('https://code.s3.yandex.net/datasets/taxi.csv', index_col=[0], parse_dates=[0])\n",
    "df.tail()"
   ]
  },
  {
   "cell_type": "markdown",
   "metadata": {},
   "source": [
    "## Анализ"
   ]
  },
  {
   "cell_type": "code",
   "execution_count": 56,
   "metadata": {},
   "outputs": [
    {
     "data": {
      "text/plain": [
       "True"
      ]
     },
     "execution_count": 56,
     "metadata": {},
     "output_type": "execute_result"
    }
   ],
   "source": [
    "# проверка данных на монотонность\n",
    "df.index.is_monotonic"
   ]
  },
  {
   "cell_type": "code",
   "execution_count": 57,
   "metadata": {},
   "outputs": [
    {
     "data": {
      "text/plain": [
       "num_orders    0\n",
       "dtype: int64"
      ]
     },
     "execution_count": 57,
     "metadata": {},
     "output_type": "execute_result"
    }
   ],
   "source": [
    "# проверка наличия пропусков\n",
    "df.isna().sum()"
   ]
  },
  {
   "cell_type": "code",
   "execution_count": 58,
   "metadata": {},
   "outputs": [],
   "source": [
    "# ресемплируем данные в диапазон по 1 часу (т к прогнозирование требуется на следующий час)\n",
    "df = df.resample('1H').sum()"
   ]
  },
  {
   "cell_type": "code",
   "execution_count": 59,
   "metadata": {},
   "outputs": [
    {
     "data": {
      "image/png": "[encoded data removed]",
      "text/plain": [
       "<Figure size 864x360 with 1 Axes>"
      ]
     },
     "metadata": {
      "needs_background": "light"
     },
     "output_type": "display_data"
    }
   ],
   "source": [
    "# распределение количества заказов по датам\n",
    "df.sort_index(inplace=True)\n",
    "df.plot(figsize=(12, 5))\n",
    "plt.title('Динамика заказов такси за март-август 2018г.', size=15)\n",
    "plt.xlabel('Месяц', size=14)\n",
    "plt.ylabel('Кол-во заказов в час', size=14)\n",
    "plt.show()"
   ]
  },
  {
   "cell_type": "code",
   "execution_count": 60,
   "metadata": {},
   "outputs": [
    {
     "data": {
      "text/plain": [
       "count    4416.000000\n",
       "mean       84.422781\n",
       "std        45.023853\n",
       "min         0.000000\n",
       "25%        54.000000\n",
       "50%        78.000000\n",
       "75%       107.000000\n",
       "max       462.000000\n",
       "Name: num_orders, dtype: float64"
      ]
     },
     "execution_count": 60,
     "metadata": {},
     "output_type": "execute_result"
    }
   ],
   "source": [
    "# описательные статистики количества заказов\n",
    "df['num_orders'].describe()"
   ]
  },
  {
   "cell_type": "code",
   "execution_count": 61,
   "metadata": {},
   "outputs": [
    {
     "data": {
      "image/png": "[encoded data removed]",
      "text/plain": [
       "<Figure size 576x360 with 1 Axes>"
      ]
     },
     "metadata": {
      "needs_background": "light"
     },
     "output_type": "display_data"
    }
   ],
   "source": [
    "# распределение количества заказов\n",
    "df['num_orders'].hist(figsize=(8, 5), bins=120)\n",
    "plt.title('Распределение количества заказов в час', size=15)\n",
    "plt.xlabel('Частота', size=14)\n",
    "plt.ylabel('Кол-во заказов в час', size=14)\n",
    "plt.show()"
   ]
  },
  {
   "cell_type": "code",
   "execution_count": 62,
   "metadata": {},
   "outputs": [
    {
     "data": {
      "image/png": "[encoded data removed]",
      "text/plain": [
       "<Figure size 864x360 with 1 Axes>"
      ]
     },
     "metadata": {
      "needs_background": "light"
     },
     "output_type": "display_data"
    }
   ],
   "source": [
    "# динамика суммарного количества заказов в сутки\n",
    "df['num_orders'].resample('1D').sum().plot(figsize=(12, 5), grid=True)\n",
    "plt.title('Динамика суммарного количества заказов за сутки', size=15)\n",
    "plt.xlabel('Месяц', size=14)\n",
    "plt.ylabel('Кол-во заказов за сутки', size=14)\n",
    "plt.show()"
   ]
  },
  {
   "cell_type": "code",
   "execution_count": 63,
   "metadata": {
    "scrolled": true
   },
   "outputs": [
    {
     "data": {
      "image/png": "[encoded data removed]",
      "text/plain": [
       "<Figure size 576x360 with 1 Axes>"
      ]
     },
     "metadata": {
      "needs_background": "light"
     },
     "output_type": "display_data"
    }
   ],
   "source": [
    "# динамика суммарного количества заказов в неделю\n",
    "df.resample('1W').sum().plot(figsize=(8, 5), grid=True)\n",
    "plt.title('Динамика суммарного количества заказов в неделю', size=15)\n",
    "plt.xlabel('Месяц', size=14)\n",
    "plt.ylabel('Кол-во заказов в неделю', size=14)\n",
    "plt.show()"
   ]
  },
  {
   "cell_type": "code",
   "execution_count": 64,
   "metadata": {},
   "outputs": [
    {
     "data": {
      "image/png": "[encoded data removed]",
      "text/plain": [
       "<Figure size 1296x1008 with 3 Axes>"
      ]
     },
     "metadata": {
      "needs_background": "light"
     },
     "output_type": "display_data"
    }
   ],
   "source": [
    "# декомпозиция кол-ва заказов на тренд, сезонность и остатки\n",
    "decomposed = seasonal_decompose(df['num_orders']) \n",
    "\n",
    "plt.figure(figsize=(18, 14))\n",
    "plt.subplot(311)\n",
    "\n",
    "decomposed.trend.plot(ax=plt.gca()) \n",
    "\n",
    "plt.title('Тренд', size=14)\n",
    "plt.xlabel('')\n",
    "plt.ylabel('Кол-во заказов в час', size=14)\n",
    "plt.subplot(312)\n",
    "decomposed.seasonal.plot(ax=plt.gca()) \n",
    "plt.title('Сезонность', size=14)\n",
    "plt.xlabel('')\n",
    "plt.ylabel('Кол-во заказов в час', size=14)\n",
    "plt.subplot(313)\n",
    "decomposed.resid.plot(ax=plt.gca()) \n",
    "plt.title('Другие факторы', size=14)\n",
    "plt.xlabel('Месяц', size=14)\n",
    "plt.ylabel('Кол-во заказов в час', size=14)\n",
    "plt.show()"
   ]
  },
  {
   "cell_type": "markdown",
   "metadata": {},
   "source": [
    "Есть восходящий тренд и остатки, но вклад годовой сезонности определить невозможно. "
   ]
  },
  {
   "cell_type": "code",
   "execution_count": 65,
   "metadata": {},
   "outputs": [
    {
     "data": {
      "image/png": "[encoded data removed]",
      "text/plain": [
       "<Figure size 1008x432 with 1 Axes>"
      ]
     },
     "metadata": {
      "needs_background": "light"
     },
     "output_type": "display_data"
    }
   ],
   "source": [
    "# скользящее среднее и стандартное отклонение за последние 24 часа\n",
    "df['mean'] = df['num_orders'].rolling(24).mean()\n",
    "df['std'] = df['num_orders'].rolling(24).std()\n",
    "df[['mean', 'std']].plot(figsize=(14, 6), grid=True)\n",
    "plt.title('Простое скользящее среднее и стандартное отклонение количества заказов \\n (за период 24 часа)', size=15)\n",
    "plt.xlabel('Месяц', size=14)\n",
    "plt.ylabel('Кол-во заказов в час', size=14)\n",
    "plt.legend(['Среднее кол-во заказов', 'Стандартное отклонение'], fontsize=14)\n",
    "plt.show()"
   ]
  },
  {
   "cell_type": "markdown",
   "metadata": {},
   "source": [
    "Увеличивается и среднее значение, и волатильность (стандартное отклонение)."
   ]
  },
  {
   "cell_type": "code",
   "execution_count": 66,
   "metadata": {},
   "outputs": [],
   "source": [
    "# удаляем признаки, которые в таком виде не будут использоваться для обучения моделей\n",
    "df = df.drop(['std', 'mean'], axis=1)"
   ]
  },
  {
   "cell_type": "markdown",
   "metadata": {},
   "source": [
    "Данные монотонны, пропусков не содержат, предствалены в диапазоне с марта по сентябрь 2018 года. \n",
    "\n",
    "В среднем каждый час заказывали по 84 машины, количества заказов расположены в диапазоне от 0 до 462 заказов, распределение количества заказов скошено вправо. \n",
    "\n",
    "К концу периода (август-сентябрь) наблюдается значительный рост заказов: в среднем с 55 в марте до 160 заказов в час в конце августа. Пиковые нагрузки также приходятся на август.\n",
    "\n",
    "Оценить вклад годовой сезонности в количество заказов возможности нет (т.к. данные только за 6 месяцев), поэтому динамику объясняют восходящий тренд и остатки, объясняемые третьими факторами."
   ]
  },
  {
   "cell_type": "markdown",
   "metadata": {},
   "source": [
    "Ниже в функции добавления фичей закомментированы фичи, которые могли бы быть полезными, но результатов на работу моделей не оказали (по крайней мере на заданном временном промежутке)."
   ]
  },
  {
   "cell_type": "code",
   "execution_count": 67,
   "metadata": {},
   "outputs": [
    {
     "data": {
      "text/html": [
       "<div>\n",
       "<style scoped>\n",
       "    .dataframe tbody tr th:only-of-type {\n",
       "        vertical-align: middle;\n",
       "    }\n",
       "\n",
       "    .dataframe tbody tr th {\n",
       "        vertical-align: top;\n",
       "    }\n",
       "\n",
       "    .dataframe thead th {\n",
       "        text-align: right;\n",
       "    }\n",
       "</style>\n",
       "<table border=\"1\" class=\"dataframe\">\n",
       "  <thead>\n",
       "    <tr style=\"text-align: right;\">\n",
       "      <th></th>\n",
       "      <th>num_orders</th>\n",
       "      <th>month</th>\n",
       "      <th>dayofweek</th>\n",
       "      <th>lag_1</th>\n",
       "      <th>lag_2</th>\n",
       "      <th>rolling_mean_24</th>\n",
       "      <th>std</th>\n",
       "      <th>last_day</th>\n",
       "      <th>last_week</th>\n",
       "      <th>last_days_mean</th>\n",
       "      <th>hour</th>\n",
       "      <th>sin_hour</th>\n",
       "      <th>cos_hour</th>\n",
       "    </tr>\n",
       "    <tr>\n",
       "      <th>datetime</th>\n",
       "      <th></th>\n",
       "      <th></th>\n",
       "      <th></th>\n",
       "      <th></th>\n",
       "      <th></th>\n",
       "      <th></th>\n",
       "      <th></th>\n",
       "      <th></th>\n",
       "      <th></th>\n",
       "      <th></th>\n",
       "      <th></th>\n",
       "      <th></th>\n",
       "      <th></th>\n",
       "    </tr>\n",
       "  </thead>\n",
       "  <tbody>\n",
       "    <tr>\n",
       "      <th>2018-03-08 00:00:00</th>\n",
       "      <td>143</td>\n",
       "      <td>3</td>\n",
       "      <td>3</td>\n",
       "      <td>94</td>\n",
       "      <td>127</td>\n",
       "      <td>60</td>\n",
       "      <td>33</td>\n",
       "      <td>100</td>\n",
       "      <td>124</td>\n",
       "      <td>76</td>\n",
       "      <td>0</td>\n",
       "      <td>0.000000e+00</td>\n",
       "      <td>1.000000e+00</td>\n",
       "    </tr>\n",
       "    <tr>\n",
       "      <th>2018-03-08 01:00:00</th>\n",
       "      <td>78</td>\n",
       "      <td>3</td>\n",
       "      <td>3</td>\n",
       "      <td>143</td>\n",
       "      <td>94</td>\n",
       "      <td>61</td>\n",
       "      <td>36</td>\n",
       "      <td>121</td>\n",
       "      <td>85</td>\n",
       "      <td>124</td>\n",
       "      <td>1</td>\n",
       "      <td>2.588190e-01</td>\n",
       "      <td>9.659258e-01</td>\n",
       "    </tr>\n",
       "    <tr>\n",
       "      <th>2018-03-08 02:00:00</th>\n",
       "      <td>65</td>\n",
       "      <td>3</td>\n",
       "      <td>3</td>\n",
       "      <td>78</td>\n",
       "      <td>143</td>\n",
       "      <td>60</td>\n",
       "      <td>34</td>\n",
       "      <td>24</td>\n",
       "      <td>71</td>\n",
       "      <td>30</td>\n",
       "      <td>2</td>\n",
       "      <td>5.000000e-01</td>\n",
       "      <td>8.660254e-01</td>\n",
       "    </tr>\n",
       "    <tr>\n",
       "      <th>2018-03-08 03:00:00</th>\n",
       "      <td>68</td>\n",
       "      <td>3</td>\n",
       "      <td>3</td>\n",
       "      <td>65</td>\n",
       "      <td>78</td>\n",
       "      <td>61</td>\n",
       "      <td>33</td>\n",
       "      <td>66</td>\n",
       "      <td>66</td>\n",
       "      <td>55</td>\n",
       "      <td>3</td>\n",
       "      <td>7.071068e-01</td>\n",
       "      <td>7.071068e-01</td>\n",
       "    </tr>\n",
       "    <tr>\n",
       "      <th>2018-03-08 04:00:00</th>\n",
       "      <td>60</td>\n",
       "      <td>3</td>\n",
       "      <td>3</td>\n",
       "      <td>68</td>\n",
       "      <td>65</td>\n",
       "      <td>61</td>\n",
       "      <td>33</td>\n",
       "      <td>73</td>\n",
       "      <td>43</td>\n",
       "      <td>45</td>\n",
       "      <td>4</td>\n",
       "      <td>8.660254e-01</td>\n",
       "      <td>5.000000e-01</td>\n",
       "    </tr>\n",
       "    <tr>\n",
       "      <th>2018-03-08 05:00:00</th>\n",
       "      <td>6</td>\n",
       "      <td>3</td>\n",
       "      <td>3</td>\n",
       "      <td>60</td>\n",
       "      <td>68</td>\n",
       "      <td>61</td>\n",
       "      <td>33</td>\n",
       "      <td>10</td>\n",
       "      <td>6</td>\n",
       "      <td>20</td>\n",
       "      <td>5</td>\n",
       "      <td>9.659258e-01</td>\n",
       "      <td>2.588190e-01</td>\n",
       "    </tr>\n",
       "    <tr>\n",
       "      <th>2018-03-08 06:00:00</th>\n",
       "      <td>6</td>\n",
       "      <td>3</td>\n",
       "      <td>3</td>\n",
       "      <td>6</td>\n",
       "      <td>60</td>\n",
       "      <td>61</td>\n",
       "      <td>33</td>\n",
       "      <td>19</td>\n",
       "      <td>12</td>\n",
       "      <td>9</td>\n",
       "      <td>6</td>\n",
       "      <td>1.000000e+00</td>\n",
       "      <td>6.123234e-17</td>\n",
       "    </tr>\n",
       "    <tr>\n",
       "      <th>2018-03-08 07:00:00</th>\n",
       "      <td>19</td>\n",
       "      <td>3</td>\n",
       "      <td>3</td>\n",
       "      <td>6</td>\n",
       "      <td>6</td>\n",
       "      <td>60</td>\n",
       "      <td>34</td>\n",
       "      <td>17</td>\n",
       "      <td>15</td>\n",
       "      <td>13</td>\n",
       "      <td>7</td>\n",
       "      <td>9.659258e-01</td>\n",
       "      <td>-2.588190e-01</td>\n",
       "    </tr>\n",
       "    <tr>\n",
       "      <th>2018-03-08 08:00:00</th>\n",
       "      <td>77</td>\n",
       "      <td>3</td>\n",
       "      <td>3</td>\n",
       "      <td>19</td>\n",
       "      <td>6</td>\n",
       "      <td>60</td>\n",
       "      <td>34</td>\n",
       "      <td>38</td>\n",
       "      <td>34</td>\n",
       "      <td>31</td>\n",
       "      <td>8</td>\n",
       "      <td>8.660254e-01</td>\n",
       "      <td>-5.000000e-01</td>\n",
       "    </tr>\n",
       "    <tr>\n",
       "      <th>2018-03-08 09:00:00</th>\n",
       "      <td>97</td>\n",
       "      <td>3</td>\n",
       "      <td>3</td>\n",
       "      <td>77</td>\n",
       "      <td>19</td>\n",
       "      <td>62</td>\n",
       "      <td>34</td>\n",
       "      <td>50</td>\n",
       "      <td>69</td>\n",
       "      <td>53</td>\n",
       "      <td>9</td>\n",
       "      <td>7.071068e-01</td>\n",
       "      <td>-7.071068e-01</td>\n",
       "    </tr>\n",
       "    <tr>\n",
       "      <th>2018-03-08 10:00:00</th>\n",
       "      <td>68</td>\n",
       "      <td>3</td>\n",
       "      <td>3</td>\n",
       "      <td>97</td>\n",
       "      <td>77</td>\n",
       "      <td>64</td>\n",
       "      <td>34</td>\n",
       "      <td>34</td>\n",
       "      <td>64</td>\n",
       "      <td>45</td>\n",
       "      <td>10</td>\n",
       "      <td>5.000000e-01</td>\n",
       "      <td>-8.660254e-01</td>\n",
       "    </tr>\n",
       "    <tr>\n",
       "      <th>2018-03-08 11:00:00</th>\n",
       "      <td>80</td>\n",
       "      <td>3</td>\n",
       "      <td>3</td>\n",
       "      <td>68</td>\n",
       "      <td>97</td>\n",
       "      <td>65</td>\n",
       "      <td>34</td>\n",
       "      <td>58</td>\n",
       "      <td>96</td>\n",
       "      <td>56</td>\n",
       "      <td>11</td>\n",
       "      <td>2.588190e-01</td>\n",
       "      <td>-9.659258e-01</td>\n",
       "    </tr>\n",
       "    <tr>\n",
       "      <th>2018-03-08 12:00:00</th>\n",
       "      <td>48</td>\n",
       "      <td>3</td>\n",
       "      <td>3</td>\n",
       "      <td>80</td>\n",
       "      <td>68</td>\n",
       "      <td>66</td>\n",
       "      <td>34</td>\n",
       "      <td>34</td>\n",
       "      <td>30</td>\n",
       "      <td>53</td>\n",
       "      <td>12</td>\n",
       "      <td>1.224647e-16</td>\n",
       "      <td>-1.000000e+00</td>\n",
       "    </tr>\n",
       "    <tr>\n",
       "      <th>2018-03-08 13:00:00</th>\n",
       "      <td>47</td>\n",
       "      <td>3</td>\n",
       "      <td>3</td>\n",
       "      <td>48</td>\n",
       "      <td>80</td>\n",
       "      <td>67</td>\n",
       "      <td>33</td>\n",
       "      <td>55</td>\n",
       "      <td>32</td>\n",
       "      <td>44</td>\n",
       "      <td>13</td>\n",
       "      <td>-2.588190e-01</td>\n",
       "      <td>-9.659258e-01</td>\n",
       "    </tr>\n",
       "    <tr>\n",
       "      <th>2018-03-08 14:00:00</th>\n",
       "      <td>62</td>\n",
       "      <td>3</td>\n",
       "      <td>3</td>\n",
       "      <td>47</td>\n",
       "      <td>48</td>\n",
       "      <td>66</td>\n",
       "      <td>34</td>\n",
       "      <td>43</td>\n",
       "      <td>48</td>\n",
       "      <td>47</td>\n",
       "      <td>14</td>\n",
       "      <td>-5.000000e-01</td>\n",
       "      <td>-8.660254e-01</td>\n",
       "    </tr>\n",
       "    <tr>\n",
       "      <th>2018-03-08 15:00:00</th>\n",
       "      <td>78</td>\n",
       "      <td>3</td>\n",
       "      <td>3</td>\n",
       "      <td>62</td>\n",
       "      <td>47</td>\n",
       "      <td>67</td>\n",
       "      <td>33</td>\n",
       "      <td>51</td>\n",
       "      <td>66</td>\n",
       "      <td>53</td>\n",
       "      <td>15</td>\n",
       "      <td>-7.071068e-01</td>\n",
       "      <td>-7.071068e-01</td>\n",
       "    </tr>\n",
       "    <tr>\n",
       "      <th>2018-03-08 16:00:00</th>\n",
       "      <td>96</td>\n",
       "      <td>3</td>\n",
       "      <td>3</td>\n",
       "      <td>78</td>\n",
       "      <td>62</td>\n",
       "      <td>68</td>\n",
       "      <td>33</td>\n",
       "      <td>46</td>\n",
       "      <td>43</td>\n",
       "      <td>49</td>\n",
       "      <td>16</td>\n",
       "      <td>-8.660254e-01</td>\n",
       "      <td>-5.000000e-01</td>\n",
       "    </tr>\n",
       "    <tr>\n",
       "      <th>2018-03-08 17:00:00</th>\n",
       "      <td>41</td>\n",
       "      <td>3</td>\n",
       "      <td>3</td>\n",
       "      <td>96</td>\n",
       "      <td>78</td>\n",
       "      <td>70</td>\n",
       "      <td>33</td>\n",
       "      <td>48</td>\n",
       "      <td>44</td>\n",
       "      <td>45</td>\n",
       "      <td>17</td>\n",
       "      <td>-9.659258e-01</td>\n",
       "      <td>-2.588190e-01</td>\n",
       "    </tr>\n",
       "    <tr>\n",
       "      <th>2018-03-08 18:00:00</th>\n",
       "      <td>81</td>\n",
       "      <td>3</td>\n",
       "      <td>3</td>\n",
       "      <td>41</td>\n",
       "      <td>96</td>\n",
       "      <td>70</td>\n",
       "      <td>33</td>\n",
       "      <td>99</td>\n",
       "      <td>73</td>\n",
       "      <td>78</td>\n",
       "      <td>18</td>\n",
       "      <td>-1.000000e+00</td>\n",
       "      <td>-1.836970e-16</td>\n",
       "    </tr>\n",
       "    <tr>\n",
       "      <th>2018-03-08 19:00:00</th>\n",
       "      <td>72</td>\n",
       "      <td>3</td>\n",
       "      <td>3</td>\n",
       "      <td>81</td>\n",
       "      <td>41</td>\n",
       "      <td>69</td>\n",
       "      <td>33</td>\n",
       "      <td>50</td>\n",
       "      <td>45</td>\n",
       "      <td>45</td>\n",
       "      <td>19</td>\n",
       "      <td>-9.659258e-01</td>\n",
       "      <td>2.588190e-01</td>\n",
       "    </tr>\n",
       "    <tr>\n",
       "      <th>2018-03-08 20:00:00</th>\n",
       "      <td>114</td>\n",
       "      <td>3</td>\n",
       "      <td>3</td>\n",
       "      <td>72</td>\n",
       "      <td>81</td>\n",
       "      <td>70</td>\n",
       "      <td>33</td>\n",
       "      <td>76</td>\n",
       "      <td>61</td>\n",
       "      <td>66</td>\n",
       "      <td>20</td>\n",
       "      <td>-8.660254e-01</td>\n",
       "      <td>5.000000e-01</td>\n",
       "    </tr>\n",
       "    <tr>\n",
       "      <th>2018-03-08 21:00:00</th>\n",
       "      <td>86</td>\n",
       "      <td>3</td>\n",
       "      <td>3</td>\n",
       "      <td>114</td>\n",
       "      <td>72</td>\n",
       "      <td>72</td>\n",
       "      <td>34</td>\n",
       "      <td>108</td>\n",
       "      <td>66</td>\n",
       "      <td>69</td>\n",
       "      <td>21</td>\n",
       "      <td>-7.071068e-01</td>\n",
       "      <td>7.071068e-01</td>\n",
       "    </tr>\n",
       "    <tr>\n",
       "      <th>2018-03-08 22:00:00</th>\n",
       "      <td>88</td>\n",
       "      <td>3</td>\n",
       "      <td>3</td>\n",
       "      <td>86</td>\n",
       "      <td>114</td>\n",
       "      <td>71</td>\n",
       "      <td>33</td>\n",
       "      <td>127</td>\n",
       "      <td>113</td>\n",
       "      <td>93</td>\n",
       "      <td>22</td>\n",
       "      <td>-5.000000e-01</td>\n",
       "      <td>8.660254e-01</td>\n",
       "    </tr>\n",
       "    <tr>\n",
       "      <th>2018-03-08 23:00:00</th>\n",
       "      <td>79</td>\n",
       "      <td>3</td>\n",
       "      <td>3</td>\n",
       "      <td>88</td>\n",
       "      <td>86</td>\n",
       "      <td>69</td>\n",
       "      <td>31</td>\n",
       "      <td>94</td>\n",
       "      <td>58</td>\n",
       "      <td>62</td>\n",
       "      <td>23</td>\n",
       "      <td>-2.588190e-01</td>\n",
       "      <td>9.659258e-01</td>\n",
       "    </tr>\n",
       "    <tr>\n",
       "      <th>2018-03-09 00:00:00</th>\n",
       "      <td>84</td>\n",
       "      <td>3</td>\n",
       "      <td>4</td>\n",
       "      <td>79</td>\n",
       "      <td>88</td>\n",
       "      <td>69</td>\n",
       "      <td>31</td>\n",
       "      <td>143</td>\n",
       "      <td>90</td>\n",
       "      <td>95</td>\n",
       "      <td>0</td>\n",
       "      <td>0.000000e+00</td>\n",
       "      <td>1.000000e+00</td>\n",
       "    </tr>\n",
       "  </tbody>\n",
       "</table>\n",
       "</div>"
      ],
      "text/plain": [
       "                     num_orders  month  dayofweek  lag_1  lag_2  \\\n",
       "datetime                                                          \n",
       "2018-03-08 00:00:00         143      3          3     94    127   \n",
       "2018-03-08 01:00:00          78      3          3    143     94   \n",
       "2018-03-08 02:00:00          65      3          3     78    143   \n",
       "2018-03-08 03:00:00          68      3          3     65     78   \n",
       "2018-03-08 04:00:00          60      3          3     68     65   \n",
       "2018-03-08 05:00:00           6      3          3     60     68   \n",
       "2018-03-08 06:00:00           6      3          3      6     60   \n",
       "2018-03-08 07:00:00          19      3          3      6      6   \n",
       "2018-03-08 08:00:00          77      3          3     19      6   \n",
       "2018-03-08 09:00:00          97      3          3     77     19   \n",
       "2018-03-08 10:00:00          68      3          3     97     77   \n",
       "2018-03-08 11:00:00          80      3          3     68     97   \n",
       "2018-03-08 12:00:00          48      3          3     80     68   \n",
       "2018-03-08 13:00:00          47      3          3     48     80   \n",
       "2018-03-08 14:00:00          62      3          3     47     48   \n",
       "2018-03-08 15:00:00          78      3          3     62     47   \n",
       "2018-03-08 16:00:00          96      3          3     78     62   \n",
       "2018-03-08 17:00:00          41      3          3     96     78   \n",
       "2018-03-08 18:00:00          81      3          3     41     96   \n",
       "2018-03-08 19:00:00          72      3          3     81     41   \n",
       "2018-03-08 20:00:00         114      3          3     72     81   \n",
       "2018-03-08 21:00:00          86      3          3    114     72   \n",
       "2018-03-08 22:00:00          88      3          3     86    114   \n",
       "2018-03-08 23:00:00          79      3          3     88     86   \n",
       "2018-03-09 00:00:00          84      3          4     79     88   \n",
       "\n",
       "                     rolling_mean_24  std  last_day  last_week  \\\n",
       "datetime                                                         \n",
       "2018-03-08 00:00:00               60   33       100        124   \n",
       "2018-03-08 01:00:00               61   36       121         85   \n",
       "2018-03-08 02:00:00               60   34        24         71   \n",
       "2018-03-08 03:00:00               61   33        66         66   \n",
       "2018-03-08 04:00:00               61   33        73         43   \n",
       "2018-03-08 05:00:00               61   33        10          6   \n",
       "2018-03-08 06:00:00               61   33        19         12   \n",
       "2018-03-08 07:00:00               60   34        17         15   \n",
       "2018-03-08 08:00:00               60   34        38         34   \n",
       "2018-03-08 09:00:00               62   34        50         69   \n",
       "2018-03-08 10:00:00               64   34        34         64   \n",
       "2018-03-08 11:00:00               65   34        58         96   \n",
       "2018-03-08 12:00:00               66   34        34         30   \n",
       "2018-03-08 13:00:00               67   33        55         32   \n",
       "2018-03-08 14:00:00               66   34        43         48   \n",
       "2018-03-08 15:00:00               67   33        51         66   \n",
       "2018-03-08 16:00:00               68   33        46         43   \n",
       "2018-03-08 17:00:00               70   33        48         44   \n",
       "2018-03-08 18:00:00               70   33        99         73   \n",
       "2018-03-08 19:00:00               69   33        50         45   \n",
       "2018-03-08 20:00:00               70   33        76         61   \n",
       "2018-03-08 21:00:00               72   34       108         66   \n",
       "2018-03-08 22:00:00               71   33       127        113   \n",
       "2018-03-08 23:00:00               69   31        94         58   \n",
       "2018-03-09 00:00:00               69   31       143         90   \n",
       "\n",
       "                     last_days_mean  hour      sin_hour      cos_hour  \n",
       "datetime                                                               \n",
       "2018-03-08 00:00:00              76     0  0.000000e+00  1.000000e+00  \n",
       "2018-03-08 01:00:00             124     1  2.588190e-01  9.659258e-01  \n",
       "2018-03-08 02:00:00              30     2  5.000000e-01  8.660254e-01  \n",
       "2018-03-08 03:00:00              55     3  7.071068e-01  7.071068e-01  \n",
       "2018-03-08 04:00:00              45     4  8.660254e-01  5.000000e-01  \n",
       "2018-03-08 05:00:00              20     5  9.659258e-01  2.588190e-01  \n",
       "2018-03-08 06:00:00               9     6  1.000000e+00  6.123234e-17  \n",
       "2018-03-08 07:00:00              13     7  9.659258e-01 -2.588190e-01  \n",
       "2018-03-08 08:00:00              31     8  8.660254e-01 -5.000000e-01  \n",
       "2018-03-08 09:00:00              53     9  7.071068e-01 -7.071068e-01  \n",
       "2018-03-08 10:00:00              45    10  5.000000e-01 -8.660254e-01  \n",
       "2018-03-08 11:00:00              56    11  2.588190e-01 -9.659258e-01  \n",
       "2018-03-08 12:00:00              53    12  1.224647e-16 -1.000000e+00  \n",
       "2018-03-08 13:00:00              44    13 -2.588190e-01 -9.659258e-01  \n",
       "2018-03-08 14:00:00              47    14 -5.000000e-01 -8.660254e-01  \n",
       "2018-03-08 15:00:00              53    15 -7.071068e-01 -7.071068e-01  \n",
       "2018-03-08 16:00:00              49    16 -8.660254e-01 -5.000000e-01  \n",
       "2018-03-08 17:00:00              45    17 -9.659258e-01 -2.588190e-01  \n",
       "2018-03-08 18:00:00              78    18 -1.000000e+00 -1.836970e-16  \n",
       "2018-03-08 19:00:00              45    19 -9.659258e-01  2.588190e-01  \n",
       "2018-03-08 20:00:00              66    20 -8.660254e-01  5.000000e-01  \n",
       "2018-03-08 21:00:00              69    21 -7.071068e-01  7.071068e-01  \n",
       "2018-03-08 22:00:00              93    22 -5.000000e-01  8.660254e-01  \n",
       "2018-03-08 23:00:00              62    23 -2.588190e-01  9.659258e-01  \n",
       "2018-03-09 00:00:00              95     0  0.000000e+00  1.000000e+00  "
      ]
     },
     "execution_count": 67,
     "metadata": {},
     "output_type": "execute_result"
    }
   ],
   "source": [
    "# max_lag: предыдущее значение таргета от 1 до max_lag\n",
    "# rolling_mean_size: размеры окна скользящего среднего (список значений: можно указать часовое, суточное и недельное)\n",
    "# std_size: стандартное отклонение за последние std_size часов\n",
    "# last_days_lag - за сколько предыдущих дней мы хотим получить среднее в целевой час\n",
    "\n",
    "def make_features(data, max_lag, rolling_mean_size, std_size, last_days_lag):\n",
    "    data['month'] = data.index.month\n",
    "    data['dayofweek'] = data.index.dayofweek\n",
    "    # перебор лагов\n",
    "    for lag in range(1, max_lag + 1):\n",
    "        data['lag_{}'.format(lag)] = data['num_orders'].shift(lag)\n",
    "    # перебор окон для скользящего среднего\n",
    "    for size in rolling_mean_size:\n",
    "        data['rolling_mean_{}'.format(size)] = data['num_orders'].shift(1).rolling(size).mean()\n",
    "    #  скользящее стандартное отклонение за последние 24 часа\n",
    "    data['std'] = data['num_orders'].shift(1).rolling(std_size).std()\n",
    "    # количество заказов в этот час в предыдущие сутки\n",
    "    data['last_day'] = data['num_orders'].shift(24)\n",
    "    # количество заказов в целевой час на предыдущей неделе в тот же день\n",
    "    data['last_week'] = data['num_orders'].shift(168)\n",
    "    data['last_days_mean'] = data['last_day']\n",
    "    # среднее в целевой час за последние last_days_lag дней\n",
    "    for day in range(2, last_days_lag + 1):\n",
    "        data['last_days_mean'] = data['last_days_mean'] + data['num_orders'].shift(24*day)\n",
    "    # берем среднее из получившейся суммы значений в целевой час за предыдущие дни\n",
    "    data['last_days_mean'] = data['last_days_mean']/last_days_lag\n",
    "    # час (для графика)\n",
    "    data['hour'] = data.index.hour\n",
    "    # удаляем строки с пропусками\n",
    "    data = data.dropna()\n",
    "    # приводим к целочисленному типу\n",
    "    data = data.astype(int)\n",
    "    # синус и косинус номера часа\n",
    "    data['sin_hour'] = np.sin(2*np.pi*data.index.hour/24)\n",
    "    data['cos_hour'] = np.cos(2*np.pi*data.index.hour/24)\n",
    "    return data\n",
    "    \n",
    "df = make_features(df, 2, [24], 24, 3)\n",
    "df.head(25)"
   ]
  },
  {
   "cell_type": "markdown",
   "metadata": {},
   "source": [
    "     \n",
    "Добавленные признаки:\n",
    "    \n",
    "month - без указания месяца точность моделей на тесте на 1 ниже (35 вместо 34)       \n",
    "\n",
    "std - модель действительно не улучшает (убрала его из обучения)\n",
    "    \n",
    "last_week - количество заказов в целевой час на предыдущей неделе в тот же день недели (явно улучшил модель)\n",
    "    \n",
    "last_days_lag - за сколько предыдущих дней мы хотим получить среднее в целевой час (явно улучшил модель), оптимально - среднее за 3 предыдущих дня по этому часу. Больше - можно поменять, но результат не улучшает.\n",
    "    \n",
    "max_lag - количество лагов более 2х никак не меняют результат (брала разные значения до 12 включительно) - ошибка не уменьшается\n",
    "\n",
    "синус и косинус часа - в данном случае они качество не поменяли."
   ]
  },
  {
   "cell_type": "code",
   "execution_count": 68,
   "metadata": {},
   "outputs": [
    {
     "data": {
      "text/html": [
       "<div>\n",
       "<style scoped>\n",
       "    .dataframe tbody tr th:only-of-type {\n",
       "        vertical-align: middle;\n",
       "    }\n",
       "\n",
       "    .dataframe tbody tr th {\n",
       "        vertical-align: top;\n",
       "    }\n",
       "\n",
       "    .dataframe thead th {\n",
       "        text-align: right;\n",
       "    }\n",
       "</style>\n",
       "<table border=\"1\" class=\"dataframe\">\n",
       "  <thead>\n",
       "    <tr style=\"text-align: right;\">\n",
       "      <th></th>\n",
       "      <th>num_orders</th>\n",
       "      <th>month</th>\n",
       "      <th>dayofweek</th>\n",
       "      <th>lag_1</th>\n",
       "      <th>lag_2</th>\n",
       "      <th>rolling_mean_24</th>\n",
       "      <th>std</th>\n",
       "      <th>last_day</th>\n",
       "      <th>last_week</th>\n",
       "      <th>last_days_mean</th>\n",
       "      <th>hour</th>\n",
       "      <th>sin_hour</th>\n",
       "      <th>cos_hour</th>\n",
       "    </tr>\n",
       "    <tr>\n",
       "      <th>datetime</th>\n",
       "      <th></th>\n",
       "      <th></th>\n",
       "      <th></th>\n",
       "      <th></th>\n",
       "      <th></th>\n",
       "      <th></th>\n",
       "      <th></th>\n",
       "      <th></th>\n",
       "      <th></th>\n",
       "      <th></th>\n",
       "      <th></th>\n",
       "      <th></th>\n",
       "      <th></th>\n",
       "    </tr>\n",
       "  </thead>\n",
       "  <tbody>\n",
       "    <tr>\n",
       "      <th>2018-03-08 00:00:00</th>\n",
       "      <td>143</td>\n",
       "      <td>3</td>\n",
       "      <td>3</td>\n",
       "      <td>94</td>\n",
       "      <td>127</td>\n",
       "      <td>60</td>\n",
       "      <td>33</td>\n",
       "      <td>100</td>\n",
       "      <td>124</td>\n",
       "      <td>76</td>\n",
       "      <td>0</td>\n",
       "      <td>0.000000</td>\n",
       "      <td>1.000000</td>\n",
       "    </tr>\n",
       "    <tr>\n",
       "      <th>2018-03-08 01:00:00</th>\n",
       "      <td>78</td>\n",
       "      <td>3</td>\n",
       "      <td>3</td>\n",
       "      <td>143</td>\n",
       "      <td>94</td>\n",
       "      <td>61</td>\n",
       "      <td>36</td>\n",
       "      <td>121</td>\n",
       "      <td>85</td>\n",
       "      <td>124</td>\n",
       "      <td>1</td>\n",
       "      <td>0.258819</td>\n",
       "      <td>0.965926</td>\n",
       "    </tr>\n",
       "    <tr>\n",
       "      <th>2018-03-08 02:00:00</th>\n",
       "      <td>65</td>\n",
       "      <td>3</td>\n",
       "      <td>3</td>\n",
       "      <td>78</td>\n",
       "      <td>143</td>\n",
       "      <td>60</td>\n",
       "      <td>34</td>\n",
       "      <td>24</td>\n",
       "      <td>71</td>\n",
       "      <td>30</td>\n",
       "      <td>2</td>\n",
       "      <td>0.500000</td>\n",
       "      <td>0.866025</td>\n",
       "    </tr>\n",
       "    <tr>\n",
       "      <th>2018-03-08 03:00:00</th>\n",
       "      <td>68</td>\n",
       "      <td>3</td>\n",
       "      <td>3</td>\n",
       "      <td>65</td>\n",
       "      <td>78</td>\n",
       "      <td>61</td>\n",
       "      <td>33</td>\n",
       "      <td>66</td>\n",
       "      <td>66</td>\n",
       "      <td>55</td>\n",
       "      <td>3</td>\n",
       "      <td>0.707107</td>\n",
       "      <td>0.707107</td>\n",
       "    </tr>\n",
       "    <tr>\n",
       "      <th>2018-03-08 04:00:00</th>\n",
       "      <td>60</td>\n",
       "      <td>3</td>\n",
       "      <td>3</td>\n",
       "      <td>68</td>\n",
       "      <td>65</td>\n",
       "      <td>61</td>\n",
       "      <td>33</td>\n",
       "      <td>73</td>\n",
       "      <td>43</td>\n",
       "      <td>45</td>\n",
       "      <td>4</td>\n",
       "      <td>0.866025</td>\n",
       "      <td>0.500000</td>\n",
       "    </tr>\n",
       "    <tr>\n",
       "      <th>...</th>\n",
       "      <td>...</td>\n",
       "      <td>...</td>\n",
       "      <td>...</td>\n",
       "      <td>...</td>\n",
       "      <td>...</td>\n",
       "      <td>...</td>\n",
       "      <td>...</td>\n",
       "      <td>...</td>\n",
       "      <td>...</td>\n",
       "      <td>...</td>\n",
       "      <td>...</td>\n",
       "      <td>...</td>\n",
       "      <td>...</td>\n",
       "    </tr>\n",
       "    <tr>\n",
       "      <th>2018-08-31 19:00:00</th>\n",
       "      <td>136</td>\n",
       "      <td>8</td>\n",
       "      <td>4</td>\n",
       "      <td>207</td>\n",
       "      <td>217</td>\n",
       "      <td>164</td>\n",
       "      <td>65</td>\n",
       "      <td>72</td>\n",
       "      <td>113</td>\n",
       "      <td>117</td>\n",
       "      <td>19</td>\n",
       "      <td>-0.965926</td>\n",
       "      <td>0.258819</td>\n",
       "    </tr>\n",
       "    <tr>\n",
       "      <th>2018-08-31 20:00:00</th>\n",
       "      <td>154</td>\n",
       "      <td>8</td>\n",
       "      <td>4</td>\n",
       "      <td>136</td>\n",
       "      <td>207</td>\n",
       "      <td>167</td>\n",
       "      <td>63</td>\n",
       "      <td>142</td>\n",
       "      <td>179</td>\n",
       "      <td>142</td>\n",
       "      <td>20</td>\n",
       "      <td>-0.866025</td>\n",
       "      <td>0.500000</td>\n",
       "    </tr>\n",
       "    <tr>\n",
       "      <th>2018-08-31 21:00:00</th>\n",
       "      <td>159</td>\n",
       "      <td>8</td>\n",
       "      <td>4</td>\n",
       "      <td>154</td>\n",
       "      <td>136</td>\n",
       "      <td>168</td>\n",
       "      <td>63</td>\n",
       "      <td>198</td>\n",
       "      <td>166</td>\n",
       "      <td>185</td>\n",
       "      <td>21</td>\n",
       "      <td>-0.707107</td>\n",
       "      <td>0.707107</td>\n",
       "    </tr>\n",
       "    <tr>\n",
       "      <th>2018-08-31 22:00:00</th>\n",
       "      <td>223</td>\n",
       "      <td>8</td>\n",
       "      <td>4</td>\n",
       "      <td>159</td>\n",
       "      <td>154</td>\n",
       "      <td>166</td>\n",
       "      <td>62</td>\n",
       "      <td>158</td>\n",
       "      <td>242</td>\n",
       "      <td>165</td>\n",
       "      <td>22</td>\n",
       "      <td>-0.500000</td>\n",
       "      <td>0.866025</td>\n",
       "    </tr>\n",
       "    <tr>\n",
       "      <th>2018-08-31 23:00:00</th>\n",
       "      <td>205</td>\n",
       "      <td>8</td>\n",
       "      <td>4</td>\n",
       "      <td>223</td>\n",
       "      <td>159</td>\n",
       "      <td>169</td>\n",
       "      <td>63</td>\n",
       "      <td>246</td>\n",
       "      <td>173</td>\n",
       "      <td>230</td>\n",
       "      <td>23</td>\n",
       "      <td>-0.258819</td>\n",
       "      <td>0.965926</td>\n",
       "    </tr>\n",
       "  </tbody>\n",
       "</table>\n",
       "<p>4248 rows × 13 columns</p>\n",
       "</div>"
      ],
      "text/plain": [
       "                     num_orders  month  dayofweek  lag_1  lag_2  \\\n",
       "datetime                                                          \n",
       "2018-03-08 00:00:00         143      3          3     94    127   \n",
       "2018-03-08 01:00:00          78      3          3    143     94   \n",
       "2018-03-08 02:00:00          65      3          3     78    143   \n",
       "2018-03-08 03:00:00          68      3          3     65     78   \n",
       "2018-03-08 04:00:00          60      3          3     68     65   \n",
       "...                         ...    ...        ...    ...    ...   \n",
       "2018-08-31 19:00:00         136      8          4    207    217   \n",
       "2018-08-31 20:00:00         154      8          4    136    207   \n",
       "2018-08-31 21:00:00         159      8          4    154    136   \n",
       "2018-08-31 22:00:00         223      8          4    159    154   \n",
       "2018-08-31 23:00:00         205      8          4    223    159   \n",
       "\n",
       "                     rolling_mean_24  std  last_day  last_week  \\\n",
       "datetime                                                         \n",
       "2018-03-08 00:00:00               60   33       100        124   \n",
       "2018-03-08 01:00:00               61   36       121         85   \n",
       "2018-03-08 02:00:00               60   34        24         71   \n",
       "2018-03-08 03:00:00               61   33        66         66   \n",
       "2018-03-08 04:00:00               61   33        73         43   \n",
       "...                              ...  ...       ...        ...   \n",
       "2018-08-31 19:00:00              164   65        72        113   \n",
       "2018-08-31 20:00:00              167   63       142        179   \n",
       "2018-08-31 21:00:00              168   63       198        166   \n",
       "2018-08-31 22:00:00              166   62       158        242   \n",
       "2018-08-31 23:00:00              169   63       246        173   \n",
       "\n",
       "                     last_days_mean  hour  sin_hour  cos_hour  \n",
       "datetime                                                       \n",
       "2018-03-08 00:00:00              76     0  0.000000  1.000000  \n",
       "2018-03-08 01:00:00             124     1  0.258819  0.965926  \n",
       "2018-03-08 02:00:00              30     2  0.500000  0.866025  \n",
       "2018-03-08 03:00:00              55     3  0.707107  0.707107  \n",
       "2018-03-08 04:00:00              45     4  0.866025  0.500000  \n",
       "...                             ...   ...       ...       ...  \n",
       "2018-08-31 19:00:00             117    19 -0.965926  0.258819  \n",
       "2018-08-31 20:00:00             142    20 -0.866025  0.500000  \n",
       "2018-08-31 21:00:00             185    21 -0.707107  0.707107  \n",
       "2018-08-31 22:00:00             165    22 -0.500000  0.866025  \n",
       "2018-08-31 23:00:00             230    23 -0.258819  0.965926  \n",
       "\n",
       "[4248 rows x 13 columns]"
      ]
     },
     "execution_count": 68,
     "metadata": {},
     "output_type": "execute_result"
    }
   ],
   "source": [
    "df\n"
   ]
  },
  {
   "cell_type": "code",
   "execution_count": 69,
   "metadata": {},
   "outputs": [
    {
     "data": {
      "image/png": "[encoded data removed]",
      "text/plain": [
       "<Figure size 1584x504 with 1 Axes>"
      ]
     },
     "metadata": {
      "needs_background": "light"
     },
     "output_type": "display_data"
    }
   ],
   "source": [
    "# корреляция с предыдущими 168 значениями\n",
    "fig = tsaplots.plot_acf(df['num_orders'], lags= 336)\n",
    "fig.set_size_inches(22, 7)\n",
    "plt.ylim(-.1, 1.1)\n",
    "plt.title('Корреляция заказов со значениями за предыдущую неделю', size=15)\n",
    "plt.xlabel('Удаленность значения', size=14)\n",
    "plt.ylabel('Коэфф. корреляции', size=14)\n",
    "plt.xticks(ticks=range(0, 337, 24), labels=range(0, 337, 24))\n",
    "plt.show()"
   ]
  },
  {
   "cell_type": "markdown",
   "metadata": {},
   "source": [
    "Автокорреляция - мера линейной связи между числовой переменной и ею самой в другой момент времени.\n",
    "\n",
    "Сильнее всего корреляция:\n",
    "\n",
    "- с предыдущим значением\n",
    "\n",
    "- со значением того же часа в предыдущие сутки (на 24, 48 и тд часов ранее)\n",
    "\n",
    "- со значением того же часа в предыдущие сутки и в тот же день недели (на 168 часов раньше)."
   ]
  },
  {
   "cell_type": "code",
   "execution_count": 70,
   "metadata": {},
   "outputs": [
    {
     "data": {
      "image/png": "[encoded data removed]",
      "text/plain": [
       "<Figure size 576x360 with 1 Axes>"
      ]
     },
     "metadata": {
      "needs_background": "light"
     },
     "output_type": "display_data"
    }
   ],
   "source": [
    "# распределение стандартных отклонений за сутки\n",
    "df['std'].hist(bins=100, figsize=(8, 5))\n",
    "plt.title('Распределение стандартных отклонений за сутки', size=15)\n",
    "plt.xlabel('Частота', size=14)\n",
    "plt.ylabel('Стандартное отклонение за 24 часа', size=14)\n",
    "plt.show()"
   ]
  },
  {
   "cell_type": "markdown",
   "metadata": {},
   "source": [
    "В среднем внутри суток цена отклоняется от среднего на 34, а 75% отклонений расположены диапазоне от 15 до 39. Также есть часть выбивающихся значений отклонений: сутки, когда отклонение превышало максимальный допустимый размер ошибки (48) и достигало 93."
   ]
  },
  {
   "cell_type": "code",
   "execution_count": 71,
   "metadata": {},
   "outputs": [
    {
     "data": {
      "image/png": "[encoded data removed]",
      "text/plain": [
       "<Figure size 504x360 with 1 Axes>"
      ]
     },
     "metadata": {
      "needs_background": "light"
     },
     "output_type": "display_data"
    }
   ],
   "source": [
    "# изменение среднего количества заказов по дням недели\n",
    "df.groupby(by='dayofweek')['num_orders'].mean().plot(grid=True, figsize=(7, 5), kind='bar')\n",
    "plt.title('Cреднее количество заказов в час по дням недели', size=15)\n",
    "plt.xlabel('День недели', size=14)\n",
    "plt.ylabel('Кол-во заказов в среднем в час', size=14)\n",
    "plt.show()"
   ]
  },
  {
   "cell_type": "markdown",
   "metadata": {},
   "source": [
    "Внутри недели есть некоторые колебания средних значений, но не очень значительные."
   ]
  },
  {
   "cell_type": "code",
   "execution_count": 72,
   "metadata": {},
   "outputs": [
    {
     "data": {
      "image/png": "[encoded data removed]",
      "text/plain": [
       "<Figure size 648x360 with 1 Axes>"
      ]
     },
     "metadata": {
      "needs_background": "light"
     },
     "output_type": "display_data"
    }
   ],
   "source": [
    "# изменение среднего количества заказов по часам\n",
    "df.groupby(by='hour')['num_orders'].mean().plot(figsize=(9, 5), kind='bar')\n",
    "plt.title('Cреднее количество заказов за час по часам', size=15)\n",
    "plt.xlabel('Номер часа', size=14)\n",
    "plt.ylabel('Кол-во заказов в среднем в час', size=14)\n",
    "plt.show()"
   ]
  },
  {
   "cell_type": "markdown",
   "metadata": {},
   "source": [
    "Внутри суток есть значительные колебания: сниижение в ночное время и рост в вечернее, в дневное время небольшие колебания вокруг значения 80 заказов в час."
   ]
  },
  {
   "cell_type": "code",
   "execution_count": 73,
   "metadata": {},
   "outputs": [
    {
     "data": {
      "image/png": "[encoded data removed]",
      "text/plain": [
       "<Figure size 576x360 with 1 Axes>"
      ]
     },
     "metadata": {
      "needs_background": "light"
     },
     "output_type": "display_data"
    }
   ],
   "source": [
    "# изменение среднего количества заказов по месяцам\n",
    "df.groupby(by='month')['num_orders'].mean().plot(grid=True, style='o-', figsize=(8, 5))\n",
    "plt.title('Cреднее количество заказов за час по месяцам', size=15)\n",
    "plt.xlabel('Номер месяца', size=14)\n",
    "plt.ylabel('Кол-во заказов в среднем в час', size=14)\n",
    "plt.show()"
   ]
  },
  {
   "cell_type": "markdown",
   "metadata": {},
   "source": [
    "Среднемесячное количество заказов увеличивается."
   ]
  },
  {
   "cell_type": "code",
   "execution_count": 74,
   "metadata": {},
   "outputs": [
    {
     "data": {
      "text/html": [
       "<div>\n",
       "<style scoped>\n",
       "    .dataframe tbody tr th:only-of-type {\n",
       "        vertical-align: middle;\n",
       "    }\n",
       "\n",
       "    .dataframe tbody tr th {\n",
       "        vertical-align: top;\n",
       "    }\n",
       "\n",
       "    .dataframe thead th {\n",
       "        text-align: right;\n",
       "    }\n",
       "</style>\n",
       "<table border=\"1\" class=\"dataframe\">\n",
       "  <thead>\n",
       "    <tr style=\"text-align: right;\">\n",
       "      <th></th>\n",
       "      <th>num_orders</th>\n",
       "      <th>month</th>\n",
       "      <th>dayofweek</th>\n",
       "      <th>lag_1</th>\n",
       "      <th>lag_2</th>\n",
       "      <th>rolling_mean_24</th>\n",
       "      <th>last_day</th>\n",
       "      <th>last_week</th>\n",
       "      <th>last_days_mean</th>\n",
       "      <th>sin_hour</th>\n",
       "      <th>cos_hour</th>\n",
       "    </tr>\n",
       "  </thead>\n",
       "  <tbody>\n",
       "    <tr>\n",
       "      <th>0</th>\n",
       "      <td>143</td>\n",
       "      <td>3</td>\n",
       "      <td>3</td>\n",
       "      <td>94</td>\n",
       "      <td>127</td>\n",
       "      <td>60</td>\n",
       "      <td>100</td>\n",
       "      <td>124</td>\n",
       "      <td>76</td>\n",
       "      <td>0.000000</td>\n",
       "      <td>1.000000</td>\n",
       "    </tr>\n",
       "    <tr>\n",
       "      <th>1</th>\n",
       "      <td>78</td>\n",
       "      <td>3</td>\n",
       "      <td>3</td>\n",
       "      <td>143</td>\n",
       "      <td>94</td>\n",
       "      <td>61</td>\n",
       "      <td>121</td>\n",
       "      <td>85</td>\n",
       "      <td>124</td>\n",
       "      <td>0.258819</td>\n",
       "      <td>0.965926</td>\n",
       "    </tr>\n",
       "    <tr>\n",
       "      <th>2</th>\n",
       "      <td>65</td>\n",
       "      <td>3</td>\n",
       "      <td>3</td>\n",
       "      <td>78</td>\n",
       "      <td>143</td>\n",
       "      <td>60</td>\n",
       "      <td>24</td>\n",
       "      <td>71</td>\n",
       "      <td>30</td>\n",
       "      <td>0.500000</td>\n",
       "      <td>0.866025</td>\n",
       "    </tr>\n",
       "    <tr>\n",
       "      <th>3</th>\n",
       "      <td>68</td>\n",
       "      <td>3</td>\n",
       "      <td>3</td>\n",
       "      <td>65</td>\n",
       "      <td>78</td>\n",
       "      <td>61</td>\n",
       "      <td>66</td>\n",
       "      <td>66</td>\n",
       "      <td>55</td>\n",
       "      <td>0.707107</td>\n",
       "      <td>0.707107</td>\n",
       "    </tr>\n",
       "    <tr>\n",
       "      <th>4</th>\n",
       "      <td>60</td>\n",
       "      <td>3</td>\n",
       "      <td>3</td>\n",
       "      <td>68</td>\n",
       "      <td>65</td>\n",
       "      <td>61</td>\n",
       "      <td>73</td>\n",
       "      <td>43</td>\n",
       "      <td>45</td>\n",
       "      <td>0.866025</td>\n",
       "      <td>0.500000</td>\n",
       "    </tr>\n",
       "  </tbody>\n",
       "</table>\n",
       "</div>"
      ],
      "text/plain": [
       "   num_orders  month  dayofweek  lag_1  lag_2  rolling_mean_24  last_day  \\\n",
       "0         143      3          3     94    127               60       100   \n",
       "1          78      3          3    143     94               61       121   \n",
       "2          65      3          3     78    143               60        24   \n",
       "3          68      3          3     65     78               61        66   \n",
       "4          60      3          3     68     65               61        73   \n",
       "\n",
       "   last_week  last_days_mean  sin_hour  cos_hour  \n",
       "0        124              76  0.000000  1.000000  \n",
       "1         85             124  0.258819  0.965926  \n",
       "2         71              30  0.500000  0.866025  \n",
       "3         66              55  0.707107  0.707107  \n",
       "4         43              45  0.866025  0.500000  "
      ]
     },
     "execution_count": 74,
     "metadata": {},
     "output_type": "execute_result"
    }
   ],
   "source": [
    "# удаляем строки с пропусками\n",
    "df = df.dropna()\n",
    "# удаляем абсолютное значение часа\n",
    "df = df.drop(['hour', 'std'], axis=1)\n",
    "# обновляем индексы\n",
    "df.reset_index(drop=True, inplace=True)\n",
    "df.head()"
   ]
  },
  {
   "cell_type": "markdown",
   "metadata": {},
   "source": [
    "Добавленные признаки:\n",
    "\n",
    "- month - месяц\n",
    "\n",
    "- dayofweek - день недели\n",
    "\n",
    "- lag_1, lag_2, lag_3 - предыдущие значения с отставанием на один, два, три часа соответственно\n",
    "\n",
    "- rolling_mean_24 - скользящее среднее за последние 24 часа\n",
    "\n",
    "- last_day - количество заказов в этот час в предыдущие сутки\n",
    "\n",
    "- last_day_delta - дельта между заказами в этот час в прошлые и позапрошлые сутки: на сколько в прошлые сутки заказов было больше, чем в позапрошлые\n",
    "\n",
    "- sin_hour, cos_hour - синус и косинус часа\n",
    "\n",
    "- last_week - количество заказов в целевой час на предыдущей неделе в тот же день недели\n",
    "\n",
    "- last_days_mean - среднее в целевой час за последние 3 дня"
   ]
  },
  {
   "cell_type": "code",
   "execution_count": 75,
   "metadata": {},
   "outputs": [
    {
     "name": "stdout",
     "output_type": "stream",
     "text": [
      "P-Value: 1.3234680770930366e-16\n"
     ]
    }
   ],
   "source": [
    "# тест Дики-Фуллера для определения стационарного ряда \n",
    "print('P-Value: {}'.format(adfuller(df['num_orders'], regression='ctt')[1]))"
   ]
  },
  {
   "cell_type": "markdown",
   "metadata": {},
   "source": [
    "P-Value очень низкий и при практически любом уровне значимости отвергнуть нулевую гипотезу о том, что ряд не стационарен, нельзя."
   ]
  },
  {
   "cell_type": "markdown",
   "metadata": {},
   "source": [
    "# 3 Препроцессинг"
   ]
  },
  {
   "cell_type": "code",
   "execution_count": 76,
   "metadata": {},
   "outputs": [],
   "source": [
    "# сплит на датафрейм без целевого признака (features) и целевой признак (target)\n",
    "features = df.drop(['num_orders'], axis=1)\n",
    "target = df['num_orders']\n",
    "\n",
    "# сплит на обучающую(81%), валидационную(9%) и тестовую (10%) выборки \n",
    "x_train, x_test, y_train, y_test = train_test_split(\n",
    "    features, target, shuffle=False, test_size=0.10, random_state=1)\n",
    "x_train, x_val, y_train, y_val = train_test_split(\n",
    "    x_train, y_train, shuffle=False, test_size=0.10, random_state=1)"
   ]
  },
  {
   "cell_type": "markdown",
   "metadata": {},
   "source": [
    "## Обучение моделей"
   ]
  },
  {
   "cell_type": "markdown",
   "metadata": {},
   "source": [
    "### LinearRegression"
   ]
  },
  {
   "cell_type": "code",
   "execution_count": 77,
   "metadata": {},
   "outputs": [
    {
     "name": "stdout",
     "output_type": "stream",
     "text": [
      "Средняя ошибка LinearRegression: - 30\n",
      "CPU times: user 83.5 ms, sys: 7.98 ms, total: 91.4 ms\n",
      "Wall time: 23.8 ms\n"
     ]
    }
   ],
   "source": [
    "%%time\n",
    "\n",
    "model = LinearRegression()\n",
    "\n",
    "model.fit(x_train, y_train)\n",
    "prediction = model.predict(x_val)\n",
    "\n",
    "print(\"Средняя ошибка LinearRegression: - {:.0f}\".format(mean_squared_error(y_val, prediction, squared=False)))"
   ]
  },
  {
   "cell_type": "markdown",
   "metadata": {},
   "source": [
    "### LGBMRegressor"
   ]
  },
  {
   "cell_type": "code",
   "execution_count": 78,
   "metadata": {},
   "outputs": [
    {
     "name": "stderr",
     "output_type": "stream",
     "text": [
      "[I 2024-12-02 12:05:00,036] A new study created in memory with name: no-name-b6274ac9-84ae-4a4b-9f3a-caaff2f779aa\n"
     ]
    },
    {
     "name": "stdout",
     "output_type": "stream",
     "text": [
      "[LightGBM] [Warning] bagging_fraction is set=0.7, subsample=1.0 will be ignored. Current value: bagging_fraction=0.7\n",
      "[LightGBM] [Warning] bagging_freq is set=1, subsample_freq=0 will be ignored. Current value: bagging_freq=1\n"
     ]
    },
    {
     "name": "stderr",
     "output_type": "stream",
     "text": [
      "/home/kseny/anaconda3/lib/python3.9/site-packages/optuna/distributions.py:708: UserWarning: The distribution is specified by [5, 100] and step=10, but the range is not divisible by `step`. It will be replaced by [5, 95].\n",
      "  warnings.warn(\n",
      "[I 2024-12-02 12:05:02,722] Trial 0 finished with value: 31.396138316719785 and parameters: {'n_estimators': 95, 'num_leaves': 45, 'bagging_fraction': 0.7}. Best is trial 0 with value: 31.396138316719785.\n",
      "/home/kseny/anaconda3/lib/python3.9/site-packages/optuna/distributions.py:708: UserWarning: The distribution is specified by [5, 100] and step=10, but the range is not divisible by `step`. It will be replaced by [5, 95].\n",
      "  warnings.warn(\n",
      "[I 2024-12-02 12:05:02,790] Trial 1 finished with value: 36.52389538370573 and parameters: {'n_estimators': 5, 'num_leaves': 5, 'bagging_fraction': 0.5}. Best is trial 0 with value: 31.396138316719785.\n",
      "/home/kseny/anaconda3/lib/python3.9/site-packages/optuna/distributions.py:708: UserWarning: The distribution is specified by [5, 100] and step=10, but the range is not divisible by `step`. It will be replaced by [5, 95].\n",
      "  warnings.warn(\n"
     ]
    },
    {
     "name": "stdout",
     "output_type": "stream",
     "text": [
      "[LightGBM] [Warning] bagging_fraction is set=0.5, subsample=1.0 will be ignored. Current value: bagging_fraction=0.5\n",
      "[LightGBM] [Warning] bagging_freq is set=1, subsample_freq=0 will be ignored. Current value: bagging_freq=1\n",
      "[LightGBM] [Warning] bagging_fraction is set=0.5, subsample=1.0 will be ignored. Current value: bagging_fraction=0.5\n",
      "[LightGBM] [Warning] bagging_freq is set=1, subsample_freq=0 will be ignored. Current value: bagging_freq=1\n"
     ]
    },
    {
     "name": "stderr",
     "output_type": "stream",
     "text": [
      "[I 2024-12-02 12:05:04,285] Trial 2 finished with value: 31.52211599989475 and parameters: {'n_estimators': 65, 'num_leaves': 35, 'bagging_fraction': 0.5}. Best is trial 0 with value: 31.396138316719785.\n",
      "/home/kseny/anaconda3/lib/python3.9/site-packages/optuna/distributions.py:708: UserWarning: The distribution is specified by [5, 100] and step=10, but the range is not divisible by `step`. It will be replaced by [5, 95].\n",
      "  warnings.warn(\n"
     ]
    },
    {
     "name": "stdout",
     "output_type": "stream",
     "text": [
      "[LightGBM] [Warning] bagging_fraction is set=0.7, subsample=1.0 will be ignored. Current value: bagging_fraction=0.7\n",
      "[LightGBM] [Warning] bagging_freq is set=1, subsample_freq=0 will be ignored. Current value: bagging_freq=1\n"
     ]
    },
    {
     "name": "stderr",
     "output_type": "stream",
     "text": [
      "[I 2024-12-02 12:05:04,500] Trial 3 finished with value: 31.888318871412622 and parameters: {'n_estimators': 5, 'num_leaves': 55, 'bagging_fraction': 0.7}. Best is trial 0 with value: 31.396138316719785.\n",
      "/home/kseny/anaconda3/lib/python3.9/site-packages/optuna/distributions.py:708: UserWarning: The distribution is specified by [5, 100] and step=10, but the range is not divisible by `step`. It will be replaced by [5, 95].\n",
      "  warnings.warn(\n"
     ]
    },
    {
     "name": "stdout",
     "output_type": "stream",
     "text": [
      "[LightGBM] [Warning] bagging_fraction is set=0.7, subsample=1.0 will be ignored. Current value: bagging_fraction=0.7\n",
      "[LightGBM] [Warning] bagging_freq is set=1, subsample_freq=0 will be ignored. Current value: bagging_freq=1\n"
     ]
    },
    {
     "name": "stderr",
     "output_type": "stream",
     "text": [
      "[I 2024-12-02 12:05:05,482] Trial 4 finished with value: 31.461888042306054 and parameters: {'n_estimators': 45, 'num_leaves': 45, 'bagging_fraction': 0.7}. Best is trial 0 with value: 31.396138316719785.\n",
      "/home/kseny/anaconda3/lib/python3.9/site-packages/optuna/distributions.py:708: UserWarning: The distribution is specified by [5, 100] and step=10, but the range is not divisible by `step`. It will be replaced by [5, 95].\n",
      "  warnings.warn(\n"
     ]
    },
    {
     "name": "stdout",
     "output_type": "stream",
     "text": [
      "[LightGBM] [Warning] bagging_fraction is set=0.8, subsample=1.0 will be ignored. Current value: bagging_fraction=0.8\n",
      "[LightGBM] [Warning] bagging_freq is set=1, subsample_freq=0 will be ignored. Current value: bagging_freq=1\n"
     ]
    },
    {
     "name": "stderr",
     "output_type": "stream",
     "text": [
      "[I 2024-12-02 12:05:06,408] Trial 5 finished with value: 31.590184940107005 and parameters: {'n_estimators': 75, 'num_leaves': 35, 'bagging_fraction': 0.8}. Best is trial 0 with value: 31.396138316719785.\n",
      "/home/kseny/anaconda3/lib/python3.9/site-packages/optuna/distributions.py:708: UserWarning: The distribution is specified by [5, 100] and step=10, but the range is not divisible by `step`. It will be replaced by [5, 95].\n",
      "  warnings.warn(\n"
     ]
    },
    {
     "name": "stdout",
     "output_type": "stream",
     "text": [
      "[LightGBM] [Warning] bagging_fraction is set=0.6, subsample=1.0 will be ignored. Current value: bagging_fraction=0.6\n",
      "[LightGBM] [Warning] bagging_freq is set=1, subsample_freq=0 will be ignored. Current value: bagging_freq=1\n"
     ]
    },
    {
     "name": "stderr",
     "output_type": "stream",
     "text": [
      "[I 2024-12-02 12:05:09,160] Trial 6 finished with value: 31.429842754367794 and parameters: {'n_estimators': 85, 'num_leaves': 75, 'bagging_fraction': 0.6}. Best is trial 0 with value: 31.396138316719785.\n",
      "/home/kseny/anaconda3/lib/python3.9/site-packages/optuna/distributions.py:708: UserWarning: The distribution is specified by [5, 100] and step=10, but the range is not divisible by `step`. It will be replaced by [5, 95].\n",
      "  warnings.warn(\n"
     ]
    },
    {
     "name": "stdout",
     "output_type": "stream",
     "text": [
      "[LightGBM] [Warning] bagging_fraction is set=0.8, subsample=1.0 will be ignored. Current value: bagging_fraction=0.8\n",
      "[LightGBM] [Warning] bagging_freq is set=1, subsample_freq=0 will be ignored. Current value: bagging_freq=1\n"
     ]
    },
    {
     "name": "stderr",
     "output_type": "stream",
     "text": [
      "[I 2024-12-02 12:05:09,803] Trial 7 finished with value: 31.936892906767614 and parameters: {'n_estimators': 35, 'num_leaves': 25, 'bagging_fraction': 0.8}. Best is trial 0 with value: 31.396138316719785.\n",
      "/home/kseny/anaconda3/lib/python3.9/site-packages/optuna/distributions.py:708: UserWarning: The distribution is specified by [5, 100] and step=10, but the range is not divisible by `step`. It will be replaced by [5, 95].\n",
      "  warnings.warn(\n"
     ]
    },
    {
     "name": "stdout",
     "output_type": "stream",
     "text": [
      "[LightGBM] [Warning] bagging_fraction is set=0.6, subsample=1.0 will be ignored. Current value: bagging_fraction=0.6\n",
      "[LightGBM] [Warning] bagging_freq is set=1, subsample_freq=0 will be ignored. Current value: bagging_freq=1\n"
     ]
    },
    {
     "name": "stderr",
     "output_type": "stream",
     "text": [
      "[I 2024-12-02 12:05:10,150] Trial 8 finished with value: 31.551467917312152 and parameters: {'n_estimators': 15, 'num_leaves': 75, 'bagging_fraction': 0.6}. Best is trial 0 with value: 31.396138316719785.\n",
      "/home/kseny/anaconda3/lib/python3.9/site-packages/optuna/distributions.py:708: UserWarning: The distribution is specified by [5, 100] and step=10, but the range is not divisible by `step`. It will be replaced by [5, 95].\n",
      "  warnings.warn(\n"
     ]
    },
    {
     "name": "stdout",
     "output_type": "stream",
     "text": [
      "[LightGBM] [Warning] bagging_fraction is set=0.8, subsample=1.0 will be ignored. Current value: bagging_fraction=0.8\n",
      "[LightGBM] [Warning] bagging_freq is set=1, subsample_freq=0 will be ignored. Current value: bagging_freq=1\n"
     ]
    },
    {
     "name": "stderr",
     "output_type": "stream",
     "text": [
      "[I 2024-12-02 12:05:11,493] Trial 9 finished with value: 31.80471558300204 and parameters: {'n_estimators': 75, 'num_leaves': 25, 'bagging_fraction': 0.8}. Best is trial 0 with value: 31.396138316719785.\n",
      "/home/kseny/anaconda3/lib/python3.9/site-packages/optuna/distributions.py:708: UserWarning: The distribution is specified by [5, 100] and step=10, but the range is not divisible by `step`. It will be replaced by [5, 95].\n",
      "  warnings.warn(\n"
     ]
    },
    {
     "name": "stdout",
     "output_type": "stream",
     "text": [
      "[LightGBM] [Warning] bagging_fraction is set=0.7, subsample=1.0 will be ignored. Current value: bagging_fraction=0.7\n",
      "[LightGBM] [Warning] bagging_freq is set=1, subsample_freq=0 will be ignored. Current value: bagging_freq=1\n"
     ]
    },
    {
     "name": "stderr",
     "output_type": "stream",
     "text": [
      "[I 2024-12-02 12:05:17,356] Trial 10 finished with value: 31.32746395469259 and parameters: {'n_estimators': 95, 'num_leaves': 95, 'bagging_fraction': 0.7}. Best is trial 10 with value: 31.32746395469259.\n",
      "/home/kseny/anaconda3/lib/python3.9/site-packages/optuna/distributions.py:708: UserWarning: The distribution is specified by [5, 100] and step=10, but the range is not divisible by `step`. It will be replaced by [5, 95].\n",
      "  warnings.warn(\n"
     ]
    },
    {
     "name": "stdout",
     "output_type": "stream",
     "text": [
      "[LightGBM] [Warning] bagging_fraction is set=0.7, subsample=1.0 will be ignored. Current value: bagging_fraction=0.7\n",
      "[LightGBM] [Warning] bagging_freq is set=1, subsample_freq=0 will be ignored. Current value: bagging_freq=1\n"
     ]
    },
    {
     "name": "stderr",
     "output_type": "stream",
     "text": [
      "[I 2024-12-02 12:05:21,371] Trial 11 finished with value: 31.32746395469259 and parameters: {'n_estimators': 95, 'num_leaves': 95, 'bagging_fraction': 0.7}. Best is trial 10 with value: 31.32746395469259.\n",
      "/home/kseny/anaconda3/lib/python3.9/site-packages/optuna/distributions.py:708: UserWarning: The distribution is specified by [5, 100] and step=10, but the range is not divisible by `step`. It will be replaced by [5, 95].\n",
      "  warnings.warn(\n"
     ]
    },
    {
     "name": "stdout",
     "output_type": "stream",
     "text": [
      "[LightGBM] [Warning] bagging_fraction is set=0.7, subsample=1.0 will be ignored. Current value: bagging_fraction=0.7\n",
      "[LightGBM] [Warning] bagging_freq is set=1, subsample_freq=0 will be ignored. Current value: bagging_freq=1\n"
     ]
    },
    {
     "name": "stderr",
     "output_type": "stream",
     "text": [
      "[I 2024-12-02 12:05:26,434] Trial 12 finished with value: 31.32746395469259 and parameters: {'n_estimators': 95, 'num_leaves': 95, 'bagging_fraction': 0.7}. Best is trial 10 with value: 31.32746395469259.\n",
      "/home/kseny/anaconda3/lib/python3.9/site-packages/optuna/distributions.py:708: UserWarning: The distribution is specified by [5, 100] and step=10, but the range is not divisible by `step`. It will be replaced by [5, 95].\n",
      "  warnings.warn(\n"
     ]
    },
    {
     "name": "stdout",
     "output_type": "stream",
     "text": [
      "[LightGBM] [Warning] bagging_fraction is set=0.6, subsample=1.0 will be ignored. Current value: bagging_fraction=0.6\n",
      "[LightGBM] [Warning] bagging_freq is set=1, subsample_freq=0 will be ignored. Current value: bagging_freq=1\n"
     ]
    },
    {
     "name": "stderr",
     "output_type": "stream",
     "text": [
      "[I 2024-12-02 12:05:28,868] Trial 13 finished with value: 31.415079250836932 and parameters: {'n_estimators': 65, 'num_leaves': 95, 'bagging_fraction': 0.6}. Best is trial 10 with value: 31.32746395469259.\n",
      "/home/kseny/anaconda3/lib/python3.9/site-packages/optuna/distributions.py:708: UserWarning: The distribution is specified by [5, 100] and step=10, but the range is not divisible by `step`. It will be replaced by [5, 95].\n",
      "  warnings.warn(\n"
     ]
    },
    {
     "name": "stdout",
     "output_type": "stream",
     "text": [
      "[LightGBM] [Warning] bagging_fraction is set=0.7, subsample=1.0 will be ignored. Current value: bagging_fraction=0.7\n",
      "[LightGBM] [Warning] bagging_freq is set=1, subsample_freq=0 will be ignored. Current value: bagging_freq=1\n"
     ]
    },
    {
     "name": "stderr",
     "output_type": "stream",
     "text": [
      "[I 2024-12-02 12:05:31,427] Trial 14 finished with value: 31.337691572405877 and parameters: {'n_estimators': 95, 'num_leaves': 75, 'bagging_fraction': 0.7}. Best is trial 10 with value: 31.32746395469259.\n",
      "/home/kseny/anaconda3/lib/python3.9/site-packages/optuna/distributions.py:708: UserWarning: The distribution is specified by [5, 100] and step=10, but the range is not divisible by `step`. It will be replaced by [5, 95].\n",
      "  warnings.warn(\n"
     ]
    },
    {
     "name": "stdout",
     "output_type": "stream",
     "text": [
      "[LightGBM] [Warning] bagging_fraction is set=0.6, subsample=1.0 will be ignored. Current value: bagging_fraction=0.6\n",
      "[LightGBM] [Warning] bagging_freq is set=1, subsample_freq=0 will be ignored. Current value: bagging_freq=1\n"
     ]
    },
    {
     "name": "stderr",
     "output_type": "stream",
     "text": [
      "[I 2024-12-02 12:05:31,729] Trial 15 finished with value: 31.446624224270764 and parameters: {'n_estimators': 55, 'num_leaves': 85, 'bagging_fraction': 0.6}. Best is trial 10 with value: 31.32746395469259.\n",
      "/home/kseny/anaconda3/lib/python3.9/site-packages/optuna/distributions.py:708: UserWarning: The distribution is specified by [5, 100] and step=10, but the range is not divisible by `step`. It will be replaced by [5, 95].\n",
      "  warnings.warn(\n"
     ]
    },
    {
     "name": "stdout",
     "output_type": "stream",
     "text": [
      "[LightGBM] [Warning] bagging_fraction is set=0.8, subsample=1.0 will be ignored. Current value: bagging_fraction=0.8\n",
      "[LightGBM] [Warning] bagging_freq is set=1, subsample_freq=0 will be ignored. Current value: bagging_freq=1\n"
     ]
    },
    {
     "name": "stderr",
     "output_type": "stream",
     "text": [
      "[I 2024-12-02 12:05:32,391] Trial 16 finished with value: 31.383458287461224 and parameters: {'n_estimators': 85, 'num_leaves': 65, 'bagging_fraction': 0.8}. Best is trial 10 with value: 31.32746395469259.\n",
      "/home/kseny/anaconda3/lib/python3.9/site-packages/optuna/distributions.py:708: UserWarning: The distribution is specified by [5, 100] and step=10, but the range is not divisible by `step`. It will be replaced by [5, 95].\n",
      "  warnings.warn(\n"
     ]
    },
    {
     "name": "stdout",
     "output_type": "stream",
     "text": [
      "[LightGBM] [Warning] bagging_fraction is set=0.7, subsample=1.0 will be ignored. Current value: bagging_fraction=0.7\n",
      "[LightGBM] [Warning] bagging_freq is set=1, subsample_freq=0 will be ignored. Current value: bagging_freq=1\n"
     ]
    },
    {
     "name": "stderr",
     "output_type": "stream",
     "text": [
      "[I 2024-12-02 12:05:34,237] Trial 17 finished with value: 31.4130971628039 and parameters: {'n_estimators': 35, 'num_leaves': 95, 'bagging_fraction': 0.7}. Best is trial 10 with value: 31.32746395469259.\n",
      "/home/kseny/anaconda3/lib/python3.9/site-packages/optuna/distributions.py:708: UserWarning: The distribution is specified by [5, 100] and step=10, but the range is not divisible by `step`. It will be replaced by [5, 95].\n",
      "  warnings.warn(\n"
     ]
    },
    {
     "name": "stdout",
     "output_type": "stream",
     "text": [
      "[LightGBM] [Warning] bagging_fraction is set=0.6, subsample=1.0 will be ignored. Current value: bagging_fraction=0.6\n",
      "[LightGBM] [Warning] bagging_freq is set=1, subsample_freq=0 will be ignored. Current value: bagging_freq=1\n"
     ]
    },
    {
     "name": "stderr",
     "output_type": "stream",
     "text": [
      "[I 2024-12-02 12:05:38,035] Trial 18 finished with value: 31.42977576842541 and parameters: {'n_estimators': 85, 'num_leaves': 85, 'bagging_fraction': 0.6}. Best is trial 10 with value: 31.32746395469259.\n",
      "/home/kseny/anaconda3/lib/python3.9/site-packages/optuna/distributions.py:708: UserWarning: The distribution is specified by [5, 100] and step=10, but the range is not divisible by `step`. It will be replaced by [5, 95].\n",
      "  warnings.warn(\n",
      "[I 2024-12-02 12:05:38,176] Trial 19 finished with value: 31.410933332208767 and parameters: {'n_estimators': 75, 'num_leaves': 65, 'bagging_fraction': 0.8}. Best is trial 10 with value: 31.32746395469259.\n",
      "/home/kseny/anaconda3/lib/python3.9/site-packages/optuna/distributions.py:708: UserWarning: The distribution is specified by [5, 100] and step=10, but the range is not divisible by `step`. It will be replaced by [5, 95].\n",
      "  warnings.warn(\n"
     ]
    },
    {
     "name": "stdout",
     "output_type": "stream",
     "text": [
      "[LightGBM] [Warning] bagging_fraction is set=0.8, subsample=1.0 will be ignored. Current value: bagging_fraction=0.8\n",
      "[LightGBM] [Warning] bagging_freq is set=1, subsample_freq=0 will be ignored. Current value: bagging_freq=1\n",
      "[LightGBM] [Warning] bagging_fraction is set=0.7, subsample=1.0 will be ignored. Current value: bagging_fraction=0.7\n",
      "[LightGBM] [Warning] bagging_freq is set=1, subsample_freq=0 will be ignored. Current value: bagging_freq=1\n"
     ]
    },
    {
     "name": "stderr",
     "output_type": "stream",
     "text": [
      "[I 2024-12-02 12:05:38,311] Trial 20 finished with value: 31.409070228975708 and parameters: {'n_estimators': 55, 'num_leaves': 85, 'bagging_fraction': 0.7}. Best is trial 10 with value: 31.32746395469259.\n",
      "/home/kseny/anaconda3/lib/python3.9/site-packages/optuna/distributions.py:708: UserWarning: The distribution is specified by [5, 100] and step=10, but the range is not divisible by `step`. It will be replaced by [5, 95].\n",
      "  warnings.warn(\n"
     ]
    },
    {
     "name": "stdout",
     "output_type": "stream",
     "text": [
      "[LightGBM] [Warning] bagging_fraction is set=0.7, subsample=1.0 will be ignored. Current value: bagging_fraction=0.7\n",
      "[LightGBM] [Warning] bagging_freq is set=1, subsample_freq=0 will be ignored. Current value: bagging_freq=1\n"
     ]
    },
    {
     "name": "stderr",
     "output_type": "stream",
     "text": [
      "[I 2024-12-02 12:05:38,659] Trial 21 finished with value: 31.32746395469259 and parameters: {'n_estimators': 95, 'num_leaves': 95, 'bagging_fraction': 0.7}. Best is trial 10 with value: 31.32746395469259.\n",
      "/home/kseny/anaconda3/lib/python3.9/site-packages/optuna/distributions.py:708: UserWarning: The distribution is specified by [5, 100] and step=10, but the range is not divisible by `step`. It will be replaced by [5, 95].\n",
      "  warnings.warn(\n"
     ]
    },
    {
     "name": "stdout",
     "output_type": "stream",
     "text": [
      "[LightGBM] [Warning] bagging_fraction is set=0.7, subsample=1.0 will be ignored. Current value: bagging_fraction=0.7\n",
      "[LightGBM] [Warning] bagging_freq is set=1, subsample_freq=0 will be ignored. Current value: bagging_freq=1\n"
     ]
    },
    {
     "name": "stderr",
     "output_type": "stream",
     "text": [
      "[I 2024-12-02 12:05:38,993] Trial 22 finished with value: 31.32746395469259 and parameters: {'n_estimators': 95, 'num_leaves': 95, 'bagging_fraction': 0.7}. Best is trial 10 with value: 31.32746395469259.\n",
      "/home/kseny/anaconda3/lib/python3.9/site-packages/optuna/distributions.py:708: UserWarning: The distribution is specified by [5, 100] and step=10, but the range is not divisible by `step`. It will be replaced by [5, 95].\n",
      "  warnings.warn(\n"
     ]
    },
    {
     "name": "stdout",
     "output_type": "stream",
     "text": [
      "[LightGBM] [Warning] bagging_fraction is set=0.7, subsample=1.0 will be ignored. Current value: bagging_fraction=0.7\n",
      "[LightGBM] [Warning] bagging_freq is set=1, subsample_freq=0 will be ignored. Current value: bagging_freq=1\n"
     ]
    },
    {
     "name": "stderr",
     "output_type": "stream",
     "text": [
      "[I 2024-12-02 12:05:39,379] Trial 23 finished with value: 31.307171042634025 and parameters: {'n_estimators': 85, 'num_leaves': 85, 'bagging_fraction': 0.7}. Best is trial 23 with value: 31.307171042634025.\n",
      "/home/kseny/anaconda3/lib/python3.9/site-packages/optuna/distributions.py:708: UserWarning: The distribution is specified by [5, 100] and step=10, but the range is not divisible by `step`. It will be replaced by [5, 95].\n",
      "  warnings.warn(\n"
     ]
    },
    {
     "name": "stdout",
     "output_type": "stream",
     "text": [
      "[LightGBM] [Warning] bagging_fraction is set=0.6, subsample=1.0 will be ignored. Current value: bagging_fraction=0.6\n",
      "[LightGBM] [Warning] bagging_freq is set=1, subsample_freq=0 will be ignored. Current value: bagging_freq=1\n"
     ]
    },
    {
     "name": "stderr",
     "output_type": "stream",
     "text": [
      "[I 2024-12-02 12:05:39,675] Trial 24 finished with value: 31.42977576842541 and parameters: {'n_estimators': 85, 'num_leaves': 85, 'bagging_fraction': 0.6}. Best is trial 23 with value: 31.307171042634025.\n",
      "/home/kseny/anaconda3/lib/python3.9/site-packages/optuna/distributions.py:708: UserWarning: The distribution is specified by [5, 100] and step=10, but the range is not divisible by `step`. It will be replaced by [5, 95].\n",
      "  warnings.warn(\n",
      "[I 2024-12-02 12:05:39,895] Trial 25 finished with value: 31.344666733592934 and parameters: {'n_estimators': 75, 'num_leaves': 65, 'bagging_fraction': 0.7}. Best is trial 23 with value: 31.307171042634025.\n"
     ]
    },
    {
     "name": "stdout",
     "output_type": "stream",
     "text": [
      "[LightGBM] [Warning] bagging_fraction is set=0.7, subsample=1.0 will be ignored. Current value: bagging_fraction=0.7\n",
      "[LightGBM] [Warning] bagging_freq is set=1, subsample_freq=0 will be ignored. Current value: bagging_freq=1\n"
     ]
    },
    {
     "name": "stderr",
     "output_type": "stream",
     "text": [
      "/home/kseny/anaconda3/lib/python3.9/site-packages/optuna/distributions.py:708: UserWarning: The distribution is specified by [5, 100] and step=10, but the range is not divisible by `step`. It will be replaced by [5, 95].\n",
      "  warnings.warn(\n",
      "[I 2024-12-02 12:05:40,056] Trial 26 finished with value: 31.421764196383467 and parameters: {'n_estimators': 65, 'num_leaves': 75, 'bagging_fraction': 0.8}. Best is trial 23 with value: 31.307171042634025.\n",
      "/home/kseny/anaconda3/lib/python3.9/site-packages/optuna/distributions.py:708: UserWarning: The distribution is specified by [5, 100] and step=10, but the range is not divisible by `step`. It will be replaced by [5, 95].\n",
      "  warnings.warn(\n"
     ]
    },
    {
     "name": "stdout",
     "output_type": "stream",
     "text": [
      "[LightGBM] [Warning] bagging_fraction is set=0.8, subsample=1.0 will be ignored. Current value: bagging_fraction=0.8\n",
      "[LightGBM] [Warning] bagging_freq is set=1, subsample_freq=0 will be ignored. Current value: bagging_freq=1\n",
      "[LightGBM] [Warning] bagging_fraction is set=0.7, subsample=1.0 will be ignored. Current value: bagging_fraction=0.7\n",
      "[LightGBM] [Warning] bagging_freq is set=1, subsample_freq=0 will be ignored. Current value: bagging_freq=1\n"
     ]
    },
    {
     "name": "stderr",
     "output_type": "stream",
     "text": [
      "[I 2024-12-02 12:05:40,224] Trial 27 finished with value: 31.307171042634025 and parameters: {'n_estimators': 85, 'num_leaves': 85, 'bagging_fraction': 0.7}. Best is trial 23 with value: 31.307171042634025.\n",
      "/home/kseny/anaconda3/lib/python3.9/site-packages/optuna/distributions.py:708: UserWarning: The distribution is specified by [5, 100] and step=10, but the range is not divisible by `step`. It will be replaced by [5, 95].\n",
      "  warnings.warn(\n",
      "[I 2024-12-02 12:05:40,444] Trial 28 finished with value: 31.42977576842541 and parameters: {'n_estimators': 85, 'num_leaves': 85, 'bagging_fraction': 0.6}. Best is trial 23 with value: 31.307171042634025.\n"
     ]
    },
    {
     "name": "stdout",
     "output_type": "stream",
     "text": [
      "[LightGBM] [Warning] bagging_fraction is set=0.6, subsample=1.0 will be ignored. Current value: bagging_fraction=0.6\n",
      "[LightGBM] [Warning] bagging_freq is set=1, subsample_freq=0 will be ignored. Current value: bagging_freq=1\n"
     ]
    },
    {
     "name": "stderr",
     "output_type": "stream",
     "text": [
      "/home/kseny/anaconda3/lib/python3.9/site-packages/optuna/distributions.py:708: UserWarning: The distribution is specified by [5, 100] and step=10, but the range is not divisible by `step`. It will be replaced by [5, 95].\n",
      "  warnings.warn(\n",
      "[I 2024-12-02 12:05:40,654] Trial 29 finished with value: 31.3445533592456 and parameters: {'n_estimators': 85, 'num_leaves': 55, 'bagging_fraction': 0.7}. Best is trial 23 with value: 31.307171042634025.\n"
     ]
    },
    {
     "name": "stdout",
     "output_type": "stream",
     "text": [
      "[LightGBM] [Warning] bagging_fraction is set=0.7, subsample=1.0 will be ignored. Current value: bagging_fraction=0.7\n",
      "[LightGBM] [Warning] bagging_freq is set=1, subsample_freq=0 will be ignored. Current value: bagging_freq=1\n"
     ]
    },
    {
     "name": "stderr",
     "output_type": "stream",
     "text": [
      "/home/kseny/anaconda3/lib/python3.9/site-packages/optuna/distributions.py:708: UserWarning: The distribution is specified by [5, 100] and step=10, but the range is not divisible by `step`. It will be replaced by [5, 95].\n",
      "  warnings.warn(\n",
      "[I 2024-12-02 12:05:40,894] Trial 30 finished with value: 31.410933332208767 and parameters: {'n_estimators': 75, 'num_leaves': 65, 'bagging_fraction': 0.8}. Best is trial 23 with value: 31.307171042634025.\n"
     ]
    },
    {
     "name": "stdout",
     "output_type": "stream",
     "text": [
      "[LightGBM] [Warning] bagging_fraction is set=0.8, subsample=1.0 will be ignored. Current value: bagging_fraction=0.8\n",
      "[LightGBM] [Warning] bagging_freq is set=1, subsample_freq=0 will be ignored. Current value: bagging_freq=1\n"
     ]
    },
    {
     "name": "stderr",
     "output_type": "stream",
     "text": [
      "/home/kseny/anaconda3/lib/python3.9/site-packages/optuna/distributions.py:708: UserWarning: The distribution is specified by [5, 100] and step=10, but the range is not divisible by `step`. It will be replaced by [5, 95].\n",
      "  warnings.warn(\n"
     ]
    },
    {
     "name": "stdout",
     "output_type": "stream",
     "text": [
      "[LightGBM] [Warning] bagging_fraction is set=0.7, subsample=1.0 will be ignored. Current value: bagging_fraction=0.7\n",
      "[LightGBM] [Warning] bagging_freq is set=1, subsample_freq=0 will be ignored. Current value: bagging_freq=1\n"
     ]
    },
    {
     "name": "stderr",
     "output_type": "stream",
     "text": [
      "[I 2024-12-02 12:05:41,207] Trial 31 finished with value: 31.332615381030116 and parameters: {'n_estimators': 95, 'num_leaves': 85, 'bagging_fraction': 0.7}. Best is trial 23 with value: 31.307171042634025.\n",
      "/home/kseny/anaconda3/lib/python3.9/site-packages/optuna/distributions.py:708: UserWarning: The distribution is specified by [5, 100] and step=10, but the range is not divisible by `step`. It will be replaced by [5, 95].\n",
      "  warnings.warn(\n"
     ]
    },
    {
     "name": "stdout",
     "output_type": "stream",
     "text": [
      "[LightGBM] [Warning] bagging_fraction is set=0.7, subsample=1.0 will be ignored. Current value: bagging_fraction=0.7\n",
      "[LightGBM] [Warning] bagging_freq is set=1, subsample_freq=0 will be ignored. Current value: bagging_freq=1\n"
     ]
    },
    {
     "name": "stderr",
     "output_type": "stream",
     "text": [
      "[I 2024-12-02 12:05:41,525] Trial 32 finished with value: 31.32746395469259 and parameters: {'n_estimators': 95, 'num_leaves': 95, 'bagging_fraction': 0.7}. Best is trial 23 with value: 31.307171042634025.\n",
      "/home/kseny/anaconda3/lib/python3.9/site-packages/optuna/distributions.py:708: UserWarning: The distribution is specified by [5, 100] and step=10, but the range is not divisible by `step`. It will be replaced by [5, 95].\n",
      "  warnings.warn(\n"
     ]
    },
    {
     "name": "stdout",
     "output_type": "stream",
     "text": [
      "[LightGBM] [Warning] bagging_fraction is set=0.7, subsample=1.0 will be ignored. Current value: bagging_fraction=0.7\n",
      "[LightGBM] [Warning] bagging_freq is set=1, subsample_freq=0 will be ignored. Current value: bagging_freq=1\n"
     ]
    },
    {
     "name": "stderr",
     "output_type": "stream",
     "text": [
      "[I 2024-12-02 12:05:41,845] Trial 33 finished with value: 31.312803110351886 and parameters: {'n_estimators': 85, 'num_leaves': 75, 'bagging_fraction': 0.7}. Best is trial 23 with value: 31.307171042634025.\n",
      "/home/kseny/anaconda3/lib/python3.9/site-packages/optuna/distributions.py:708: UserWarning: The distribution is specified by [5, 100] and step=10, but the range is not divisible by `step`. It will be replaced by [5, 95].\n",
      "  warnings.warn(\n",
      "[I 2024-12-02 12:05:42,015] Trial 34 finished with value: 31.444717764284345 and parameters: {'n_estimators': 65, 'num_leaves': 75, 'bagging_fraction': 0.5}. Best is trial 23 with value: 31.307171042634025.\n",
      "/home/kseny/anaconda3/lib/python3.9/site-packages/optuna/distributions.py:708: UserWarning: The distribution is specified by [5, 100] and step=10, but the range is not divisible by `step`. It will be replaced by [5, 95].\n",
      "  warnings.warn(\n"
     ]
    },
    {
     "name": "stdout",
     "output_type": "stream",
     "text": [
      "[LightGBM] [Warning] bagging_fraction is set=0.5, subsample=1.0 will be ignored. Current value: bagging_fraction=0.5\n",
      "[LightGBM] [Warning] bagging_freq is set=1, subsample_freq=0 will be ignored. Current value: bagging_freq=1\n",
      "[LightGBM] [Warning] bagging_fraction is set=0.7, subsample=1.0 will be ignored. Current value: bagging_fraction=0.7\n",
      "[LightGBM] [Warning] bagging_freq is set=1, subsample_freq=0 will be ignored. Current value: bagging_freq=1\n"
     ]
    },
    {
     "name": "stderr",
     "output_type": "stream",
     "text": [
      "[I 2024-12-02 12:05:42,186] Trial 35 finished with value: 31.307171042634025 and parameters: {'n_estimators': 85, 'num_leaves': 85, 'bagging_fraction': 0.7}. Best is trial 23 with value: 31.307171042634025.\n",
      "/home/kseny/anaconda3/lib/python3.9/site-packages/optuna/distributions.py:708: UserWarning: The distribution is specified by [5, 100] and step=10, but the range is not divisible by `step`. It will be replaced by [5, 95].\n",
      "  warnings.warn(\n",
      "[I 2024-12-02 12:05:42,245] Trial 36 finished with value: 35.45442596696008 and parameters: {'n_estimators': 75, 'num_leaves': 5, 'bagging_fraction': 0.7}. Best is trial 23 with value: 31.307171042634025.\n",
      "/home/kseny/anaconda3/lib/python3.9/site-packages/optuna/distributions.py:708: UserWarning: The distribution is specified by [5, 100] and step=10, but the range is not divisible by `step`. It will be replaced by [5, 95].\n",
      "  warnings.warn(\n"
     ]
    },
    {
     "name": "stdout",
     "output_type": "stream",
     "text": [
      "[LightGBM] [Warning] bagging_fraction is set=0.7, subsample=1.0 will be ignored. Current value: bagging_fraction=0.7\n",
      "[LightGBM] [Warning] bagging_freq is set=1, subsample_freq=0 will be ignored. Current value: bagging_freq=1\n",
      "[LightGBM] [Warning] bagging_fraction is set=0.7, subsample=1.0 will be ignored. Current value: bagging_fraction=0.7\n",
      "[LightGBM] [Warning] bagging_freq is set=1, subsample_freq=0 will be ignored. Current value: bagging_freq=1\n"
     ]
    },
    {
     "name": "stderr",
     "output_type": "stream",
     "text": [
      "[I 2024-12-02 12:05:42,429] Trial 37 finished with value: 31.3445533592456 and parameters: {'n_estimators': 85, 'num_leaves': 55, 'bagging_fraction': 0.7}. Best is trial 23 with value: 31.307171042634025.\n",
      "/home/kseny/anaconda3/lib/python3.9/site-packages/optuna/distributions.py:708: UserWarning: The distribution is specified by [5, 100] and step=10, but the range is not divisible by `step`. It will be replaced by [5, 95].\n",
      "  warnings.warn(\n",
      "[I 2024-12-02 12:05:42,586] Trial 38 finished with value: 31.496002299465584 and parameters: {'n_estimators': 55, 'num_leaves': 75, 'bagging_fraction': 0.5}. Best is trial 23 with value: 31.307171042634025.\n",
      "/home/kseny/anaconda3/lib/python3.9/site-packages/optuna/distributions.py:708: UserWarning: The distribution is specified by [5, 100] and step=10, but the range is not divisible by `step`. It will be replaced by [5, 95].\n",
      "  warnings.warn(\n"
     ]
    },
    {
     "name": "stdout",
     "output_type": "stream",
     "text": [
      "[LightGBM] [Warning] bagging_fraction is set=0.5, subsample=1.0 will be ignored. Current value: bagging_fraction=0.5\n",
      "[LightGBM] [Warning] bagging_freq is set=1, subsample_freq=0 will be ignored. Current value: bagging_freq=1\n",
      "[LightGBM] [Warning] bagging_fraction is set=0.8, subsample=1.0 will be ignored. Current value: bagging_fraction=0.8\n",
      "[LightGBM] [Warning] bagging_freq is set=1, subsample_freq=0 will be ignored. Current value: bagging_freq=1\n"
     ]
    },
    {
     "name": "stderr",
     "output_type": "stream",
     "text": [
      "[I 2024-12-02 12:05:42,773] Trial 39 finished with value: 31.452806830867928 and parameters: {'n_estimators': 45, 'num_leaves': 85, 'bagging_fraction': 0.8}. Best is trial 23 with value: 31.307171042634025.\n",
      "/home/kseny/anaconda3/lib/python3.9/site-packages/optuna/distributions.py:708: UserWarning: The distribution is specified by [5, 100] and step=10, but the range is not divisible by `step`. It will be replaced by [5, 95].\n",
      "  warnings.warn(\n",
      "[I 2024-12-02 12:05:42,846] Trial 40 finished with value: 31.595521209333597 and parameters: {'n_estimators': 15, 'num_leaves': 45, 'bagging_fraction': 0.6}. Best is trial 23 with value: 31.307171042634025.\n",
      "/home/kseny/anaconda3/lib/python3.9/site-packages/optuna/distributions.py:708: UserWarning: The distribution is specified by [5, 100] and step=10, but the range is not divisible by `step`. It will be replaced by [5, 95].\n",
      "  warnings.warn(\n"
     ]
    },
    {
     "name": "stdout",
     "output_type": "stream",
     "text": [
      "[LightGBM] [Warning] bagging_fraction is set=0.6, subsample=1.0 will be ignored. Current value: bagging_fraction=0.6\n",
      "[LightGBM] [Warning] bagging_freq is set=1, subsample_freq=0 will be ignored. Current value: bagging_freq=1\n",
      "[LightGBM] [Warning] bagging_fraction is set=0.7, subsample=1.0 will be ignored. Current value: bagging_fraction=0.7\n",
      "[LightGBM] [Warning] bagging_freq is set=1, subsample_freq=0 will be ignored. Current value: bagging_freq=1\n"
     ]
    },
    {
     "name": "stderr",
     "output_type": "stream",
     "text": [
      "[I 2024-12-02 12:05:43,129] Trial 41 finished with value: 31.307171042634025 and parameters: {'n_estimators': 85, 'num_leaves': 85, 'bagging_fraction': 0.7}. Best is trial 23 with value: 31.307171042634025.\n",
      "/home/kseny/anaconda3/lib/python3.9/site-packages/optuna/distributions.py:708: UserWarning: The distribution is specified by [5, 100] and step=10, but the range is not divisible by `step`. It will be replaced by [5, 95].\n",
      "  warnings.warn(\n",
      "[I 2024-12-02 12:05:43,346] Trial 42 finished with value: 31.33068430416191 and parameters: {'n_estimators': 75, 'num_leaves': 75, 'bagging_fraction': 0.7}. Best is trial 23 with value: 31.307171042634025.\n"
     ]
    },
    {
     "name": "stdout",
     "output_type": "stream",
     "text": [
      "[LightGBM] [Warning] bagging_fraction is set=0.7, subsample=1.0 will be ignored. Current value: bagging_fraction=0.7\n",
      "[LightGBM] [Warning] bagging_freq is set=1, subsample_freq=0 will be ignored. Current value: bagging_freq=1\n"
     ]
    },
    {
     "name": "stderr",
     "output_type": "stream",
     "text": [
      "/home/kseny/anaconda3/lib/python3.9/site-packages/optuna/distributions.py:708: UserWarning: The distribution is specified by [5, 100] and step=10, but the range is not divisible by `step`. It will be replaced by [5, 95].\n",
      "  warnings.warn(\n"
     ]
    },
    {
     "name": "stdout",
     "output_type": "stream",
     "text": [
      "[LightGBM] [Warning] bagging_fraction is set=0.7, subsample=1.0 will be ignored. Current value: bagging_fraction=0.7\n",
      "[LightGBM] [Warning] bagging_freq is set=1, subsample_freq=0 will be ignored. Current value: bagging_freq=1\n"
     ]
    },
    {
     "name": "stderr",
     "output_type": "stream",
     "text": [
      "[I 2024-12-02 12:05:43,640] Trial 43 finished with value: 31.307171042634025 and parameters: {'n_estimators': 85, 'num_leaves': 85, 'bagging_fraction': 0.7}. Best is trial 23 with value: 31.307171042634025.\n",
      "/home/kseny/anaconda3/lib/python3.9/site-packages/optuna/distributions.py:708: UserWarning: The distribution is specified by [5, 100] and step=10, but the range is not divisible by `step`. It will be replaced by [5, 95].\n",
      "  warnings.warn(\n"
     ]
    },
    {
     "name": "stdout",
     "output_type": "stream",
     "text": [
      "[LightGBM] [Warning] bagging_fraction is set=0.7, subsample=1.0 will be ignored. Current value: bagging_fraction=0.7\n",
      "[LightGBM] [Warning] bagging_freq is set=1, subsample_freq=0 will be ignored. Current value: bagging_freq=1\n"
     ]
    },
    {
     "name": "stderr",
     "output_type": "stream",
     "text": [
      "[I 2024-12-02 12:05:43,970] Trial 44 finished with value: 31.327359325965624 and parameters: {'n_estimators': 75, 'num_leaves': 85, 'bagging_fraction': 0.7}. Best is trial 23 with value: 31.307171042634025.\n",
      "/home/kseny/anaconda3/lib/python3.9/site-packages/optuna/distributions.py:708: UserWarning: The distribution is specified by [5, 100] and step=10, but the range is not divisible by `step`. It will be replaced by [5, 95].\n",
      "  warnings.warn(\n",
      "[I 2024-12-02 12:05:44,104] Trial 45 finished with value: 31.389028696901974 and parameters: {'n_estimators': 65, 'num_leaves': 85, 'bagging_fraction': 0.7}. Best is trial 23 with value: 31.307171042634025.\n",
      "/home/kseny/anaconda3/lib/python3.9/site-packages/optuna/distributions.py:708: UserWarning: The distribution is specified by [5, 100] and step=10, but the range is not divisible by `step`. It will be replaced by [5, 95].\n",
      "  warnings.warn(\n"
     ]
    },
    {
     "name": "stdout",
     "output_type": "stream",
     "text": [
      "[LightGBM] [Warning] bagging_fraction is set=0.7, subsample=1.0 will be ignored. Current value: bagging_fraction=0.7\n",
      "[LightGBM] [Warning] bagging_freq is set=1, subsample_freq=0 will be ignored. Current value: bagging_freq=1\n",
      "[LightGBM] [Warning] bagging_fraction is set=0.7, subsample=1.0 will be ignored. Current value: bagging_fraction=0.7\n",
      "[LightGBM] [Warning] bagging_freq is set=1, subsample_freq=0 will be ignored. Current value: bagging_freq=1\n"
     ]
    },
    {
     "name": "stderr",
     "output_type": "stream",
     "text": [
      "[I 2024-12-02 12:05:44,212] Trial 46 finished with value: 31.474876621233122 and parameters: {'n_estimators': 85, 'num_leaves': 35, 'bagging_fraction': 0.7}. Best is trial 23 with value: 31.307171042634025.\n",
      "/home/kseny/anaconda3/lib/python3.9/site-packages/optuna/distributions.py:708: UserWarning: The distribution is specified by [5, 100] and step=10, but the range is not divisible by `step`. It will be replaced by [5, 95].\n",
      "  warnings.warn(\n"
     ]
    },
    {
     "name": "stdout",
     "output_type": "stream",
     "text": [
      "[LightGBM] [Warning] bagging_fraction is set=0.7, subsample=1.0 will be ignored. Current value: bagging_fraction=0.7\n",
      "[LightGBM] [Warning] bagging_freq is set=1, subsample_freq=0 will be ignored. Current value: bagging_freq=1\n"
     ]
    },
    {
     "name": "stderr",
     "output_type": "stream",
     "text": [
      "[I 2024-12-02 12:05:45,523] Trial 47 finished with value: 31.3242790214066 and parameters: {'n_estimators': 85, 'num_leaves': 65, 'bagging_fraction': 0.7}. Best is trial 23 with value: 31.307171042634025.\n",
      "/home/kseny/anaconda3/lib/python3.9/site-packages/optuna/distributions.py:708: UserWarning: The distribution is specified by [5, 100] and step=10, but the range is not divisible by `step`. It will be replaced by [5, 95].\n",
      "  warnings.warn(\n"
     ]
    },
    {
     "name": "stdout",
     "output_type": "stream",
     "text": [
      "[LightGBM] [Warning] bagging_fraction is set=0.8, subsample=1.0 will be ignored. Current value: bagging_fraction=0.8\n",
      "[LightGBM] [Warning] bagging_freq is set=1, subsample_freq=0 will be ignored. Current value: bagging_freq=1\n"
     ]
    },
    {
     "name": "stderr",
     "output_type": "stream",
     "text": [
      "[I 2024-12-02 12:05:46,644] Trial 48 finished with value: 31.80471558300204 and parameters: {'n_estimators': 75, 'num_leaves': 25, 'bagging_fraction': 0.8}. Best is trial 23 with value: 31.307171042634025.\n",
      "/home/kseny/anaconda3/lib/python3.9/site-packages/optuna/distributions.py:708: UserWarning: The distribution is specified by [5, 100] and step=10, but the range is not divisible by `step`. It will be replaced by [5, 95].\n",
      "  warnings.warn(\n"
     ]
    },
    {
     "name": "stdout",
     "output_type": "stream",
     "text": [
      "[LightGBM] [Warning] bagging_fraction is set=0.6, subsample=1.0 will be ignored. Current value: bagging_fraction=0.6\n",
      "[LightGBM] [Warning] bagging_freq is set=1, subsample_freq=0 will be ignored. Current value: bagging_freq=1\n"
     ]
    },
    {
     "name": "stderr",
     "output_type": "stream",
     "text": [
      "[I 2024-12-02 12:05:49,132] Trial 49 finished with value: 31.413032702033544 and parameters: {'n_estimators': 65, 'num_leaves': 75, 'bagging_fraction': 0.6}. Best is trial 23 with value: 31.307171042634025.\n",
      "/home/kseny/anaconda3/lib/python3.9/site-packages/optuna/distributions.py:708: UserWarning: The distribution is specified by [5, 100] and step=10, but the range is not divisible by `step`. It will be replaced by [5, 95].\n",
      "  warnings.warn(\n"
     ]
    },
    {
     "name": "stdout",
     "output_type": "stream",
     "text": [
      "[LightGBM] [Warning] bagging_fraction is set=0.7, subsample=1.0 will be ignored. Current value: bagging_fraction=0.7\n",
      "[LightGBM] [Warning] bagging_freq is set=1, subsample_freq=0 will be ignored. Current value: bagging_freq=1\n"
     ]
    },
    {
     "name": "stderr",
     "output_type": "stream",
     "text": [
      "[I 2024-12-02 12:05:51,057] Trial 50 finished with value: 31.4130971628039 and parameters: {'n_estimators': 35, 'num_leaves': 95, 'bagging_fraction': 0.7}. Best is trial 23 with value: 31.307171042634025.\n",
      "/home/kseny/anaconda3/lib/python3.9/site-packages/optuna/distributions.py:708: UserWarning: The distribution is specified by [5, 100] and step=10, but the range is not divisible by `step`. It will be replaced by [5, 95].\n",
      "  warnings.warn(\n"
     ]
    },
    {
     "name": "stdout",
     "output_type": "stream",
     "text": [
      "[LightGBM] [Warning] bagging_fraction is set=0.7, subsample=1.0 will be ignored. Current value: bagging_fraction=0.7\n",
      "[LightGBM] [Warning] bagging_freq is set=1, subsample_freq=0 will be ignored. Current value: bagging_freq=1\n"
     ]
    },
    {
     "name": "stderr",
     "output_type": "stream",
     "text": [
      "[I 2024-12-02 12:05:54,123] Trial 51 finished with value: 31.307171042634025 and parameters: {'n_estimators': 85, 'num_leaves': 85, 'bagging_fraction': 0.7}. Best is trial 23 with value: 31.307171042634025.\n",
      "/home/kseny/anaconda3/lib/python3.9/site-packages/optuna/distributions.py:708: UserWarning: The distribution is specified by [5, 100] and step=10, but the range is not divisible by `step`. It will be replaced by [5, 95].\n",
      "  warnings.warn(\n"
     ]
    },
    {
     "name": "stdout",
     "output_type": "stream",
     "text": [
      "[LightGBM] [Warning] bagging_fraction is set=0.7, subsample=1.0 will be ignored. Current value: bagging_fraction=0.7\n",
      "[LightGBM] [Warning] bagging_freq is set=1, subsample_freq=0 will be ignored. Current value: bagging_freq=1\n"
     ]
    },
    {
     "name": "stderr",
     "output_type": "stream",
     "text": [
      "[I 2024-12-02 12:05:58,967] Trial 52 finished with value: 31.332615381030116 and parameters: {'n_estimators': 95, 'num_leaves': 85, 'bagging_fraction': 0.7}. Best is trial 23 with value: 31.307171042634025.\n",
      "/home/kseny/anaconda3/lib/python3.9/site-packages/optuna/distributions.py:708: UserWarning: The distribution is specified by [5, 100] and step=10, but the range is not divisible by `step`. It will be replaced by [5, 95].\n",
      "  warnings.warn(\n"
     ]
    },
    {
     "name": "stdout",
     "output_type": "stream",
     "text": [
      "[LightGBM] [Warning] bagging_fraction is set=0.7, subsample=1.0 will be ignored. Current value: bagging_fraction=0.7\n",
      "[LightGBM] [Warning] bagging_freq is set=1, subsample_freq=0 will be ignored. Current value: bagging_freq=1\n"
     ]
    },
    {
     "name": "stderr",
     "output_type": "stream",
     "text": [
      "[I 2024-12-02 12:06:02,216] Trial 53 finished with value: 31.307171042634025 and parameters: {'n_estimators': 85, 'num_leaves': 85, 'bagging_fraction': 0.7}. Best is trial 23 with value: 31.307171042634025.\n",
      "/home/kseny/anaconda3/lib/python3.9/site-packages/optuna/distributions.py:708: UserWarning: The distribution is specified by [5, 100] and step=10, but the range is not divisible by `step`. It will be replaced by [5, 95].\n",
      "  warnings.warn(\n"
     ]
    },
    {
     "name": "stdout",
     "output_type": "stream",
     "text": [
      "[LightGBM] [Warning] bagging_fraction is set=0.7, subsample=1.0 will be ignored. Current value: bagging_fraction=0.7\n",
      "[LightGBM] [Warning] bagging_freq is set=1, subsample_freq=0 will be ignored. Current value: bagging_freq=1\n"
     ]
    },
    {
     "name": "stderr",
     "output_type": "stream",
     "text": [
      "[I 2024-12-02 12:06:06,740] Trial 54 finished with value: 31.301529597003945 and parameters: {'n_estimators': 85, 'num_leaves': 95, 'bagging_fraction': 0.7}. Best is trial 54 with value: 31.301529597003945.\n",
      "/home/kseny/anaconda3/lib/python3.9/site-packages/optuna/distributions.py:708: UserWarning: The distribution is specified by [5, 100] and step=10, but the range is not divisible by `step`. It will be replaced by [5, 95].\n",
      "  warnings.warn(\n"
     ]
    },
    {
     "name": "stdout",
     "output_type": "stream",
     "text": [
      "[LightGBM] [Warning] bagging_fraction is set=0.7, subsample=1.0 will be ignored. Current value: bagging_fraction=0.7\n",
      "[LightGBM] [Warning] bagging_freq is set=1, subsample_freq=0 will be ignored. Current value: bagging_freq=1\n"
     ]
    },
    {
     "name": "stderr",
     "output_type": "stream",
     "text": [
      "[I 2024-12-02 12:06:07,144] Trial 55 finished with value: 31.32746395469259 and parameters: {'n_estimators': 95, 'num_leaves': 95, 'bagging_fraction': 0.7}. Best is trial 54 with value: 31.301529597003945.\n",
      "/home/kseny/anaconda3/lib/python3.9/site-packages/optuna/distributions.py:708: UserWarning: The distribution is specified by [5, 100] and step=10, but the range is not divisible by `step`. It will be replaced by [5, 95].\n",
      "  warnings.warn(\n"
     ]
    },
    {
     "name": "stdout",
     "output_type": "stream",
     "text": [
      "[LightGBM] [Warning] bagging_fraction is set=0.7, subsample=1.0 will be ignored. Current value: bagging_fraction=0.7\n",
      "[LightGBM] [Warning] bagging_freq is set=1, subsample_freq=0 will be ignored. Current value: bagging_freq=1\n"
     ]
    },
    {
     "name": "stderr",
     "output_type": "stream",
     "text": [
      "[I 2024-12-02 12:06:07,407] Trial 56 finished with value: 31.321201177504868 and parameters: {'n_estimators': 75, 'num_leaves': 95, 'bagging_fraction': 0.7}. Best is trial 54 with value: 31.301529597003945.\n",
      "/home/kseny/anaconda3/lib/python3.9/site-packages/optuna/distributions.py:708: UserWarning: The distribution is specified by [5, 100] and step=10, but the range is not divisible by `step`. It will be replaced by [5, 95].\n",
      "  warnings.warn(\n"
     ]
    },
    {
     "name": "stdout",
     "output_type": "stream",
     "text": [
      "[LightGBM] [Warning] bagging_fraction is set=0.7, subsample=1.0 will be ignored. Current value: bagging_fraction=0.7\n",
      "[LightGBM] [Warning] bagging_freq is set=1, subsample_freq=0 will be ignored. Current value: bagging_freq=1\n"
     ]
    },
    {
     "name": "stderr",
     "output_type": "stream",
     "text": [
      "[I 2024-12-02 12:06:07,724] Trial 57 finished with value: 31.301529597003945 and parameters: {'n_estimators': 85, 'num_leaves': 95, 'bagging_fraction': 0.7}. Best is trial 54 with value: 31.301529597003945.\n",
      "/home/kseny/anaconda3/lib/python3.9/site-packages/optuna/distributions.py:708: UserWarning: The distribution is specified by [5, 100] and step=10, but the range is not divisible by `step`. It will be replaced by [5, 95].\n",
      "  warnings.warn(\n"
     ]
    },
    {
     "name": "stdout",
     "output_type": "stream",
     "text": [
      "[LightGBM] [Warning] bagging_fraction is set=0.6, subsample=1.0 will be ignored. Current value: bagging_fraction=0.6\n",
      "[LightGBM] [Warning] bagging_freq is set=1, subsample_freq=0 will be ignored. Current value: bagging_freq=1\n"
     ]
    },
    {
     "name": "stderr",
     "output_type": "stream",
     "text": [
      "[I 2024-12-02 12:06:08,008] Trial 58 finished with value: 31.44966494736353 and parameters: {'n_estimators': 95, 'num_leaves': 95, 'bagging_fraction': 0.6}. Best is trial 54 with value: 31.301529597003945.\n",
      "/home/kseny/anaconda3/lib/python3.9/site-packages/optuna/distributions.py:708: UserWarning: The distribution is specified by [5, 100] and step=10, but the range is not divisible by `step`. It will be replaced by [5, 95].\n",
      "  warnings.warn(\n",
      "[I 2024-12-02 12:06:08,158] Trial 59 finished with value: 31.365559647397884 and parameters: {'n_estimators': 75, 'num_leaves': 95, 'bagging_fraction': 0.8}. Best is trial 54 with value: 31.301529597003945.\n",
      "/home/kseny/anaconda3/lib/python3.9/site-packages/optuna/distributions.py:708: UserWarning: The distribution is specified by [5, 100] and step=10, but the range is not divisible by `step`. It will be replaced by [5, 95].\n",
      "  warnings.warn(\n"
     ]
    },
    {
     "name": "stdout",
     "output_type": "stream",
     "text": [
      "[LightGBM] [Warning] bagging_fraction is set=0.8, subsample=1.0 will be ignored. Current value: bagging_fraction=0.8\n",
      "[LightGBM] [Warning] bagging_freq is set=1, subsample_freq=0 will be ignored. Current value: bagging_freq=1\n",
      "[LightGBM] [Warning] bagging_fraction is set=0.7, subsample=1.0 will be ignored. Current value: bagging_fraction=0.7\n",
      "[LightGBM] [Warning] bagging_freq is set=1, subsample_freq=0 will be ignored. Current value: bagging_freq=1\n"
     ]
    },
    {
     "name": "stderr",
     "output_type": "stream",
     "text": [
      "[I 2024-12-02 12:06:08,244] Trial 60 finished with value: 31.491866883553477 and parameters: {'n_estimators': 25, 'num_leaves': 95, 'bagging_fraction': 0.7}. Best is trial 54 with value: 31.301529597003945.\n",
      "/home/kseny/anaconda3/lib/python3.9/site-packages/optuna/distributions.py:708: UserWarning: The distribution is specified by [5, 100] and step=10, but the range is not divisible by `step`. It will be replaced by [5, 95].\n",
      "  warnings.warn(\n"
     ]
    },
    {
     "name": "stdout",
     "output_type": "stream",
     "text": [
      "[LightGBM] [Warning] bagging_fraction is set=0.7, subsample=1.0 will be ignored. Current value: bagging_fraction=0.7\n",
      "[LightGBM] [Warning] bagging_freq is set=1, subsample_freq=0 will be ignored. Current value: bagging_freq=1\n"
     ]
    },
    {
     "name": "stderr",
     "output_type": "stream",
     "text": [
      "[I 2024-12-02 12:06:08,652] Trial 61 finished with value: 31.307171042634025 and parameters: {'n_estimators': 85, 'num_leaves': 85, 'bagging_fraction': 0.7}. Best is trial 54 with value: 31.301529597003945.\n",
      "/home/kseny/anaconda3/lib/python3.9/site-packages/optuna/distributions.py:708: UserWarning: The distribution is specified by [5, 100] and step=10, but the range is not divisible by `step`. It will be replaced by [5, 95].\n",
      "  warnings.warn(\n"
     ]
    },
    {
     "name": "stdout",
     "output_type": "stream",
     "text": [
      "[LightGBM] [Warning] bagging_fraction is set=0.7, subsample=1.0 will be ignored. Current value: bagging_fraction=0.7\n",
      "[LightGBM] [Warning] bagging_freq is set=1, subsample_freq=0 will be ignored. Current value: bagging_freq=1\n"
     ]
    },
    {
     "name": "stderr",
     "output_type": "stream",
     "text": [
      "[I 2024-12-02 12:06:08,942] Trial 62 finished with value: 31.312803110351886 and parameters: {'n_estimators': 85, 'num_leaves': 75, 'bagging_fraction': 0.7}. Best is trial 54 with value: 31.301529597003945.\n",
      "/home/kseny/anaconda3/lib/python3.9/site-packages/optuna/distributions.py:708: UserWarning: The distribution is specified by [5, 100] and step=10, but the range is not divisible by `step`. It will be replaced by [5, 95].\n",
      "  warnings.warn(\n"
     ]
    },
    {
     "name": "stdout",
     "output_type": "stream",
     "text": [
      "[LightGBM] [Warning] bagging_fraction is set=0.7, subsample=1.0 will be ignored. Current value: bagging_fraction=0.7\n",
      "[LightGBM] [Warning] bagging_freq is set=1, subsample_freq=0 will be ignored. Current value: bagging_freq=1\n"
     ]
    },
    {
     "name": "stderr",
     "output_type": "stream",
     "text": [
      "[I 2024-12-02 12:06:09,274] Trial 63 finished with value: 31.332615381030116 and parameters: {'n_estimators': 95, 'num_leaves': 85, 'bagging_fraction': 0.7}. Best is trial 54 with value: 31.301529597003945.\n",
      "/home/kseny/anaconda3/lib/python3.9/site-packages/optuna/distributions.py:708: UserWarning: The distribution is specified by [5, 100] and step=10, but the range is not divisible by `step`. It will be replaced by [5, 95].\n",
      "  warnings.warn(\n"
     ]
    },
    {
     "name": "stdout",
     "output_type": "stream",
     "text": [
      "[LightGBM] [Warning] bagging_fraction is set=0.7, subsample=1.0 will be ignored. Current value: bagging_fraction=0.7\n",
      "[LightGBM] [Warning] bagging_freq is set=1, subsample_freq=0 will be ignored. Current value: bagging_freq=1\n"
     ]
    },
    {
     "name": "stderr",
     "output_type": "stream",
     "text": [
      "[I 2024-12-02 12:06:09,607] Trial 64 finished with value: 31.301529597003945 and parameters: {'n_estimators': 85, 'num_leaves': 95, 'bagging_fraction': 0.7}. Best is trial 54 with value: 31.301529597003945.\n",
      "/home/kseny/anaconda3/lib/python3.9/site-packages/optuna/distributions.py:708: UserWarning: The distribution is specified by [5, 100] and step=10, but the range is not divisible by `step`. It will be replaced by [5, 95].\n",
      "  warnings.warn(\n"
     ]
    },
    {
     "name": "stdout",
     "output_type": "stream",
     "text": [
      "[LightGBM] [Warning] bagging_fraction is set=0.7, subsample=1.0 will be ignored. Current value: bagging_fraction=0.7\n",
      "[LightGBM] [Warning] bagging_freq is set=1, subsample_freq=0 will be ignored. Current value: bagging_freq=1\n"
     ]
    },
    {
     "name": "stderr",
     "output_type": "stream",
     "text": [
      "[I 2024-12-02 12:06:11,903] Trial 65 finished with value: 31.321201177504868 and parameters: {'n_estimators': 75, 'num_leaves': 95, 'bagging_fraction': 0.7}. Best is trial 54 with value: 31.301529597003945.\n",
      "/home/kseny/anaconda3/lib/python3.9/site-packages/optuna/distributions.py:708: UserWarning: The distribution is specified by [5, 100] and step=10, but the range is not divisible by `step`. It will be replaced by [5, 95].\n",
      "  warnings.warn(\n"
     ]
    },
    {
     "name": "stdout",
     "output_type": "stream",
     "text": [
      "[LightGBM] [Warning] bagging_fraction is set=0.7, subsample=1.0 will be ignored. Current value: bagging_fraction=0.7\n",
      "[LightGBM] [Warning] bagging_freq is set=1, subsample_freq=0 will be ignored. Current value: bagging_freq=1\n"
     ]
    },
    {
     "name": "stderr",
     "output_type": "stream",
     "text": [
      "[I 2024-12-02 12:06:16,847] Trial 66 finished with value: 31.32746395469259 and parameters: {'n_estimators': 95, 'num_leaves': 95, 'bagging_fraction': 0.7}. Best is trial 54 with value: 31.301529597003945.\n",
      "/home/kseny/anaconda3/lib/python3.9/site-packages/optuna/distributions.py:708: UserWarning: The distribution is specified by [5, 100] and step=10, but the range is not divisible by `step`. It will be replaced by [5, 95].\n",
      "  warnings.warn(\n"
     ]
    },
    {
     "name": "stdout",
     "output_type": "stream",
     "text": [
      "[LightGBM] [Warning] bagging_fraction is set=0.7, subsample=1.0 will be ignored. Current value: bagging_fraction=0.7\n",
      "[LightGBM] [Warning] bagging_freq is set=1, subsample_freq=0 will be ignored. Current value: bagging_freq=1\n"
     ]
    },
    {
     "name": "stderr",
     "output_type": "stream",
     "text": [
      "[I 2024-12-02 12:06:21,753] Trial 67 finished with value: 31.301529597003945 and parameters: {'n_estimators': 85, 'num_leaves': 95, 'bagging_fraction': 0.7}. Best is trial 54 with value: 31.301529597003945.\n",
      "/home/kseny/anaconda3/lib/python3.9/site-packages/optuna/distributions.py:708: UserWarning: The distribution is specified by [5, 100] and step=10, but the range is not divisible by `step`. It will be replaced by [5, 95].\n",
      "  warnings.warn(\n"
     ]
    },
    {
     "name": "stdout",
     "output_type": "stream",
     "text": [
      "[LightGBM] [Warning] bagging_fraction is set=0.6, subsample=1.0 will be ignored. Current value: bagging_fraction=0.6\n",
      "[LightGBM] [Warning] bagging_freq is set=1, subsample_freq=0 will be ignored. Current value: bagging_freq=1\n"
     ]
    },
    {
     "name": "stderr",
     "output_type": "stream",
     "text": [
      "[I 2024-12-02 12:06:24,429] Trial 68 finished with value: 31.42977576842541 and parameters: {'n_estimators': 85, 'num_leaves': 95, 'bagging_fraction': 0.6}. Best is trial 54 with value: 31.301529597003945.\n",
      "/home/kseny/anaconda3/lib/python3.9/site-packages/optuna/distributions.py:708: UserWarning: The distribution is specified by [5, 100] and step=10, but the range is not divisible by `step`. It will be replaced by [5, 95].\n",
      "  warnings.warn(\n"
     ]
    },
    {
     "name": "stdout",
     "output_type": "stream",
     "text": [
      "[LightGBM] [Warning] bagging_fraction is set=0.7, subsample=1.0 will be ignored. Current value: bagging_fraction=0.7\n",
      "[LightGBM] [Warning] bagging_freq is set=1, subsample_freq=0 will be ignored. Current value: bagging_freq=1\n"
     ]
    },
    {
     "name": "stderr",
     "output_type": "stream",
     "text": [
      "[I 2024-12-02 12:06:27,405] Trial 69 finished with value: 31.321201177504868 and parameters: {'n_estimators': 75, 'num_leaves': 95, 'bagging_fraction': 0.7}. Best is trial 54 with value: 31.301529597003945.\n",
      "/home/kseny/anaconda3/lib/python3.9/site-packages/optuna/distributions.py:708: UserWarning: The distribution is specified by [5, 100] and step=10, but the range is not divisible by `step`. It will be replaced by [5, 95].\n",
      "  warnings.warn(\n"
     ]
    },
    {
     "name": "stdout",
     "output_type": "stream",
     "text": [
      "[LightGBM] [Warning] bagging_fraction is set=0.8, subsample=1.0 will be ignored. Current value: bagging_fraction=0.8\n",
      "[LightGBM] [Warning] bagging_freq is set=1, subsample_freq=0 will be ignored. Current value: bagging_freq=1\n"
     ]
    },
    {
     "name": "stderr",
     "output_type": "stream",
     "text": [
      "[I 2024-12-02 12:06:27,805] Trial 70 finished with value: 31.337212097611836 and parameters: {'n_estimators': 95, 'num_leaves': 95, 'bagging_fraction': 0.8}. Best is trial 54 with value: 31.301529597003945.\n",
      "/home/kseny/anaconda3/lib/python3.9/site-packages/optuna/distributions.py:708: UserWarning: The distribution is specified by [5, 100] and step=10, but the range is not divisible by `step`. It will be replaced by [5, 95].\n",
      "  warnings.warn(\n"
     ]
    },
    {
     "name": "stdout",
     "output_type": "stream",
     "text": [
      "[LightGBM] [Warning] bagging_fraction is set=0.7, subsample=1.0 will be ignored. Current value: bagging_fraction=0.7\n",
      "[LightGBM] [Warning] bagging_freq is set=1, subsample_freq=0 will be ignored. Current value: bagging_freq=1\n"
     ]
    },
    {
     "name": "stderr",
     "output_type": "stream",
     "text": [
      "[I 2024-12-02 12:06:28,075] Trial 71 finished with value: 31.307171042634025 and parameters: {'n_estimators': 85, 'num_leaves': 85, 'bagging_fraction': 0.7}. Best is trial 54 with value: 31.301529597003945.\n",
      "/home/kseny/anaconda3/lib/python3.9/site-packages/optuna/distributions.py:708: UserWarning: The distribution is specified by [5, 100] and step=10, but the range is not divisible by `step`. It will be replaced by [5, 95].\n",
      "  warnings.warn(\n",
      "[I 2024-12-02 12:06:28,228] Trial 72 finished with value: 31.307171042634025 and parameters: {'n_estimators': 85, 'num_leaves': 85, 'bagging_fraction': 0.7}. Best is trial 54 with value: 31.301529597003945.\n",
      "/home/kseny/anaconda3/lib/python3.9/site-packages/optuna/distributions.py:708: UserWarning: The distribution is specified by [5, 100] and step=10, but the range is not divisible by `step`. It will be replaced by [5, 95].\n",
      "  warnings.warn(\n"
     ]
    },
    {
     "name": "stdout",
     "output_type": "stream",
     "text": [
      "[LightGBM] [Warning] bagging_fraction is set=0.7, subsample=1.0 will be ignored. Current value: bagging_fraction=0.7\n",
      "[LightGBM] [Warning] bagging_freq is set=1, subsample_freq=0 will be ignored. Current value: bagging_freq=1\n",
      "[LightGBM] [Warning] bagging_fraction is set=0.7, subsample=1.0 will be ignored. Current value: bagging_fraction=0.7\n",
      "[LightGBM] [Warning] bagging_freq is set=1, subsample_freq=0 will be ignored. Current value: bagging_freq=1\n"
     ]
    },
    {
     "name": "stderr",
     "output_type": "stream",
     "text": [
      "[I 2024-12-02 12:06:28,581] Trial 73 finished with value: 31.301529597003945 and parameters: {'n_estimators': 85, 'num_leaves': 95, 'bagging_fraction': 0.7}. Best is trial 54 with value: 31.301529597003945.\n",
      "/home/kseny/anaconda3/lib/python3.9/site-packages/optuna/distributions.py:708: UserWarning: The distribution is specified by [5, 100] and step=10, but the range is not divisible by `step`. It will be replaced by [5, 95].\n",
      "  warnings.warn(\n"
     ]
    },
    {
     "name": "stdout",
     "output_type": "stream",
     "text": [
      "[LightGBM] [Warning] bagging_fraction is set=0.7, subsample=1.0 will be ignored. Current value: bagging_fraction=0.7\n",
      "[LightGBM] [Warning] bagging_freq is set=1, subsample_freq=0 will be ignored. Current value: bagging_freq=1\n"
     ]
    },
    {
     "name": "stderr",
     "output_type": "stream",
     "text": [
      "[I 2024-12-02 12:06:28,885] Trial 74 finished with value: 31.321201177504868 and parameters: {'n_estimators': 75, 'num_leaves': 95, 'bagging_fraction': 0.7}. Best is trial 54 with value: 31.301529597003945.\n",
      "/home/kseny/anaconda3/lib/python3.9/site-packages/optuna/distributions.py:708: UserWarning: The distribution is specified by [5, 100] and step=10, but the range is not divisible by `step`. It will be replaced by [5, 95].\n",
      "  warnings.warn(\n"
     ]
    },
    {
     "name": "stdout",
     "output_type": "stream",
     "text": [
      "[LightGBM] [Warning] bagging_fraction is set=0.7, subsample=1.0 will be ignored. Current value: bagging_fraction=0.7\n",
      "[LightGBM] [Warning] bagging_freq is set=1, subsample_freq=0 will be ignored. Current value: bagging_freq=1\n"
     ]
    },
    {
     "name": "stderr",
     "output_type": "stream",
     "text": [
      "[I 2024-12-02 12:06:34,380] Trial 75 finished with value: 31.32746395469259 and parameters: {'n_estimators': 95, 'num_leaves': 95, 'bagging_fraction': 0.7}. Best is trial 54 with value: 31.301529597003945.\n",
      "/home/kseny/anaconda3/lib/python3.9/site-packages/optuna/distributions.py:708: UserWarning: The distribution is specified by [5, 100] and step=10, but the range is not divisible by `step`. It will be replaced by [5, 95].\n",
      "  warnings.warn(\n"
     ]
    },
    {
     "name": "stdout",
     "output_type": "stream",
     "text": [
      "[LightGBM] [Warning] bagging_fraction is set=0.7, subsample=1.0 will be ignored. Current value: bagging_fraction=0.7\n",
      "[LightGBM] [Warning] bagging_freq is set=1, subsample_freq=0 will be ignored. Current value: bagging_freq=1\n"
     ]
    },
    {
     "name": "stderr",
     "output_type": "stream",
     "text": [
      "[I 2024-12-02 12:06:35,254] Trial 76 finished with value: 31.301529597003945 and parameters: {'n_estimators': 85, 'num_leaves': 95, 'bagging_fraction': 0.7}. Best is trial 54 with value: 31.301529597003945.\n",
      "/home/kseny/anaconda3/lib/python3.9/site-packages/optuna/distributions.py:708: UserWarning: The distribution is specified by [5, 100] and step=10, but the range is not divisible by `step`. It will be replaced by [5, 95].\n",
      "  warnings.warn(\n"
     ]
    },
    {
     "name": "stdout",
     "output_type": "stream",
     "text": [
      "[LightGBM] [Warning] bagging_fraction is set=0.7, subsample=1.0 will be ignored. Current value: bagging_fraction=0.7\n",
      "[LightGBM] [Warning] bagging_freq is set=1, subsample_freq=0 will be ignored. Current value: bagging_freq=1\n"
     ]
    },
    {
     "name": "stderr",
     "output_type": "stream",
     "text": [
      "[I 2024-12-02 12:06:40,682] Trial 77 finished with value: 31.301529597003945 and parameters: {'n_estimators': 85, 'num_leaves': 95, 'bagging_fraction': 0.7}. Best is trial 54 with value: 31.301529597003945.\n",
      "/home/kseny/anaconda3/lib/python3.9/site-packages/optuna/distributions.py:708: UserWarning: The distribution is specified by [5, 100] and step=10, but the range is not divisible by `step`. It will be replaced by [5, 95].\n",
      "  warnings.warn(\n"
     ]
    },
    {
     "name": "stdout",
     "output_type": "stream",
     "text": [
      "[LightGBM] [Warning] bagging_fraction is set=0.7, subsample=1.0 will be ignored. Current value: bagging_fraction=0.7\n",
      "[LightGBM] [Warning] bagging_freq is set=1, subsample_freq=0 will be ignored. Current value: bagging_freq=1\n"
     ]
    },
    {
     "name": "stderr",
     "output_type": "stream",
     "text": [
      "[I 2024-12-02 12:06:45,297] Trial 78 finished with value: 31.301529597003945 and parameters: {'n_estimators': 85, 'num_leaves': 95, 'bagging_fraction': 0.7}. Best is trial 54 with value: 31.301529597003945.\n",
      "/home/kseny/anaconda3/lib/python3.9/site-packages/optuna/distributions.py:708: UserWarning: The distribution is specified by [5, 100] and step=10, but the range is not divisible by `step`. It will be replaced by [5, 95].\n",
      "  warnings.warn(\n"
     ]
    },
    {
     "name": "stdout",
     "output_type": "stream",
     "text": [
      "[LightGBM] [Warning] bagging_fraction is set=0.7, subsample=1.0 will be ignored. Current value: bagging_fraction=0.7\n",
      "[LightGBM] [Warning] bagging_freq is set=1, subsample_freq=0 will be ignored. Current value: bagging_freq=1\n"
     ]
    },
    {
     "name": "stderr",
     "output_type": "stream",
     "text": [
      "[I 2024-12-02 12:06:47,468] Trial 79 finished with value: 31.38247944653188 and parameters: {'n_estimators': 65, 'num_leaves': 95, 'bagging_fraction': 0.7}. Best is trial 54 with value: 31.301529597003945.\n",
      "/home/kseny/anaconda3/lib/python3.9/site-packages/optuna/distributions.py:708: UserWarning: The distribution is specified by [5, 100] and step=10, but the range is not divisible by `step`. It will be replaced by [5, 95].\n",
      "  warnings.warn(\n"
     ]
    },
    {
     "name": "stdout",
     "output_type": "stream",
     "text": [
      "[LightGBM] [Warning] bagging_fraction is set=0.7, subsample=1.0 will be ignored. Current value: bagging_fraction=0.7\n",
      "[LightGBM] [Warning] bagging_freq is set=1, subsample_freq=0 will be ignored. Current value: bagging_freq=1\n"
     ]
    },
    {
     "name": "stderr",
     "output_type": "stream",
     "text": [
      "[I 2024-12-02 12:06:47,828] Trial 80 finished with value: 31.32746395469259 and parameters: {'n_estimators': 95, 'num_leaves': 95, 'bagging_fraction': 0.7}. Best is trial 54 with value: 31.301529597003945.\n",
      "/home/kseny/anaconda3/lib/python3.9/site-packages/optuna/distributions.py:708: UserWarning: The distribution is specified by [5, 100] and step=10, but the range is not divisible by `step`. It will be replaced by [5, 95].\n",
      "  warnings.warn(\n"
     ]
    },
    {
     "name": "stdout",
     "output_type": "stream",
     "text": [
      "[LightGBM] [Warning] bagging_fraction is set=0.7, subsample=1.0 will be ignored. Current value: bagging_fraction=0.7\n",
      "[LightGBM] [Warning] bagging_freq is set=1, subsample_freq=0 will be ignored. Current value: bagging_freq=1\n"
     ]
    },
    {
     "name": "stderr",
     "output_type": "stream",
     "text": [
      "[I 2024-12-02 12:06:48,077] Trial 81 finished with value: 31.301529597003945 and parameters: {'n_estimators': 85, 'num_leaves': 95, 'bagging_fraction': 0.7}. Best is trial 54 with value: 31.301529597003945.\n",
      "/home/kseny/anaconda3/lib/python3.9/site-packages/optuna/distributions.py:708: UserWarning: The distribution is specified by [5, 100] and step=10, but the range is not divisible by `step`. It will be replaced by [5, 95].\n",
      "  warnings.warn(\n",
      "[I 2024-12-02 12:06:48,150] Trial 82 finished with value: 32.356655935686454 and parameters: {'n_estimators': 85, 'num_leaves': 15, 'bagging_fraction': 0.7}. Best is trial 54 with value: 31.301529597003945.\n",
      "/home/kseny/anaconda3/lib/python3.9/site-packages/optuna/distributions.py:708: UserWarning: The distribution is specified by [5, 100] and step=10, but the range is not divisible by `step`. It will be replaced by [5, 95].\n",
      "  warnings.warn(\n"
     ]
    },
    {
     "name": "stdout",
     "output_type": "stream",
     "text": [
      "[LightGBM] [Warning] bagging_fraction is set=0.7, subsample=1.0 will be ignored. Current value: bagging_fraction=0.7\n",
      "[LightGBM] [Warning] bagging_freq is set=1, subsample_freq=0 will be ignored. Current value: bagging_freq=1\n",
      "[LightGBM] [Warning] bagging_fraction is set=0.7, subsample=1.0 will be ignored. Current value: bagging_fraction=0.7\n",
      "[LightGBM] [Warning] bagging_freq is set=1, subsample_freq=0 will be ignored. Current value: bagging_freq=1\n"
     ]
    },
    {
     "name": "stderr",
     "output_type": "stream",
     "text": [
      "[I 2024-12-02 12:06:48,335] Trial 83 finished with value: 31.301529597003945 and parameters: {'n_estimators': 85, 'num_leaves': 95, 'bagging_fraction': 0.7}. Best is trial 54 with value: 31.301529597003945.\n",
      "/home/kseny/anaconda3/lib/python3.9/site-packages/optuna/distributions.py:708: UserWarning: The distribution is specified by [5, 100] and step=10, but the range is not divisible by `step`. It will be replaced by [5, 95].\n",
      "  warnings.warn(\n"
     ]
    },
    {
     "name": "stdout",
     "output_type": "stream",
     "text": [
      "[LightGBM] [Warning] bagging_fraction is set=0.7, subsample=1.0 will be ignored. Current value: bagging_fraction=0.7\n",
      "[LightGBM] [Warning] bagging_freq is set=1, subsample_freq=0 will be ignored. Current value: bagging_freq=1\n"
     ]
    },
    {
     "name": "stderr",
     "output_type": "stream",
     "text": [
      "[I 2024-12-02 12:06:48,611] Trial 84 finished with value: 31.321201177504868 and parameters: {'n_estimators': 75, 'num_leaves': 95, 'bagging_fraction': 0.7}. Best is trial 54 with value: 31.301529597003945.\n",
      "/home/kseny/anaconda3/lib/python3.9/site-packages/optuna/distributions.py:708: UserWarning: The distribution is specified by [5, 100] and step=10, but the range is not divisible by `step`. It will be replaced by [5, 95].\n",
      "  warnings.warn(\n"
     ]
    },
    {
     "name": "stdout",
     "output_type": "stream",
     "text": [
      "[LightGBM] [Warning] bagging_fraction is set=0.7, subsample=1.0 will be ignored. Current value: bagging_fraction=0.7\n",
      "[LightGBM] [Warning] bagging_freq is set=1, subsample_freq=0 will be ignored. Current value: bagging_freq=1\n"
     ]
    },
    {
     "name": "stderr",
     "output_type": "stream",
     "text": [
      "[I 2024-12-02 12:06:48,895] Trial 85 finished with value: 31.301529597003945 and parameters: {'n_estimators': 85, 'num_leaves': 95, 'bagging_fraction': 0.7}. Best is trial 54 with value: 31.301529597003945.\n",
      "/home/kseny/anaconda3/lib/python3.9/site-packages/optuna/distributions.py:708: UserWarning: The distribution is specified by [5, 100] and step=10, but the range is not divisible by `step`. It will be replaced by [5, 95].\n",
      "  warnings.warn(\n"
     ]
    },
    {
     "name": "stdout",
     "output_type": "stream",
     "text": [
      "[LightGBM] [Warning] bagging_fraction is set=0.7, subsample=1.0 will be ignored. Current value: bagging_fraction=0.7\n",
      "[LightGBM] [Warning] bagging_freq is set=1, subsample_freq=0 will be ignored. Current value: bagging_freq=1\n"
     ]
    },
    {
     "name": "stderr",
     "output_type": "stream",
     "text": [
      "[I 2024-12-02 12:06:49,198] Trial 86 finished with value: 31.301529597003945 and parameters: {'n_estimators': 85, 'num_leaves': 95, 'bagging_fraction': 0.7}. Best is trial 54 with value: 31.301529597003945.\n",
      "/home/kseny/anaconda3/lib/python3.9/site-packages/optuna/distributions.py:708: UserWarning: The distribution is specified by [5, 100] and step=10, but the range is not divisible by `step`. It will be replaced by [5, 95].\n",
      "  warnings.warn(\n"
     ]
    },
    {
     "name": "stdout",
     "output_type": "stream",
     "text": [
      "[LightGBM] [Warning] bagging_fraction is set=0.7, subsample=1.0 will be ignored. Current value: bagging_fraction=0.7\n",
      "[LightGBM] [Warning] bagging_freq is set=1, subsample_freq=0 will be ignored. Current value: bagging_freq=1\n"
     ]
    },
    {
     "name": "stderr",
     "output_type": "stream",
     "text": [
      "[I 2024-12-02 12:06:51,586] Trial 87 finished with value: 31.321201177504868 and parameters: {'n_estimators': 75, 'num_leaves': 95, 'bagging_fraction': 0.7}. Best is trial 54 with value: 31.301529597003945.\n",
      "/home/kseny/anaconda3/lib/python3.9/site-packages/optuna/distributions.py:708: UserWarning: The distribution is specified by [5, 100] and step=10, but the range is not divisible by `step`. It will be replaced by [5, 95].\n",
      "  warnings.warn(\n"
     ]
    },
    {
     "name": "stdout",
     "output_type": "stream",
     "text": [
      "[LightGBM] [Warning] bagging_fraction is set=0.7, subsample=1.0 will be ignored. Current value: bagging_fraction=0.7\n",
      "[LightGBM] [Warning] bagging_freq is set=1, subsample_freq=0 will be ignored. Current value: bagging_freq=1\n"
     ]
    },
    {
     "name": "stderr",
     "output_type": "stream",
     "text": [
      "[I 2024-12-02 12:06:52,008] Trial 88 finished with value: 31.89551138150171 and parameters: {'n_estimators': 5, 'num_leaves': 95, 'bagging_fraction': 0.7}. Best is trial 54 with value: 31.301529597003945.\n",
      "/home/kseny/anaconda3/lib/python3.9/site-packages/optuna/distributions.py:708: UserWarning: The distribution is specified by [5, 100] and step=10, but the range is not divisible by `step`. It will be replaced by [5, 95].\n",
      "  warnings.warn(\n"
     ]
    },
    {
     "name": "stdout",
     "output_type": "stream",
     "text": [
      "[LightGBM] [Warning] bagging_fraction is set=0.7, subsample=1.0 will be ignored. Current value: bagging_fraction=0.7\n",
      "[LightGBM] [Warning] bagging_freq is set=1, subsample_freq=0 will be ignored. Current value: bagging_freq=1\n"
     ]
    },
    {
     "name": "stderr",
     "output_type": "stream",
     "text": [
      "[I 2024-12-02 12:06:57,100] Trial 89 finished with value: 31.32746395469259 and parameters: {'n_estimators': 95, 'num_leaves': 95, 'bagging_fraction': 0.7}. Best is trial 54 with value: 31.301529597003945.\n",
      "/home/kseny/anaconda3/lib/python3.9/site-packages/optuna/distributions.py:708: UserWarning: The distribution is specified by [5, 100] and step=10, but the range is not divisible by `step`. It will be replaced by [5, 95].\n",
      "  warnings.warn(\n"
     ]
    },
    {
     "name": "stdout",
     "output_type": "stream",
     "text": [
      "[LightGBM] [Warning] bagging_fraction is set=0.7, subsample=1.0 will be ignored. Current value: bagging_fraction=0.7\n",
      "[LightGBM] [Warning] bagging_freq is set=1, subsample_freq=0 will be ignored. Current value: bagging_freq=1\n"
     ]
    },
    {
     "name": "stderr",
     "output_type": "stream",
     "text": [
      "[I 2024-12-02 12:07:01,166] Trial 90 finished with value: 31.301529597003945 and parameters: {'n_estimators': 85, 'num_leaves': 95, 'bagging_fraction': 0.7}. Best is trial 54 with value: 31.301529597003945.\n",
      "/home/kseny/anaconda3/lib/python3.9/site-packages/optuna/distributions.py:708: UserWarning: The distribution is specified by [5, 100] and step=10, but the range is not divisible by `step`. It will be replaced by [5, 95].\n",
      "  warnings.warn(\n"
     ]
    },
    {
     "name": "stdout",
     "output_type": "stream",
     "text": [
      "[LightGBM] [Warning] bagging_fraction is set=0.7, subsample=1.0 will be ignored. Current value: bagging_fraction=0.7\n",
      "[LightGBM] [Warning] bagging_freq is set=1, subsample_freq=0 will be ignored. Current value: bagging_freq=1\n"
     ]
    },
    {
     "name": "stderr",
     "output_type": "stream",
     "text": [
      "[I 2024-12-02 12:07:01,493] Trial 91 finished with value: 31.301529597003945 and parameters: {'n_estimators': 85, 'num_leaves': 95, 'bagging_fraction': 0.7}. Best is trial 54 with value: 31.301529597003945.\n",
      "/home/kseny/anaconda3/lib/python3.9/site-packages/optuna/distributions.py:708: UserWarning: The distribution is specified by [5, 100] and step=10, but the range is not divisible by `step`. It will be replaced by [5, 95].\n",
      "  warnings.warn(\n"
     ]
    },
    {
     "name": "stdout",
     "output_type": "stream",
     "text": [
      "[LightGBM] [Warning] bagging_fraction is set=0.7, subsample=1.0 will be ignored. Current value: bagging_fraction=0.7\n",
      "[LightGBM] [Warning] bagging_freq is set=1, subsample_freq=0 will be ignored. Current value: bagging_freq=1\n"
     ]
    },
    {
     "name": "stderr",
     "output_type": "stream",
     "text": [
      "[I 2024-12-02 12:07:01,818] Trial 92 finished with value: 31.301529597003945 and parameters: {'n_estimators': 85, 'num_leaves': 95, 'bagging_fraction': 0.7}. Best is trial 54 with value: 31.301529597003945.\n",
      "/home/kseny/anaconda3/lib/python3.9/site-packages/optuna/distributions.py:708: UserWarning: The distribution is specified by [5, 100] and step=10, but the range is not divisible by `step`. It will be replaced by [5, 95].\n",
      "  warnings.warn(\n",
      "[I 2024-12-02 12:07:02,072] Trial 93 finished with value: 31.307171042634025 and parameters: {'n_estimators': 85, 'num_leaves': 85, 'bagging_fraction': 0.7}. Best is trial 54 with value: 31.301529597003945.\n"
     ]
    },
    {
     "name": "stdout",
     "output_type": "stream",
     "text": [
      "[LightGBM] [Warning] bagging_fraction is set=0.7, subsample=1.0 will be ignored. Current value: bagging_fraction=0.7\n",
      "[LightGBM] [Warning] bagging_freq is set=1, subsample_freq=0 will be ignored. Current value: bagging_freq=1\n"
     ]
    },
    {
     "name": "stderr",
     "output_type": "stream",
     "text": [
      "/home/kseny/anaconda3/lib/python3.9/site-packages/optuna/distributions.py:708: UserWarning: The distribution is specified by [5, 100] and step=10, but the range is not divisible by `step`. It will be replaced by [5, 95].\n",
      "  warnings.warn(\n",
      "[I 2024-12-02 12:07:02,217] Trial 94 finished with value: 31.321201177504868 and parameters: {'n_estimators': 75, 'num_leaves': 95, 'bagging_fraction': 0.7}. Best is trial 54 with value: 31.301529597003945.\n",
      "/home/kseny/anaconda3/lib/python3.9/site-packages/optuna/distributions.py:708: UserWarning: The distribution is specified by [5, 100] and step=10, but the range is not divisible by `step`. It will be replaced by [5, 95].\n",
      "  warnings.warn(\n"
     ]
    },
    {
     "name": "stdout",
     "output_type": "stream",
     "text": [
      "[LightGBM] [Warning] bagging_fraction is set=0.7, subsample=1.0 will be ignored. Current value: bagging_fraction=0.7\n",
      "[LightGBM] [Warning] bagging_freq is set=1, subsample_freq=0 will be ignored. Current value: bagging_freq=1\n",
      "[LightGBM] [Warning] bagging_fraction is set=0.7, subsample=1.0 will be ignored. Current value: bagging_fraction=0.7\n",
      "[LightGBM] [Warning] bagging_freq is set=1, subsample_freq=0 will be ignored. Current value: bagging_freq=1\n"
     ]
    },
    {
     "name": "stderr",
     "output_type": "stream",
     "text": [
      "[I 2024-12-02 12:07:02,480] Trial 95 finished with value: 31.32746395469259 and parameters: {'n_estimators': 95, 'num_leaves': 95, 'bagging_fraction': 0.7}. Best is trial 54 with value: 31.301529597003945.\n",
      "/home/kseny/anaconda3/lib/python3.9/site-packages/optuna/distributions.py:708: UserWarning: The distribution is specified by [5, 100] and step=10, but the range is not divisible by `step`. It will be replaced by [5, 95].\n",
      "  warnings.warn(\n",
      "[I 2024-12-02 12:07:02,712] Trial 96 finished with value: 31.327359325965624 and parameters: {'n_estimators': 75, 'num_leaves': 85, 'bagging_fraction': 0.7}. Best is trial 54 with value: 31.301529597003945.\n"
     ]
    },
    {
     "name": "stdout",
     "output_type": "stream",
     "text": [
      "[LightGBM] [Warning] bagging_fraction is set=0.7, subsample=1.0 will be ignored. Current value: bagging_fraction=0.7\n",
      "[LightGBM] [Warning] bagging_freq is set=1, subsample_freq=0 will be ignored. Current value: bagging_freq=1\n"
     ]
    },
    {
     "name": "stderr",
     "output_type": "stream",
     "text": [
      "/home/kseny/anaconda3/lib/python3.9/site-packages/optuna/distributions.py:708: UserWarning: The distribution is specified by [5, 100] and step=10, but the range is not divisible by `step`. It will be replaced by [5, 95].\n",
      "  warnings.warn(\n"
     ]
    },
    {
     "name": "stdout",
     "output_type": "stream",
     "text": [
      "[LightGBM] [Warning] bagging_fraction is set=0.7, subsample=1.0 will be ignored. Current value: bagging_fraction=0.7\n",
      "[LightGBM] [Warning] bagging_freq is set=1, subsample_freq=0 will be ignored. Current value: bagging_freq=1\n"
     ]
    },
    {
     "name": "stderr",
     "output_type": "stream",
     "text": [
      "[I 2024-12-02 12:07:02,996] Trial 97 finished with value: 31.301529597003945 and parameters: {'n_estimators': 85, 'num_leaves': 95, 'bagging_fraction': 0.7}. Best is trial 54 with value: 31.301529597003945.\n",
      "/home/kseny/anaconda3/lib/python3.9/site-packages/optuna/distributions.py:708: UserWarning: The distribution is specified by [5, 100] and step=10, but the range is not divisible by `step`. It will be replaced by [5, 95].\n",
      "  warnings.warn(\n"
     ]
    },
    {
     "name": "stdout",
     "output_type": "stream",
     "text": [
      "[LightGBM] [Warning] bagging_fraction is set=0.7, subsample=1.0 will be ignored. Current value: bagging_fraction=0.7\n",
      "[LightGBM] [Warning] bagging_freq is set=1, subsample_freq=0 will be ignored. Current value: bagging_freq=1\n"
     ]
    },
    {
     "name": "stderr",
     "output_type": "stream",
     "text": [
      "[I 2024-12-02 12:07:03,257] Trial 98 finished with value: 31.307171042634025 and parameters: {'n_estimators': 85, 'num_leaves': 85, 'bagging_fraction': 0.7}. Best is trial 54 with value: 31.301529597003945.\n",
      "/home/kseny/anaconda3/lib/python3.9/site-packages/optuna/distributions.py:708: UserWarning: The distribution is specified by [5, 100] and step=10, but the range is not divisible by `step`. It will be replaced by [5, 95].\n",
      "  warnings.warn(\n"
     ]
    },
    {
     "name": "stdout",
     "output_type": "stream",
     "text": [
      "[LightGBM] [Warning] bagging_fraction is set=0.7, subsample=1.0 will be ignored. Current value: bagging_fraction=0.7\n",
      "[LightGBM] [Warning] bagging_freq is set=1, subsample_freq=0 will be ignored. Current value: bagging_freq=1\n"
     ]
    },
    {
     "name": "stderr",
     "output_type": "stream",
     "text": [
      "[I 2024-12-02 12:07:03,550] Trial 99 finished with value: 31.301529597003945 and parameters: {'n_estimators': 85, 'num_leaves': 95, 'bagging_fraction': 0.7}. Best is trial 54 with value: 31.301529597003945.\n"
     ]
    },
    {
     "name": "stdout",
     "output_type": "stream",
     "text": [
      "CPU times: user 12min, sys: 27.3 s, total: 12min 27s\n",
      "Wall time: 2min 3s\n"
     ]
    }
   ],
   "source": [
    " %%time\n",
    "# подбор параметров n_estimators, num_leaves, bagging_fraction\n",
    "# с параметром boosting_type = 'rf' - Случайный лес \n",
    "def objective(trial):      \n",
    "    params={'boosting_type':'rf',\n",
    "            'random_state':1,\n",
    "            'bagging_freq': 1,\n",
    "            'n_estimators':trial.suggest_int('n_estimators', 5, 100, step=10),\n",
    "            'num_leaves':trial.suggest_int('num_leaves', 5, 100, step=10), \n",
    "            'bagging_fraction': trial.suggest_float('bagging_fraction', 0.5, 0.8 , step=0.1)\n",
    "            }\n",
    "\n",
    "    model = lgb.LGBMRegressor(**params).fit(x_train, y_train, eval_metric=\"rmse\")\n",
    "    prediction = model.predict(x_val)\n",
    "    rmse = mean_squared_error(y_val, prediction, squared=False)\n",
    "    return rmse\n",
    "\n",
    "\n",
    "study = optuna.create_study()\n",
    "study.optimize(objective, n_trials=100, timeout=600)"
   ]
  },
  {
   "cell_type": "code",
   "execution_count": 79,
   "metadata": {},
   "outputs": [
    {
     "data": {
      "text/plain": [
       "{'n_estimators': 85, 'num_leaves': 95, 'bagging_fraction': 0.7}"
      ]
     },
     "execution_count": 79,
     "metadata": {},
     "output_type": "execute_result"
    }
   ],
   "source": [
    "# лучшие параметры\n",
    "study.best_params"
   ]
  },
  {
   "cell_type": "code",
   "execution_count": 80,
   "metadata": {},
   "outputs": [
    {
     "name": "stdout",
     "output_type": "stream",
     "text": [
      "[LightGBM] [Warning] bagging_fraction is set=0.7, subsample=1.0 will be ignored. Current value: bagging_fraction=0.7\n",
      "Средняя ошибка LGBMRegressor - 31\n",
      "CPU times: user 1.61 s, sys: 20 ms, total: 1.63 s\n",
      "Wall time: 218 ms\n"
     ]
    }
   ],
   "source": [
    "%%time\n",
    "\n",
    "# обучение модели с лучшими гиперпараметрами   \n",
    "model = lgb.LGBMRegressor(**study.best_params).fit(x_train, y_train, eval_metric=\"rmse\")\n",
    "\n",
    "prediction = model.predict(x_val)\n",
    "print('Средняя ошибка LGBMRegressor - {:.0f}'.format(mean_squared_error(y_val, prediction, squared=False)))"
   ]
  },
  {
   "cell_type": "code",
   "execution_count": 81,
   "metadata": {},
   "outputs": [
    {
     "name": "stdout",
     "output_type": "stream",
     "text": [
      "[LightGBM] [Warning] bagging_fraction is set=0.5, subsample=1.0 will be ignored. Current value: bagging_fraction=0.5\n",
      "[LightGBM] [Warning] bagging_freq is set=1, subsample_freq=0 will be ignored. Current value: bagging_freq=1\n",
      "Средняя ошибка LGBMRegressor - 31\n",
      "CPU times: user 1.64 s, sys: 19.3 ms, total: 1.66 s\n",
      "Wall time: 234 ms\n"
     ]
    }
   ],
   "source": [
    "%%time\n",
    "\n",
    "# c параметром boosting_type = gbdt — дерево решений с градиентным бустингом (по умолчанию)\n",
    "params = {\n",
    "    'random_state':1,\n",
    "    'bagging_freq': 1,\n",
    "    'bagging_fraction': 0.5\n",
    "    }\n",
    "   \n",
    "model = lgb.LGBMRegressor(**params).fit(x_train, y_train, eval_metric=\"rmse\")\n",
    "\n",
    "prediction = model.predict(x_val)\n",
    "print('Средняя ошибка LGBMRegressor - {:.0f}'.format(mean_squared_error(y_val, prediction, squared=False)))"
   ]
  },
  {
   "cell_type": "markdown",
   "metadata": {},
   "source": [
    "### LGBMModel"
   ]
  },
  {
   "cell_type": "code",
   "execution_count": 82,
   "metadata": {},
   "outputs": [
    {
     "name": "stdout",
     "output_type": "stream",
     "text": [
      "Средняя ошибка LGBMRegressor - 31\n",
      "CPU times: user 1.19 s, sys: 25.1 ms, total: 1.22 s\n",
      "Wall time: 171 ms\n"
     ]
    }
   ],
   "source": [
    "%%time\n",
    "\n",
    "params = {\n",
    "    'objective': \"regression\",\n",
    "    'random_state': 1\n",
    "}\n",
    "model = lgb.LGBMModel(**params).fit(x_train, y_train, eval_metric=\"rmse\")\n",
    "\n",
    "prediction = model.predict(x_val)\n",
    "print('Средняя ошибка LGBMRegressor - {:.0f}'.format(mean_squared_error(y_val, prediction, squared=False)))"
   ]
  },
  {
   "cell_type": "markdown",
   "metadata": {},
   "source": [
    "### SGDRegressor "
   ]
  },
  {
   "cell_type": "code",
   "execution_count": 83,
   "metadata": {},
   "outputs": [
    {
     "data": {
      "text/html": [
       "<div>\n",
       "<style scoped>\n",
       "    .dataframe tbody tr th:only-of-type {\n",
       "        vertical-align: middle;\n",
       "    }\n",
       "\n",
       "    .dataframe tbody tr th {\n",
       "        vertical-align: top;\n",
       "    }\n",
       "\n",
       "    .dataframe thead th {\n",
       "        text-align: right;\n",
       "    }\n",
       "</style>\n",
       "<table border=\"1\" class=\"dataframe\">\n",
       "  <thead>\n",
       "    <tr style=\"text-align: right;\">\n",
       "      <th></th>\n",
       "      <th>month</th>\n",
       "      <th>dayofweek</th>\n",
       "      <th>lag_1</th>\n",
       "      <th>lag_2</th>\n",
       "      <th>rolling_mean_24</th>\n",
       "      <th>last_day</th>\n",
       "      <th>last_week</th>\n",
       "      <th>last_days_mean</th>\n",
       "      <th>sin_hour</th>\n",
       "      <th>cos_hour</th>\n",
       "    </tr>\n",
       "  </thead>\n",
       "  <tbody>\n",
       "    <tr>\n",
       "      <th>0</th>\n",
       "      <td>-1.504585</td>\n",
       "      <td>-0.01402</td>\n",
       "      <td>0.494215</td>\n",
       "      <td>1.403713</td>\n",
       "      <td>-0.917268</td>\n",
       "      <td>0.670291</td>\n",
       "      <td>1.430471</td>\n",
       "      <td>0.034242</td>\n",
       "      <td>-0.002164</td>\n",
       "      <td>1.412733</td>\n",
       "    </tr>\n",
       "    <tr>\n",
       "      <th>1</th>\n",
       "      <td>-1.504585</td>\n",
       "      <td>-0.01402</td>\n",
       "      <td>1.846019</td>\n",
       "      <td>0.493451</td>\n",
       "      <td>-0.857892</td>\n",
       "      <td>1.250896</td>\n",
       "      <td>0.326634</td>\n",
       "      <td>1.560706</td>\n",
       "      <td>0.363816</td>\n",
       "      <td>1.364539</td>\n",
       "    </tr>\n",
       "    <tr>\n",
       "      <th>2</th>\n",
       "      <td>-1.504585</td>\n",
       "      <td>-0.01402</td>\n",
       "      <td>0.052810</td>\n",
       "      <td>1.845052</td>\n",
       "      <td>-0.917268</td>\n",
       "      <td>-1.430944</td>\n",
       "      <td>-0.069615</td>\n",
       "      <td>-1.428620</td>\n",
       "      <td>0.704856</td>\n",
       "      <td>1.223240</td>\n",
       "    </tr>\n",
       "    <tr>\n",
       "      <th>3</th>\n",
       "      <td>-1.504585</td>\n",
       "      <td>-0.01402</td>\n",
       "      <td>-0.305832</td>\n",
       "      <td>0.052112</td>\n",
       "      <td>-0.857892</td>\n",
       "      <td>-0.269735</td>\n",
       "      <td>-0.211133</td>\n",
       "      <td>-0.633586</td>\n",
       "      <td>0.997713</td>\n",
       "      <td>0.998467</td>\n",
       "    </tr>\n",
       "    <tr>\n",
       "      <th>4</th>\n",
       "      <td>-1.504585</td>\n",
       "      <td>-0.01402</td>\n",
       "      <td>-0.223068</td>\n",
       "      <td>-0.306476</td>\n",
       "      <td>-0.857892</td>\n",
       "      <td>-0.076200</td>\n",
       "      <td>-0.862113</td>\n",
       "      <td>-0.951600</td>\n",
       "      <td>1.222430</td>\n",
       "      <td>0.705536</td>\n",
       "    </tr>\n",
       "  </tbody>\n",
       "</table>\n",
       "</div>"
      ],
      "text/plain": [
       "      month  dayofweek     lag_1     lag_2  rolling_mean_24  last_day  \\\n",
       "0 -1.504585   -0.01402  0.494215  1.403713        -0.917268  0.670291   \n",
       "1 -1.504585   -0.01402  1.846019  0.493451        -0.857892  1.250896   \n",
       "2 -1.504585   -0.01402  0.052810  1.845052        -0.917268 -1.430944   \n",
       "3 -1.504585   -0.01402 -0.305832  0.052112        -0.857892 -0.269735   \n",
       "4 -1.504585   -0.01402 -0.223068 -0.306476        -0.857892 -0.076200   \n",
       "\n",
       "   last_week  last_days_mean  sin_hour  cos_hour  \n",
       "0   1.430471        0.034242 -0.002164  1.412733  \n",
       "1   0.326634        1.560706  0.363816  1.364539  \n",
       "2  -0.069615       -1.428620  0.704856  1.223240  \n",
       "3  -0.211133       -0.633586  0.997713  0.998467  \n",
       "4  -0.862113       -0.951600  1.222430  0.705536  "
      ]
     },
     "execution_count": 83,
     "metadata": {},
     "output_type": "execute_result"
    }
   ],
   "source": [
    "# масштабирование данных стандартизацией\n",
    "pd.options.mode.chained_assignment = None\n",
    "\n",
    "# определяем числовые столбцы для масштабирования\n",
    "numeric = list(x_train.columns)\n",
    "scaler = StandardScaler()\n",
    "\n",
    "# обучаем скалер на тренировочной выборке \n",
    "scaler.fit(x_train[numeric])\n",
    "\n",
    "x_train_scaled = x_train.copy(deep=True)\n",
    "x_val_scaled = x_val.copy(deep=True)\n",
    "\n",
    "# масштабируем все выборки\n",
    "x_train_scaled[numeric] = scaler.transform(x_train_scaled[numeric])\n",
    "x_val_scaled[numeric] = scaler.transform(x_val_scaled[numeric])\n",
    "\n",
    "# обновленные выборки\n",
    "x_train_scaled.head()"
   ]
  },
  {
   "cell_type": "code",
   "execution_count": 84,
   "metadata": {
    "scrolled": true
   },
   "outputs": [
    {
     "name": "stdout",
     "output_type": "stream",
     "text": [
      "Средняя ошибка SGDRegressor - 30\n",
      "CPU times: user 724 ms, sys: 28.1 ms, total: 752 ms\n",
      "Wall time: 180 ms\n"
     ]
    }
   ],
   "source": [
    "%%time\n",
    "model = SGDRegressor(shuffle=False)\n",
    "\n",
    "model.fit(x_train_scaled, y_train)\n",
    "\n",
    "prediction = model.predict(x_val_scaled)\n",
    "\n",
    "print(\"Средняя ошибка SGDRegressor - {:.0f}\".format(mean_squared_error(y_val, prediction, squared=False)))"
   ]
  },
  {
   "cell_type": "code",
   "execution_count": 85,
   "metadata": {},
   "outputs": [
    {
     "data": {
      "text/html": [
       "<div>\n",
       "<style scoped>\n",
       "    .dataframe tbody tr th:only-of-type {\n",
       "        vertical-align: middle;\n",
       "    }\n",
       "\n",
       "    .dataframe tbody tr th {\n",
       "        vertical-align: top;\n",
       "    }\n",
       "\n",
       "    .dataframe thead th {\n",
       "        text-align: right;\n",
       "    }\n",
       "</style>\n",
       "<table border=\"1\" class=\"dataframe\">\n",
       "  <thead>\n",
       "    <tr style=\"text-align: right;\">\n",
       "      <th></th>\n",
       "      <th>month</th>\n",
       "      <th>dayofweek</th>\n",
       "      <th>lag_1</th>\n",
       "      <th>lag_2</th>\n",
       "      <th>rolling_mean_24</th>\n",
       "      <th>last_day</th>\n",
       "      <th>last_week</th>\n",
       "      <th>last_days_mean</th>\n",
       "      <th>sin_hour</th>\n",
       "      <th>cos_hour</th>\n",
       "    </tr>\n",
       "  </thead>\n",
       "  <tbody>\n",
       "    <tr>\n",
       "      <th>0</th>\n",
       "      <td>-1.504585</td>\n",
       "      <td>-0.014020</td>\n",
       "      <td>0.494215</td>\n",
       "      <td>1.403713</td>\n",
       "      <td>-0.917268</td>\n",
       "      <td>0.670291</td>\n",
       "      <td>1.430471</td>\n",
       "      <td>0.034242</td>\n",
       "      <td>-0.002164</td>\n",
       "      <td>1.412733</td>\n",
       "    </tr>\n",
       "    <tr>\n",
       "      <th>1</th>\n",
       "      <td>-1.504585</td>\n",
       "      <td>-0.014020</td>\n",
       "      <td>1.846019</td>\n",
       "      <td>0.493451</td>\n",
       "      <td>-0.857892</td>\n",
       "      <td>1.250896</td>\n",
       "      <td>0.326634</td>\n",
       "      <td>1.560706</td>\n",
       "      <td>0.363816</td>\n",
       "      <td>1.364539</td>\n",
       "    </tr>\n",
       "    <tr>\n",
       "      <th>2</th>\n",
       "      <td>-1.504585</td>\n",
       "      <td>-0.014020</td>\n",
       "      <td>0.052810</td>\n",
       "      <td>1.845052</td>\n",
       "      <td>-0.917268</td>\n",
       "      <td>-1.430944</td>\n",
       "      <td>-0.069615</td>\n",
       "      <td>-1.428620</td>\n",
       "      <td>0.704856</td>\n",
       "      <td>1.223240</td>\n",
       "    </tr>\n",
       "    <tr>\n",
       "      <th>3</th>\n",
       "      <td>-1.504585</td>\n",
       "      <td>-0.014020</td>\n",
       "      <td>-0.305832</td>\n",
       "      <td>0.052112</td>\n",
       "      <td>-0.857892</td>\n",
       "      <td>-0.269735</td>\n",
       "      <td>-0.211133</td>\n",
       "      <td>-0.633586</td>\n",
       "      <td>0.997713</td>\n",
       "      <td>0.998467</td>\n",
       "    </tr>\n",
       "    <tr>\n",
       "      <th>4</th>\n",
       "      <td>-1.504585</td>\n",
       "      <td>-0.014020</td>\n",
       "      <td>-0.223068</td>\n",
       "      <td>-0.306476</td>\n",
       "      <td>-0.857892</td>\n",
       "      <td>-0.076200</td>\n",
       "      <td>-0.862113</td>\n",
       "      <td>-0.951600</td>\n",
       "      <td>1.222430</td>\n",
       "      <td>0.705536</td>\n",
       "    </tr>\n",
       "    <tr>\n",
       "      <th>...</th>\n",
       "      <td>...</td>\n",
       "      <td>...</td>\n",
       "      <td>...</td>\n",
       "      <td>...</td>\n",
       "      <td>...</td>\n",
       "      <td>...</td>\n",
       "      <td>...</td>\n",
       "      <td>...</td>\n",
       "      <td>...</td>\n",
       "      <td>...</td>\n",
       "    </tr>\n",
       "    <tr>\n",
       "      <th>3435</th>\n",
       "      <td>1.416280</td>\n",
       "      <td>1.493154</td>\n",
       "      <td>1.652904</td>\n",
       "      <td>0.714121</td>\n",
       "      <td>1.932764</td>\n",
       "      <td>1.555022</td>\n",
       "      <td>1.543685</td>\n",
       "      <td>1.878720</td>\n",
       "      <td>0.997713</td>\n",
       "      <td>0.998467</td>\n",
       "    </tr>\n",
       "    <tr>\n",
       "      <th>3436</th>\n",
       "      <td>1.416280</td>\n",
       "      <td>1.493154</td>\n",
       "      <td>0.687330</td>\n",
       "      <td>1.651966</td>\n",
       "      <td>1.814013</td>\n",
       "      <td>3.849792</td>\n",
       "      <td>2.138059</td>\n",
       "      <td>2.419342</td>\n",
       "      <td>1.222430</td>\n",
       "      <td>0.705536</td>\n",
       "    </tr>\n",
       "    <tr>\n",
       "      <th>3437</th>\n",
       "      <td>1.416280</td>\n",
       "      <td>1.493154</td>\n",
       "      <td>2.977120</td>\n",
       "      <td>0.686537</td>\n",
       "      <td>1.754637</td>\n",
       "      <td>0.421461</td>\n",
       "      <td>-0.862113</td>\n",
       "      <td>0.129646</td>\n",
       "      <td>1.363693</td>\n",
       "      <td>0.364411</td>\n",
       "    </tr>\n",
       "    <tr>\n",
       "      <th>3438</th>\n",
       "      <td>1.416280</td>\n",
       "      <td>1.493154</td>\n",
       "      <td>0.107986</td>\n",
       "      <td>2.975983</td>\n",
       "      <td>1.754637</td>\n",
       "      <td>-0.877987</td>\n",
       "      <td>-0.352650</td>\n",
       "      <td>-0.887997</td>\n",
       "      <td>1.411875</td>\n",
       "      <td>-0.001661</td>\n",
       "    </tr>\n",
       "    <tr>\n",
       "      <th>3439</th>\n",
       "      <td>1.416280</td>\n",
       "      <td>1.493154</td>\n",
       "      <td>-0.967940</td>\n",
       "      <td>0.107280</td>\n",
       "      <td>1.754637</td>\n",
       "      <td>-1.016227</td>\n",
       "      <td>-0.947024</td>\n",
       "      <td>-1.110606</td>\n",
       "      <td>1.363693</td>\n",
       "      <td>-0.367733</td>\n",
       "    </tr>\n",
       "  </tbody>\n",
       "</table>\n",
       "<p>3440 rows × 10 columns</p>\n",
       "</div>"
      ],
      "text/plain": [
       "         month  dayofweek     lag_1     lag_2  rolling_mean_24  last_day  \\\n",
       "0    -1.504585  -0.014020  0.494215  1.403713        -0.917268  0.670291   \n",
       "1    -1.504585  -0.014020  1.846019  0.493451        -0.857892  1.250896   \n",
       "2    -1.504585  -0.014020  0.052810  1.845052        -0.917268 -1.430944   \n",
       "3    -1.504585  -0.014020 -0.305832  0.052112        -0.857892 -0.269735   \n",
       "4    -1.504585  -0.014020 -0.223068 -0.306476        -0.857892 -0.076200   \n",
       "...        ...        ...       ...       ...              ...       ...   \n",
       "3435  1.416280   1.493154  1.652904  0.714121         1.932764  1.555022   \n",
       "3436  1.416280   1.493154  0.687330  1.651966         1.814013  3.849792   \n",
       "3437  1.416280   1.493154  2.977120  0.686537         1.754637  0.421461   \n",
       "3438  1.416280   1.493154  0.107986  2.975983         1.754637 -0.877987   \n",
       "3439  1.416280   1.493154 -0.967940  0.107280         1.754637 -1.016227   \n",
       "\n",
       "      last_week  last_days_mean  sin_hour  cos_hour  \n",
       "0      1.430471        0.034242 -0.002164  1.412733  \n",
       "1      0.326634        1.560706  0.363816  1.364539  \n",
       "2     -0.069615       -1.428620  0.704856  1.223240  \n",
       "3     -0.211133       -0.633586  0.997713  0.998467  \n",
       "4     -0.862113       -0.951600  1.222430  0.705536  \n",
       "...         ...             ...       ...       ...  \n",
       "3435   1.543685        1.878720  0.997713  0.998467  \n",
       "3436   2.138059        2.419342  1.222430  0.705536  \n",
       "3437  -0.862113        0.129646  1.363693  0.364411  \n",
       "3438  -0.352650       -0.887997  1.411875 -0.001661  \n",
       "3439  -0.947024       -1.110606  1.363693 -0.367733  \n",
       "\n",
       "[3440 rows x 10 columns]"
      ]
     },
     "execution_count": 85,
     "metadata": {},
     "output_type": "execute_result"
    }
   ],
   "source": [
    "x_train_scaled"
   ]
  },
  {
   "cell_type": "code",
   "execution_count": 86,
   "metadata": {},
   "outputs": [
    {
     "data": {
      "text/html": [
       "<div>\n",
       "<style scoped>\n",
       "    .dataframe tbody tr th:only-of-type {\n",
       "        vertical-align: middle;\n",
       "    }\n",
       "\n",
       "    .dataframe tbody tr th {\n",
       "        vertical-align: top;\n",
       "    }\n",
       "\n",
       "    .dataframe thead th {\n",
       "        text-align: right;\n",
       "    }\n",
       "</style>\n",
       "<table border=\"1\" class=\"dataframe\">\n",
       "  <thead>\n",
       "    <tr style=\"text-align: right;\">\n",
       "      <th></th>\n",
       "      <th>month</th>\n",
       "      <th>dayofweek</th>\n",
       "      <th>lag_1</th>\n",
       "      <th>lag_2</th>\n",
       "      <th>rolling_mean_24</th>\n",
       "      <th>last_day</th>\n",
       "      <th>last_week</th>\n",
       "      <th>last_days_mean</th>\n",
       "      <th>sin_hour</th>\n",
       "      <th>cos_hour</th>\n",
       "    </tr>\n",
       "  </thead>\n",
       "  <tbody>\n",
       "    <tr>\n",
       "      <th>3440</th>\n",
       "      <td>1.416280</td>\n",
       "      <td>1.493154</td>\n",
       "      <td>-1.436933</td>\n",
       "      <td>-0.968484</td>\n",
       "      <td>1.695261</td>\n",
       "      <td>-0.076200</td>\n",
       "      <td>-0.522471</td>\n",
       "      <td>0.161447</td>\n",
       "      <td>1.222430</td>\n",
       "      <td>-0.708857</td>\n",
       "    </tr>\n",
       "    <tr>\n",
       "      <th>3441</th>\n",
       "      <td>1.416280</td>\n",
       "      <td>1.493154</td>\n",
       "      <td>-0.388595</td>\n",
       "      <td>-1.437407</td>\n",
       "      <td>1.635886</td>\n",
       "      <td>1.029713</td>\n",
       "      <td>0.015295</td>\n",
       "      <td>1.751514</td>\n",
       "      <td>0.997713</td>\n",
       "      <td>-1.001788</td>\n",
       "    </tr>\n",
       "    <tr>\n",
       "      <th>3442</th>\n",
       "      <td>1.416280</td>\n",
       "      <td>1.493154</td>\n",
       "      <td>0.604567</td>\n",
       "      <td>-0.389227</td>\n",
       "      <td>1.635886</td>\n",
       "      <td>0.891474</td>\n",
       "      <td>-0.550775</td>\n",
       "      <td>1.846918</td>\n",
       "      <td>0.704856</td>\n",
       "      <td>-1.226561</td>\n",
       "    </tr>\n",
       "    <tr>\n",
       "      <th>3443</th>\n",
       "      <td>1.416280</td>\n",
       "      <td>1.493154</td>\n",
       "      <td>-0.223068</td>\n",
       "      <td>0.603786</td>\n",
       "      <td>1.517134</td>\n",
       "      <td>0.780882</td>\n",
       "      <td>0.185116</td>\n",
       "      <td>0.797474</td>\n",
       "      <td>0.363816</td>\n",
       "      <td>-1.367860</td>\n",
       "    </tr>\n",
       "    <tr>\n",
       "      <th>3444</th>\n",
       "      <td>1.416280</td>\n",
       "      <td>1.493154</td>\n",
       "      <td>-0.443771</td>\n",
       "      <td>-0.223725</td>\n",
       "      <td>1.398383</td>\n",
       "      <td>-0.020905</td>\n",
       "      <td>2.109755</td>\n",
       "      <td>0.733871</td>\n",
       "      <td>-0.002164</td>\n",
       "      <td>-1.416054</td>\n",
       "    </tr>\n",
       "    <tr>\n",
       "      <th>...</th>\n",
       "      <td>...</td>\n",
       "      <td>...</td>\n",
       "      <td>...</td>\n",
       "      <td>...</td>\n",
       "      <td>...</td>\n",
       "      <td>...</td>\n",
       "      <td>...</td>\n",
       "      <td>...</td>\n",
       "      <td>...</td>\n",
       "      <td>...</td>\n",
       "    </tr>\n",
       "    <tr>\n",
       "      <th>3818</th>\n",
       "      <td>2.146496</td>\n",
       "      <td>-1.018803</td>\n",
       "      <td>4.273748</td>\n",
       "      <td>1.734717</td>\n",
       "      <td>3.654658</td>\n",
       "      <td>9.987610</td>\n",
       "      <td>1.458774</td>\n",
       "      <td>5.758483</td>\n",
       "      <td>0.704856</td>\n",
       "      <td>1.223240</td>\n",
       "    </tr>\n",
       "    <tr>\n",
       "      <th>3819</th>\n",
       "      <td>2.146496</td>\n",
       "      <td>-1.018803</td>\n",
       "      <td>0.880445</td>\n",
       "      <td>4.272417</td>\n",
       "      <td>2.823399</td>\n",
       "      <td>2.550344</td>\n",
       "      <td>1.345560</td>\n",
       "      <td>2.641952</td>\n",
       "      <td>0.997713</td>\n",
       "      <td>0.998467</td>\n",
       "    </tr>\n",
       "    <tr>\n",
       "      <th>3820</th>\n",
       "      <td>2.146496</td>\n",
       "      <td>-1.018803</td>\n",
       "      <td>3.142647</td>\n",
       "      <td>0.879623</td>\n",
       "      <td>2.882774</td>\n",
       "      <td>1.859148</td>\n",
       "      <td>0.977615</td>\n",
       "      <td>1.624309</td>\n",
       "      <td>1.222430</td>\n",
       "      <td>0.705536</td>\n",
       "    </tr>\n",
       "    <tr>\n",
       "      <th>3821</th>\n",
       "      <td>2.146496</td>\n",
       "      <td>-1.018803</td>\n",
       "      <td>1.735668</td>\n",
       "      <td>3.141485</td>\n",
       "      <td>2.882774</td>\n",
       "      <td>0.200278</td>\n",
       "      <td>-0.663989</td>\n",
       "      <td>-0.379175</td>\n",
       "      <td>1.363693</td>\n",
       "      <td>0.364411</td>\n",
       "    </tr>\n",
       "    <tr>\n",
       "      <th>3822</th>\n",
       "      <td>2.146496</td>\n",
       "      <td>-1.018803</td>\n",
       "      <td>-0.802413</td>\n",
       "      <td>1.734717</td>\n",
       "      <td>2.764023</td>\n",
       "      <td>-0.269735</td>\n",
       "      <td>-0.777203</td>\n",
       "      <td>-0.856196</td>\n",
       "      <td>1.411875</td>\n",
       "      <td>-0.001661</td>\n",
       "    </tr>\n",
       "  </tbody>\n",
       "</table>\n",
       "<p>383 rows × 10 columns</p>\n",
       "</div>"
      ],
      "text/plain": [
       "         month  dayofweek     lag_1     lag_2  rolling_mean_24  last_day  \\\n",
       "3440  1.416280   1.493154 -1.436933 -0.968484         1.695261 -0.076200   \n",
       "3441  1.416280   1.493154 -0.388595 -1.437407         1.635886  1.029713   \n",
       "3442  1.416280   1.493154  0.604567 -0.389227         1.635886  0.891474   \n",
       "3443  1.416280   1.493154 -0.223068  0.603786         1.517134  0.780882   \n",
       "3444  1.416280   1.493154 -0.443771 -0.223725         1.398383 -0.020905   \n",
       "...        ...        ...       ...       ...              ...       ...   \n",
       "3818  2.146496  -1.018803  4.273748  1.734717         3.654658  9.987610   \n",
       "3819  2.146496  -1.018803  0.880445  4.272417         2.823399  2.550344   \n",
       "3820  2.146496  -1.018803  3.142647  0.879623         2.882774  1.859148   \n",
       "3821  2.146496  -1.018803  1.735668  3.141485         2.882774  0.200278   \n",
       "3822  2.146496  -1.018803 -0.802413  1.734717         2.764023 -0.269735   \n",
       "\n",
       "      last_week  last_days_mean  sin_hour  cos_hour  \n",
       "3440  -0.522471        0.161447  1.222430 -0.708857  \n",
       "3441   0.015295        1.751514  0.997713 -1.001788  \n",
       "3442  -0.550775        1.846918  0.704856 -1.226561  \n",
       "3443   0.185116        0.797474  0.363816 -1.367860  \n",
       "3444   2.109755        0.733871 -0.002164 -1.416054  \n",
       "...         ...             ...       ...       ...  \n",
       "3818   1.458774        5.758483  0.704856  1.223240  \n",
       "3819   1.345560        2.641952  0.997713  0.998467  \n",
       "3820   0.977615        1.624309  1.222430  0.705536  \n",
       "3821  -0.663989       -0.379175  1.363693  0.364411  \n",
       "3822  -0.777203       -0.856196  1.411875 -0.001661  \n",
       "\n",
       "[383 rows x 10 columns]"
      ]
     },
     "execution_count": 86,
     "metadata": {},
     "output_type": "execute_result"
    }
   ],
   "source": [
    "x_val_scaled"
   ]
  },
  {
   "cell_type": "markdown",
   "metadata": {},
   "source": [
    "### Ridge"
   ]
  },
  {
   "cell_type": "code",
   "execution_count": 87,
   "metadata": {},
   "outputs": [
    {
     "name": "stdout",
     "output_type": "stream",
     "text": [
      "Средняя ошибка SGDRegressor - 30\n",
      "CPU times: user 41.2 ms, sys: 0 ns, total: 41.2 ms\n",
      "Wall time: 13.1 ms\n"
     ]
    }
   ],
   "source": [
    "%%time\n",
    "model = Ridge(alpha = 0)\n",
    "\n",
    "model.fit(x_train, y_train)\n",
    "pred_train = model.predict(x_train)\n",
    "\n",
    "prediction = model.predict(x_val)\n",
    "\n",
    "print(\"Средняя ошибка SGDRegressor - {:.0f}\".format(mean_squared_error(y_val, prediction, squared=False)))"
   ]
  },
  {
   "cell_type": "markdown",
   "metadata": {},
   "source": [
    "### DecisionTreeRegressor"
   ]
  },
  {
   "cell_type": "code",
   "execution_count": 88,
   "metadata": {},
   "outputs": [],
   "source": [
    "# функция для печати отчета о работе модели\n",
    "is_na = 0\n",
    "\n",
    "def get_report(\n",
    "    model_name=is_na, \n",
    "    best_mse=is_na, \n",
    "    best_depth=is_na):\n",
    "    print('Алгоритм:', model_name)\n",
    "    print('Минимальная RMSE: {:.2f}'.format(best_mse))\n",
    "    print('Самая удачная максимальная глубина: {:.0f}'.format(best_depth))"
   ]
  },
  {
   "cell_type": "markdown",
   "metadata": {},
   "source": [
    "Ниже перебора гиперпараметров фактически нет, оставлены только наиболее удачные, чтобы обучение происходило быстрее."
   ]
  },
  {
   "cell_type": "code",
   "execution_count": 89,
   "metadata": {},
   "outputs": [
    {
     "name": "stderr",
     "output_type": "stream",
     "text": [
      "100%|███████████████████████████████████████████| 23/23 [00:00<00:00, 26.96it/s]\n"
     ]
    },
    {
     "data": {
      "image/png": "[encoded data removed]",
      "text/plain": [
       "<Figure size 720x432 with 1 Axes>"
      ]
     },
     "metadata": {
      "needs_background": "light"
     },
     "output_type": "display_data"
    },
    {
     "name": "stdout",
     "output_type": "stream",
     "text": [
      "Алгоритм: DecisionTreeRegressor\n",
      "Минимальная RMSE: 32.83\n",
      "Самая удачная максимальная глубина: 5\n",
      "CPU times: user 1.75 s, sys: 20 ms, total: 1.77 s\n",
      "Wall time: 1.24 s\n"
     ]
    }
   ],
   "source": [
    "%%time\n",
    "# переменные для сохранения наиболее удачных результатов\n",
    "best_model_tree = None\n",
    "best_depth = 0\n",
    "best_mse = 100\n",
    "\n",
    "# списки для построения графика зависимости результата от глубины дерева\n",
    "results_train = []\n",
    "results_valid = []\n",
    "depths = []\n",
    "\n",
    "# перебор параметров, обучение и выбор лучшей модели:\n",
    "for depth in tqdm(range(3, 26)):\n",
    "    # обучение модели на тренировочной выборке:\n",
    "    model_tree =  DecisionTreeRegressor(random_state=1, max_depth=depth)\n",
    "    model_tree.fit(x_train, y_train)\n",
    "    # предсказания модели на обучающей выборке:\n",
    "    predictions_train = model_tree.predict(x_train)\n",
    "    # расчет mse на обучающей выборке:\n",
    "    mse_train = mean_squared_error(y_train, predictions_train, squared=False)\n",
    "    results_train.append(mse_train)\n",
    "    # предсказания модели на валидационной выборке:\n",
    "    predictions_valid = model_tree.predict(x_val)\n",
    "    # расчет mse на валидационной выборке:\n",
    "    mse_valid = mean_squared_error(y_val, predictions_valid, squared=False)\n",
    "    results_valid.append(mse_valid)\n",
    "    depths.append(depth)\n",
    "    if mse_valid < best_mse:\n",
    "        best_model_tree = model_tree\n",
    "        best_depth_tree = depth\n",
    "        best_mse = mse_valid\n",
    "# построение графика зависимости качества модели от максимальной глубины\n",
    "pd.Series(index=depths, data=results_train).\\\n",
    "    plot(figsize=(10, 6), style='--o')\n",
    "pd.Series(index=depths, data=results_valid).\\\n",
    "    plot(style='--o', grid=True)\n",
    "plt.legend(['Обучающая выборка', 'Валидационная выборка'], fontsize=14)\n",
    "plt.title('Зависимость доли правильных ответов от глубины дерева', pad=20, size=15)\n",
    "plt.xlabel('Максимальная глубина дерева', size=14)\n",
    "plt.ylabel('RMSE', size=14)\n",
    "plt.xticks(ticks=range(3, 26))\n",
    "plt.show()\n",
    "get_report(model_name='DecisionTreeRegressor', best_mse=best_mse,\n",
    "           best_depth=best_depth_tree)"
   ]
  },
  {
   "cell_type": "markdown",
   "metadata": {},
   "source": [
    "### RandomForestRegressor"
   ]
  },
  {
   "cell_type": "markdown",
   "metadata": {},
   "source": [
    "Ниже перебора гиперпараметров фактически нет, оставлены только наиболее удачные, чтобы обучение происходило быстрее."
   ]
  },
  {
   "cell_type": "code",
   "execution_count": 90,
   "metadata": {},
   "outputs": [],
   "source": [
    "# функция подбора гиперпараметров для случайного леса\n",
    "\n",
    "def get_forest(x_train, y_train, x_test, y_test):\n",
    "    \n",
    "    # переменные для сохранения наиболее удачных результатов\n",
    "    best_model_forest = None\n",
    "    best_rmse = 100\n",
    "    best_est = 0\n",
    "    best_depth = 0\n",
    "\n",
    "    # перебор параметров, обучение и выбор лучшей модели\n",
    "    for est in tqdm(range(50, 61, 5)):\n",
    "        for depth in range (5, 6):\n",
    "            model_forest = RandomForestRegressor(random_state=1, \n",
    "                                              n_estimators=est, \n",
    "                                              max_depth=depth)\n",
    "            # обучение модели на тренировочной выборке:\n",
    "            model_forest.fit(x_train, y_train) \n",
    "            \n",
    "            # предсказания модели на валидационной выборке:\n",
    "            prediction = model_forest.predict(x_val) \n",
    "            \n",
    "            # rmse валидационной выборке:\n",
    "            rmse = mean_squared_error(y_val, prediction, squared=False)\n",
    "            \n",
    "            # сохранение параметров наилучшей модели\n",
    "            if rmse < best_rmse:\n",
    "                best_model_forest = model_forest\n",
    "                best_rmse = rmse\n",
    "                best_est = est\n",
    "                best_depth = depth\n",
    "    print(\"Средняя ошибка RandomForestRegressor - {:.0f}\".format(best_rmse))\n",
    "    print(\"Лучшее количество деревьев - {:.0f}\".format(best_est))\n",
    "    print(\"Лучшая глубина - {:.0f}\".format(best_depth))"
   ]
  },
  {
   "cell_type": "code",
   "execution_count": 91,
   "metadata": {
    "scrolled": true
   },
   "outputs": [
    {
     "name": "stderr",
     "output_type": "stream",
     "text": [
      "100%|█████████████████████████████████████████████| 3/3 [00:01<00:00,  2.46it/s]"
     ]
    },
    {
     "name": "stdout",
     "output_type": "stream",
     "text": [
      "Средняя ошибка RandomForestRegressor - 31\n",
      "Лучшее количество деревьев - 60\n",
      "Лучшая глубина - 5\n",
      "CPU times: user 1.22 s, sys: 8.01 ms, total: 1.23 s\n",
      "Wall time: 1.22 s\n"
     ]
    },
    {
     "name": "stderr",
     "output_type": "stream",
     "text": [
      "\n"
     ]
    }
   ],
   "source": [
    "%%time\n",
    "get_forest(x_train, y_train, x_val, y_val)"
   ]
  },
  {
   "cell_type": "markdown",
   "metadata": {},
   "source": [
    "## Тестирование"
   ]
  },
  {
   "cell_type": "code",
   "execution_count": 92,
   "metadata": {},
   "outputs": [],
   "source": [
    "# объединение обучающей и валидационной выборки\n",
    "x_train_full = pd.concat([x_train, x_val])\n",
    "y_train_full = pd.concat([y_train, y_val]) "
   ]
  },
  {
   "cell_type": "code",
   "execution_count": 93,
   "metadata": {},
   "outputs": [
    {
     "name": "stdout",
     "output_type": "stream",
     "text": [
      "Средняя ошибка LinearRegression: - 34\n",
      "CPU times: user 30.4 ms, sys: 212 µs, total: 30.7 ms\n",
      "Wall time: 11.9 ms\n"
     ]
    }
   ],
   "source": [
    "%%time\n",
    "model = LinearRegression()\n",
    "\n",
    "model.fit(x_train_full, y_train_full)\n",
    "prediction = model.predict(x_test)\n",
    "\n",
    "print(\"Средняя ошибка LinearRegression: - {:.0f}\".format(mean_squared_error(y_test, prediction, squared=False)))"
   ]
  },
  {
   "cell_type": "code",
   "execution_count": 94,
   "metadata": {},
   "outputs": [
    {
     "name": "stdout",
     "output_type": "stream",
     "text": [
      "Средняя ошибка SGDRegressor - 34\n",
      "CPU times: user 48.2 ms, sys: 3.74 ms, total: 51.9 ms\n",
      "Wall time: 12.6 ms\n"
     ]
    }
   ],
   "source": [
    "%%time\n",
    "model = Ridge(alpha = 0)\n",
    "\n",
    "model.fit(x_train_full, y_train_full)\n",
    "\n",
    "prediction = model.predict(x_test)\n",
    "\n",
    "print(\"Средняя ошибка SGDRegressor - {:.0f}\".format(mean_squared_error(y_test, prediction, squared=False)))"
   ]
  },
  {
   "cell_type": "markdown",
   "metadata": {},
   "source": [
    "## Проверка на адекватность"
   ]
  },
  {
   "cell_type": "code",
   "execution_count": 95,
   "metadata": {},
   "outputs": [
    {
     "data": {
      "text/plain": [
       "3823     45\n",
       "3824     54\n",
       "3825     91\n",
       "3826    135\n",
       "3827    155\n",
       "       ... \n",
       "4243    207\n",
       "4244    136\n",
       "4245    154\n",
       "4246    159\n",
       "4247    223\n",
       "Name: num_orders, Length: 425, dtype: int64"
      ]
     },
     "execution_count": 95,
     "metadata": {},
     "output_type": "execute_result"
    }
   ],
   "source": [
    "# проверяем на адекватность моделью, которая будет предсказавать значение, равное предыдущему\n",
    "dummy_prediction = pd.Series(y_test.shift(1))\n",
    "# заполняем пропуск предыдущим значением\n",
    "dummy_prediction.iloc[0] = y_train_full.iloc[-1]\n",
    "# таргеты, \"предсказанные\" примитивной моделью\n",
    "dummy_prediction = dummy_prediction.astype(int)\n",
    "dummy_prediction"
   ]
  },
  {
   "cell_type": "code",
   "execution_count": 96,
   "metadata": {},
   "outputs": [
    {
     "data": {
      "text/plain": [
       "3823     54\n",
       "3824     91\n",
       "3825    135\n",
       "3826    155\n",
       "3827    162\n",
       "       ... \n",
       "4243    136\n",
       "4244    154\n",
       "4245    159\n",
       "4246    223\n",
       "4247    205\n",
       "Name: num_orders, Length: 425, dtype: int64"
      ]
     },
     "execution_count": 96,
     "metadata": {},
     "output_type": "execute_result"
    }
   ],
   "source": [
    "# истинные значения\n",
    "y_test"
   ]
  },
  {
   "cell_type": "code",
   "execution_count": 97,
   "metadata": {},
   "outputs": [
    {
     "name": "stdout",
     "output_type": "stream",
     "text": [
      "Средняя ошибка Dummy-модели - 59\n"
     ]
    }
   ],
   "source": [
    "print(\"Средняя ошибка Dummy-модели - {:.0f}\".format(mean_squared_error(y_test, dummy_prediction, squared=False)))"
   ]
  },
  {
   "cell_type": "markdown",
   "metadata": {},
   "source": [
    "Средняя ошибка примитивной Dummy-модели, которая предсказывает значение, равное предыдущему - 59, что значительно выше допустимого значения ошибки и ошибок, полученных на линейных моделях. Следовательно, использование линейных моделей обоснованно."
   ]
  },
  {
   "cell_type": "markdown",
   "metadata": {},
   "source": [
    "## Выводы"
   ]
  },
  {
   "cell_type": "markdown",
   "metadata": {},
   "source": [
    "Целью прокта было на основе данных о заказах такси с марта по сентябрь 2018 года построить модель прогнозирования количества заказов такси на следующий час со средней ошибкой не более 48 заказов.\n",
    "____________\n",
    "\n",
    "\n",
    "Предобработка данных в данном случае не понадобилась.\n",
    "\n",
    "Временной ряд монотонный и приводимый к стационарному.\n",
    "\n",
    "В среднем каждый час заказывали по 84 машины, за один час заказывали от 0 до 462 машин.\n",
    "\n",
    "К концу периода (август-сентябрь) наблюдался значительный рост заказов: в среднем с 55 в марте до 160 заказов в час в конце августа. Пиковые нагрузки также пришлись на август.\n",
    "___________\n",
    "\n",
    "\n",
    "Для понимания заканомерностей и построения моделей были созданы новые признаки:\n",
    "\n",
    "`sin_hour, cos_hour` - синус и косиеус часа\n",
    "\n",
    "`dayofweek` - день недели\n",
    "\n",
    "`month` - месяц\n",
    "\n",
    "`lag_1`, `lag_2`, `lag_3` - предыдущие значения с отставанием на один, два, три часа соответственно\n",
    "\n",
    "`rolling_mean_24` - скользящее среднее за последние 24 часа\n",
    "\n",
    "`last_day` - количество заказов в прогнозируемый час в предыдущие сутки\n",
    "\n",
    "`last_week` - количество заказов в целевой час на предыдущей неделе в тот же день\n",
    "\n",
    "`last_days_mean` - среднее в целевой час за последние 3 дня\n",
    "\n",
    "В среднем на количество заказов рказывают влияние следующие факторы:\n",
    "\n",
    "- время суток\n",
    "\n",
    "- день недели\n",
    "\n",
    "- месяц (общий тренд)\n",
    "\n",
    "- другие факторы.\n",
    "____________\n",
    "\n",
    "\n",
    "Были обучены и подобраны гиперпараметры для различных моделей регрессии со следующими результатами (RMSE) на валидационной выборке:\n",
    "\n",
    "LinearRegression - 30\n",
    "\n",
    "LGBMRegressor (с алгоритмами случайного леса и дерево решений с градинтным бустингом) - 32 и 31 соответственно\n",
    "\n",
    "LGBMModel - 31\n",
    "\n",
    "SGDRegressor - 31\n",
    "\n",
    "Ridge - 30\n",
    "\n",
    "DecisionTreeRegressor (макс. глубина 5) - 33\n",
    "\n",
    "RandomForestRegressor (макс. глубина 5, кол-во деревьев 60) - 31.\n",
    "\n",
    "В целом, на результаты обучения и качество предсказания большее влияние оказала подготовка признаков, чем подбор гиперпараметров.\n",
    "_____________\n",
    "\n",
    "\n",
    "По критерию минимизации ошибки RMSE и времени обучения и предсказания для тестирования были отобраны модели `LinearRegression` и `Ridge`. Ошибка RMSE на тестовой выборке для обеих моделей составила `34 заказа`, что удовлетворяет условиям задачи (менее 48 заказов). Время обучения и предсказания также аналогично для обеих моделей: 15-20 миллисекунд.\n",
    "\n",
    "Проверка модели на адекватность проводилась сравнением с результатом примитивной (Dummy) модели, предсказывающей целевое значение равным предыдущему. Ошибка Dummy-модели оказалась равной 59, что значительно выше целевой и ошибки построенных ранее моделей. Следовательно, использование построенных ранее моделей эффективно и обоснованно."
   ]
  }
 ],
 "metadata": {
  "ExecuteTimeLog": [
   {
    "duration": 72,
    "start_time": "2023-06-15T04:32:12.407Z"
   },
   {
    "duration": 2290,
    "start_time": "2023-06-15T04:32:12.481Z"
   },
   {
    "duration": 148,
    "start_time": "2023-06-15T04:32:14.773Z"
   },
   {
    "duration": 3,
    "start_time": "2023-06-15T04:32:14.924Z"
   },
   {
    "duration": 6,
    "start_time": "2023-06-15T04:32:14.929Z"
   },
   {
    "duration": 10,
    "start_time": "2023-06-15T04:32:14.936Z"
   },
   {
    "duration": 252,
    "start_time": "2023-06-15T04:32:14.947Z"
   },
   {
    "duration": 8,
    "start_time": "2023-06-15T04:32:15.201Z"
   },
   {
    "duration": 304,
    "start_time": "2023-06-15T04:32:15.210Z"
   },
   {
    "duration": 290,
    "start_time": "2023-06-15T04:32:15.516Z"
   },
   {
    "duration": 222,
    "start_time": "2023-06-15T04:32:15.808Z"
   },
   {
    "duration": 776,
    "start_time": "2023-06-15T04:32:16.032Z"
   },
   {
    "duration": 321,
    "start_time": "2023-06-15T04:32:16.810Z"
   },
   {
    "duration": 3,
    "start_time": "2023-06-15T04:32:17.133Z"
   },
   {
    "duration": 34,
    "start_time": "2023-06-15T04:32:17.138Z"
   },
   {
    "duration": 16,
    "start_time": "2023-06-15T04:32:17.173Z"
   },
   {
    "duration": 248,
    "start_time": "2023-06-15T04:32:17.190Z"
   },
   {
    "duration": 11,
    "start_time": "2023-06-15T04:32:17.439Z"
   },
   {
    "duration": 136,
    "start_time": "2023-06-15T04:32:17.452Z"
   },
   {
    "duration": 213,
    "start_time": "2023-06-15T04:32:17.590Z"
   },
   {
    "duration": 142,
    "start_time": "2023-06-15T04:32:17.805Z"
   },
   {
    "duration": 18,
    "start_time": "2023-06-15T04:32:17.951Z"
   },
   {
    "duration": 7,
    "start_time": "2023-06-15T04:32:17.970Z"
   },
   {
    "duration": 30,
    "start_time": "2023-06-15T04:32:17.979Z"
   },
   {
    "duration": 52,
    "start_time": "2023-06-15T04:32:18.011Z"
   },
   {
    "duration": 16398,
    "start_time": "2023-06-15T04:32:18.066Z"
   },
   {
    "duration": 75787,
    "start_time": "2023-06-15T04:32:34.467Z"
   },
   {
    "duration": 81408,
    "start_time": "2023-06-15T04:33:50.262Z"
   },
   {
    "duration": 233,
    "start_time": "2023-06-15T04:35:11.755Z"
   },
   {
    "duration": 76,
    "start_time": "2023-06-15T04:35:11.989Z"
   },
   {
    "duration": 90,
    "start_time": "2023-06-15T04:35:12.068Z"
   },
   {
    "duration": 1087,
    "start_time": "2023-06-15T04:35:12.160Z"
   },
   {
    "duration": 6,
    "start_time": "2023-06-15T04:35:13.259Z"
   },
   {
    "duration": 1008,
    "start_time": "2023-06-15T04:35:13.269Z"
   },
   {
    "duration": 7,
    "start_time": "2023-06-15T04:35:14.279Z"
   },
   {
    "duration": 73,
    "start_time": "2023-06-15T04:35:14.288Z"
   },
   {
    "duration": 28,
    "start_time": "2023-06-15T04:35:14.363Z"
   },
   {
    "duration": 12,
    "start_time": "2023-06-15T04:35:14.452Z"
   },
   {
    "duration": 92,
    "start_time": "2023-06-15T04:35:14.466Z"
   },
   {
    "duration": 7,
    "start_time": "2023-06-15T04:35:14.560Z"
   },
   {
    "duration": 597,
    "start_time": "2023-06-15T04:51:34.939Z"
   },
   {
    "duration": 125,
    "start_time": "2023-06-15T04:52:13.855Z"
   },
   {
    "duration": 3947,
    "start_time": "2023-06-15T04:52:27.426Z"
   }
  ],
  "kernelspec": {
   "display_name": "Python 3 (ipykernel)",
   "language": "python",
   "name": "python3"
  },
  "language_info": {
   "codemirror_mode": {
    "name": "ipython",
    "version": 3
   },
   "file_extension": ".py",
   "mimetype": "text/x-python",
   "name": "python",
   "nbconvert_exporter": "python",
   "pygments_lexer": "ipython3",
   "version": "3.9.7"
  },
  "toc": {
   "base_numbering": 1,
   "nav_menu": {},
   "number_sections": true,
   "sideBar": true,
   "skip_h1_title": true,
   "title_cell": "Содержание",
   "title_sidebar": "Contents",
   "toc_cell": true,
   "toc_position": {
    "height": "calc(100% - 180px)",
    "left": "10px",
    "top": "150px",
    "width": "265px"
   },
   "toc_section_display": true,
   "toc_window_display": true
  }
 },
 "nbformat": 4,
 "nbformat_minor": 2
}
